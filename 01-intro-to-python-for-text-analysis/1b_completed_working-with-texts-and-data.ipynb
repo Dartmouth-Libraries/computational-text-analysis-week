{
 "cells": [
  {
   "cell_type": "markdown",
   "metadata": {},
   "source": [
    "# Intro to Python Notebook 2: Working with Texts (and other data)\n",
    "\n",
    "**A Reproducible Research Workshop**\n",
    "\n",
    "(A Collaboration between Dartmouth Library and Research Computing)\n",
    "\n",
    "[*Click here to view or register for our current list of workshops*](http://dartgo.org/RRADworkshops)\n",
    "\n",
    "*This notebook created by*:\n",
    "+ Version 1.0: Jeremy Mikecz, Research Data Services (Dartmouth Library) with revisions by Mansa Krishna (Earth Science) - (*much thanks Mansa!*)\n",
    "+ Version 2.0: ???\n",
    "<!--\n",
    "+ Some of the inspiration for the code and information in this notebook was taken from https://www.w3schools.com/python/python_intro.asp -- This is a great resource if you want to learn more about Python!-->\n",
    "\n",
    "This is **Notebook 2** of 3 for the **Introduction to Text Analysis in Python** workshop:\n",
    "+ Notebook 1: The Basics - getting started with Python\n",
    "+ **Notebook 2: Working with Texts (and other data) - importing, reviewing, and modifying texts and other data**\n",
    "+ Notebook 3: Dataframes - importing texts and other data, placing this data into a dataframe, and then modifying, analyzing, visualizing, and exporting this data\n",
    "\n",
    "In this lesson, you will learn how to:\n",
    "1. import texts and other data files from your computer\n",
    "2. place data in lists and modify and analyze those lists\n",
    "3. iterate through lists and an entire directory of files\n",
    "4. write functions to create reproducible code\n",
    "<!--1. import multiple text and data files from local folders\n",
    "2. extract data from these files and read this data into data tables (known as \"dataframes\" in Python)-->\n",
    "\n",
    "**Table of Contents**\n",
    "\n",
    "+ I. Built-In Functions and Methods\n",
    "+ II. Python Libraries\n",
    "+ III. Working with Lists\n",
    "+ IV. Looping through Lists\n",
    "+ V. Writing Functions\n",
    "+ VI. Working with Files\n",
    "+ VII. Reading in Text Files\n",
    "+ VIII. Applying Functions to Files\n",
    "\n",
    "<!--\n",
    "+ II. Working with Files\n",
    "+ III. Writing Functions\n",
    "+ IV. Working with Lists\n",
    "+ V. Looping through Lists\n",
    "+ VI. Looping through Files-->"
   ]
  },
  {
   "cell_type": "markdown",
   "metadata": {},
   "source": [
    "## I. Python Built-In Functions and Methods\n",
    "\n",
    "For more on functions, we can refer to a more detailed lesson provided by [**Constellate's** Python 4 lesson](https://lab.constellate.org/perfusion-stearns-eliot/notebooks/tdm-notebooks-2023-04-03T23%3A17%3A07.601Z/python-basics-4.ipynb):\n",
    "\n",
    "**Functions**\n",
    "\n",
    "```\n",
    "You can identify a function by the fact that it ends with a set of parentheses () where arguments can be passed into the function. Depending on the function (and your goals for using it), a function may accept no arguments, a single argument, or many arguments. For example, when we use the print() function, a string (or a variable containing a string) is passed as an argument.\n",
    "\n",
    "Functions are a convenient shorthand, like a mini-program, that makes our code more modular. We don't need to know all the details of how the print() function works in order to use it. Functions are sometimes called \"black boxes\", in that we can put an argument into the box and a return value comes out. We don't need to know the inner details of the \"black box\" to use it. (Of course, as you advance your programming skills, you may become curious about how certain functions work. And if you work with sensitive data, you may need to peer in the black box to ensure the security and accuracy of the output.)\n",
    "```\n",
    "\n",
    "### Ia. Built-in functions\n",
    "\n",
    "With Python alone, a programmer can perform some basic operations using simple functions introduced in Notebook 1, such as **print()**, **len()**, **max()**, **min()**, **sorted()**. To call a built-in function, you simply write the name of the function followed by any arguments you want to pass in placed within parentheses:\n",
    "\n",
    "```\n",
    "name_of_function(argument1, argument2, ...)\n",
    "```\n",
    "\n",
    "Arguments (aka. \"parameters\") are often, but not always optional. \n",
    "\n",
    "As you may recall, to print (output) some information, you would call the **print()** function passing in a text string you want to print. \n",
    "\n",
    "1. Try entering some of the following commands in the code cells below. Compare the results:\n",
    "\n",
    "```\n",
    "print()\n",
    "print(\"Good morning! How are you?\")\n",
    "your_name = \"Bob\"\n",
    "print(\"Hello\", your_name)\n",
    "print(\"Hello\", your_name, \"!\")\n",
    "print(\"Hello \", your_name, \"!\", sep = \"\")\n",
    "\n",
    "country_code = \"+1\"\n",
    "area_code = \"555\"\n",
    "phone_num = \"555-0123\"\n",
    "print(country_code, area_code, phone_num, sep = \"-\")\n",
    "```"
   ]
  },
  {
   "cell_type": "code",
   "execution_count": 1,
   "metadata": {},
   "outputs": [
    {
     "name": "stdout",
     "output_type": "stream",
     "text": [
      "\n"
     ]
    }
   ],
   "source": [
    "print()"
   ]
  },
  {
   "cell_type": "code",
   "execution_count": 2,
   "metadata": {},
   "outputs": [
    {
     "name": "stdout",
     "output_type": "stream",
     "text": [
      "Good morning! How are you?\n"
     ]
    }
   ],
   "source": [
    "print(\"Good morning! How are you?\")"
   ]
  },
  {
   "cell_type": "code",
   "execution_count": 3,
   "metadata": {},
   "outputs": [
    {
     "name": "stdout",
     "output_type": "stream",
     "text": [
      "Hello Bob\n"
     ]
    }
   ],
   "source": [
    "your_name = \"Bob\"\n",
    "print(\"Hello\", your_name)"
   ]
  },
  {
   "cell_type": "code",
   "execution_count": 4,
   "metadata": {},
   "outputs": [
    {
     "name": "stdout",
     "output_type": "stream",
     "text": [
      "Hello Bob !\n"
     ]
    }
   ],
   "source": [
    "print(\"Hello\", your_name, \"!\")"
   ]
  },
  {
   "cell_type": "code",
   "execution_count": 5,
   "metadata": {},
   "outputs": [
    {
     "name": "stdout",
     "output_type": "stream",
     "text": [
      "Hello Bob!\n"
     ]
    }
   ],
   "source": [
    "print(\"Hello \", your_name, \"!\", sep = \"\")"
   ]
  },
  {
   "cell_type": "code",
   "execution_count": 6,
   "metadata": {},
   "outputs": [
    {
     "name": "stdout",
     "output_type": "stream",
     "text": [
      "+1-555-555-0123\n"
     ]
    }
   ],
   "source": [
    "country_code = \"+1\"\n",
    "area_code = \"555\"\n",
    "phone_num = \"555-0123\"\n",
    "print(country_code, area_code, phone_num, sep = \"-\")"
   ]
  },
  {
   "cell_type": "markdown",
   "metadata": {},
   "source": [
    "To learn more about a particular function we can access its documentation using:\n",
    "\n",
    "```\n",
    "?function_name\n",
    "```\n",
    "\n",
    "For example:"
   ]
  },
  {
   "cell_type": "code",
   "execution_count": 7,
   "metadata": {},
   "outputs": [
    {
     "name": "stdout",
     "output_type": "stream",
     "text": [
      "\u001b[1;31mSignature:\u001b[0m \u001b[0mprint\u001b[0m\u001b[1;33m(\u001b[0m\u001b[1;33m*\u001b[0m\u001b[0margs\u001b[0m\u001b[1;33m,\u001b[0m \u001b[0msep\u001b[0m\u001b[1;33m=\u001b[0m\u001b[1;34m' '\u001b[0m\u001b[1;33m,\u001b[0m \u001b[0mend\u001b[0m\u001b[1;33m=\u001b[0m\u001b[1;34m'\\n'\u001b[0m\u001b[1;33m,\u001b[0m \u001b[0mfile\u001b[0m\u001b[1;33m=\u001b[0m\u001b[1;32mNone\u001b[0m\u001b[1;33m,\u001b[0m \u001b[0mflush\u001b[0m\u001b[1;33m=\u001b[0m\u001b[1;32mFalse\u001b[0m\u001b[1;33m)\u001b[0m\u001b[1;33m\u001b[0m\u001b[1;33m\u001b[0m\u001b[0m\n",
      "\u001b[1;31mDocstring:\u001b[0m\n",
      "Prints the values to a stream, or to sys.stdout by default.\n",
      "\n",
      "sep\n",
      "  string inserted between values, default a space.\n",
      "end\n",
      "  string appended after the last value, default a newline.\n",
      "file\n",
      "  a file-like object (stream); defaults to the current sys.stdout.\n",
      "flush\n",
      "  whether to forcibly flush the stream.\n",
      "\u001b[1;31mType:\u001b[0m      builtin_function_or_method"
     ]
    }
   ],
   "source": [
    "?print"
   ]
  },
  {
   "cell_type": "code",
   "execution_count": null,
   "metadata": {},
   "outputs": [],
   "source": []
  },
  {
   "cell_type": "markdown",
   "metadata": {},
   "source": [
    "## Objects in Python\n",
    "\n",
    "Before we dive deeper into more complex elements of Python, we should briefly mention the important concept of _objects_ in programming.\n",
    "\n",
    "An _object_ in this context is some sort of structure that has one or more specific _properties_, which define its _state_. An object also often defines special functions that can interact with these properties called _methods_.\n",
    "\n",
    "Which properties a particular _object_ has is defined by its _class_, which you can think of as a blueprint for the object. Every object of the same class will have the same methods and properties, but the properties might have different values.\n",
    "\n",
    "Every class defines an initialization method that can be used to create a new object of this class. This is called _instantiation_ of an object: The object is an instance of this class.\n",
    "\n",
    "Almost everything in Python is (also) an object! For example, when we type the following code:\n",
    "\n",
    "```{python}\n",
    "x = 3\n",
    "```\n",
    "\n",
    "We are instantiating an object of the class `int`! This is not immediately obvious, because we are using a kind of short-hand by typing inthe literal value of this integer. But Python converts this short-hand into the following:\n"
   ]
  },
  {
   "cell_type": "markdown",
   "metadata": {},
   "source": [
    "Here, we are calling the initialization function of the `int` class, passing the value `3` to it, and receive back an object of type `int`:\n"
   ]
  },
  {
   "cell_type": "code",
   "execution_count": null,
   "metadata": {},
   "outputs": [],
   "source": [
    "x = int(3)\n",
    "isinstance(x, int)"
   ]
  },
  {
   "cell_type": "markdown",
   "metadata": {},
   "source": [
    "This may seem awfully abstract for now! We will encounter many examples of objects and their methods in this workshop series that will hopefully illustrate the usefulness of these concepts.\n"
   ]
  },
  {
   "cell_type": "markdown",
   "metadata": {},
   "source": [
    "### Ib. Methods\n",
    "\n",
    "Methods perform in similar ways to functions. The key difference is that:\n",
    "* functions are independent and can be called by their name only\n",
    "* methods act on objects of a particular class. In plain terms, some methods work only on text strings. Others work only on integers or dataframes.\n",
    "\n",
    "Thus, the syntax for calling a method is:\n",
    "\n",
    "```\n",
    "object_name.method_name()\n",
    "```\n",
    "\n",
    "Examples of [common methods for text strings](https://docs.python.org/3/library/stdtypes.html#text-sequence-type-str) include:\n",
    "+ str.capitalize()\n",
    "+ str.encode()\n",
    "+ str.endswith()\n",
    "+ str.startswith()\n",
    "+ str.lower()\n",
    "+ str.islower()\n",
    "+ str.upper()\n",
    "+ str.isupper()\n",
    "+ str.strip()\n",
    "+ str.replace()\n",
    "+ str.split()\n",
    "\n",
    "Note: \"str\" above refers to either a raw text string such as `\"hello!\"` or a variable that contains a string such as `question = \"what is happening?\"`. To test if an object is a string (str), use the **type()** function, such as: \n",
    "\n",
    "```\n",
    "type(123)\n",
    "type(\"Hello\")\n",
    "type(\"123\")\n",
    "```\n",
    "\n",
    "2. Try typing these commands in the cell below."
   ]
  },
  {
   "cell_type": "code",
   "execution_count": 8,
   "metadata": {},
   "outputs": [
    {
     "name": "stdout",
     "output_type": "stream",
     "text": [
      "<class 'int'>\n",
      "<class 'str'>\n"
     ]
    },
    {
     "data": {
      "text/plain": [
       "str"
      ]
     },
     "execution_count": 8,
     "metadata": {},
     "output_type": "execute_result"
    }
   ],
   "source": [
    "print(type(123))\n",
    "print(type(\"Hello\"))\n",
    "type(\"123\")           #print function not necessary for last line in cell"
   ]
  },
  {
   "cell_type": "markdown",
   "metadata": {},
   "source": [
    "3. Let's see what some of these string methods do:"
   ]
  },
  {
   "cell_type": "code",
   "execution_count": 9,
   "metadata": {},
   "outputs": [],
   "source": [
    "sent = \"  two roads diverged in a wood and I - I took the one less traveled by, and that has made all the difference.   \""
   ]
  },
  {
   "cell_type": "code",
   "execution_count": 10,
   "metadata": {},
   "outputs": [
    {
     "data": {
      "text/plain": [
       "str"
      ]
     },
     "execution_count": 10,
     "metadata": {},
     "output_type": "execute_result"
    }
   ],
   "source": [
    "# try applying some of the string methods listed above to the sentence 'sent'\n",
    "type(sent)"
   ]
  },
  {
   "cell_type": "code",
   "execution_count": 11,
   "metadata": {},
   "outputs": [
    {
     "data": {
      "text/plain": [
       "'  TWO ROADS DIVERGED IN A WOOD AND I - I TOOK THE ONE LESS TRAVELED BY, AND THAT HAS MADE ALL THE DIFFERENCE.   '"
      ]
     },
     "execution_count": 11,
     "metadata": {},
     "output_type": "execute_result"
    }
   ],
   "source": [
    "sent.upper()"
   ]
  },
  {
   "cell_type": "code",
   "execution_count": 12,
   "metadata": {},
   "outputs": [
    {
     "data": {
      "text/plain": [
       "['two',\n",
       " 'roads',\n",
       " 'diverged',\n",
       " 'in',\n",
       " 'a',\n",
       " 'wood',\n",
       " 'and',\n",
       " 'I',\n",
       " '-',\n",
       " 'I',\n",
       " 'took',\n",
       " 'the',\n",
       " 'one',\n",
       " 'less',\n",
       " 'traveled',\n",
       " 'by,',\n",
       " 'and',\n",
       " 'that',\n",
       " 'has',\n",
       " 'made',\n",
       " 'all',\n",
       " 'the',\n",
       " 'difference.']"
      ]
     },
     "execution_count": 12,
     "metadata": {},
     "output_type": "execute_result"
    }
   ],
   "source": [
    "sent.split()"
   ]
  },
  {
   "cell_type": "code",
   "execution_count": 13,
   "metadata": {},
   "outputs": [
    {
     "name": "stdout",
     "output_type": "stream",
     "text": [
      "  two roads diverged in a wood and I - I took the one less traveled by, and that has made all the difference.   \n",
      "two roads diverged in a wood and I - I took the one less traveled by, and that has made all the difference.\n"
     ]
    }
   ],
   "source": [
    "print(sent)\n",
    "print(sent.strip())"
   ]
  },
  {
   "cell_type": "code",
   "execution_count": 14,
   "metadata": {},
   "outputs": [
    {
     "data": {
      "text/plain": [
       "False"
      ]
     },
     "execution_count": 14,
     "metadata": {},
     "output_type": "execute_result"
    }
   ],
   "source": [
    "sent.endswith(\".\")"
   ]
  },
  {
   "cell_type": "code",
   "execution_count": 15,
   "metadata": {},
   "outputs": [
    {
     "data": {
      "text/plain": [
       "True"
      ]
     },
     "execution_count": 15,
     "metadata": {},
     "output_type": "execute_result"
    }
   ],
   "source": [
    "sent.strip().endswith(\".\")   #chaining methods"
   ]
  },
  {
   "cell_type": "code",
   "execution_count": 16,
   "metadata": {},
   "outputs": [
    {
     "data": {
      "text/plain": [
       "'three roads diverged in a wood and I - I took the two less traveled by, and that has made all the difference.'"
      ]
     },
     "execution_count": 16,
     "metadata": {},
     "output_type": "execute_result"
    }
   ],
   "source": [
    "sent = sent.strip()\n",
    "sent.replace(\"two\", \"three\").replace(\"one\", \"two\")"
   ]
  },
  {
   "cell_type": "markdown",
   "metadata": {},
   "source": [
    "4. We can also apply built-in functions to a string object. We outputed information above using the print() function. We can also use the **len()** [length] function."
   ]
  },
  {
   "cell_type": "code",
   "execution_count": 17,
   "metadata": {},
   "outputs": [
    {
     "data": {
      "text/plain": [
       "107"
      ]
     },
     "execution_count": 17,
     "metadata": {},
     "output_type": "execute_result"
    }
   ],
   "source": [
    "len(sent)"
   ]
  },
  {
   "cell_type": "markdown",
   "metadata": {},
   "source": [
    "We will examine some other methods below in the section on lists.\n"
   ]
  },
  {
   "cell_type": "markdown",
   "metadata": {},
   "source": [
    "## II. Python Libraries\n",
    "\n",
    "Beyond the basic functionality provided by Python's built-in functions and methods, if we want to do more advanced or specialized things we need to install and import Python **Libraries** also known as **packages**. \n",
    "\n",
    "A **Python library** is a collection of files (known as **modules**) that each contain **functions** and/or **methods** to complete a set of related tasks. \n",
    "\n",
    "*Confused?* \n",
    "\n",
    "*This can get confusing as some large libraries have multiple sub-packages each with many different modules. In other cases a library consists of a single module.* ***The important thing to know is that you need to import each library or module you want to use.***\n",
    "\n",
    "For more on Python libraries, we can refer to a more detailed lesson provided by [**Constellate's** Python 4 lesson](https://lab.constellate.org/perfusion-stearns-eliot/notebooks/tdm-notebooks-2023-04-03T23%3A17%3A07.601Z/python-basics-4.ipynb):\n",
    "\n",
    "\n",
    "```\n",
    "While Python comes with many functions, there are thousands more that others have written. Adding them all to Python would create mass confusion, since many people could use the same name for functions that do different things. The solution then is that functions are stored in modules that can be imported for use. A module is a Python file (extension \".py\") that contains the definitions for the functions written in Python. These modules (individual Python files) can then be collected into even larger groups called packages and libraries. Depending on how many functions you need for the program you are writing, you may import a single module, a package of modules, or a whole library.\n",
    "```\n",
    "\n",
    "Some commonly used modules are found in [Python's Standard Library](https://docs.python.org/3/library/) - *these are installed with Python and require no separate installation.* \n",
    "\n",
    "Other libraries need to be installed first and then imported.\n",
    "\n",
    "### IIb. Working with core Python Libraries\n",
    "\n",
    "5. First, we will import the [**math module**](https://docs.python.org/3/library/math.html).\n",
    "\n",
    "The syntax for importing a module or library is:\n",
    "\n",
    "```\n",
    "import module_name\n",
    "```"
   ]
  },
  {
   "cell_type": "code",
   "execution_count": 18,
   "metadata": {},
   "outputs": [],
   "source": [
    "import math"
   ]
  },
  {
   "cell_type": "markdown",
   "metadata": {},
   "source": [
    "6. Try experimenting with some functions from the math module (see the [documentation here](https://docs.python.org/3/library/math.html))"
   ]
  },
  {
   "cell_type": "code",
   "execution_count": 19,
   "metadata": {},
   "outputs": [
    {
     "data": {
      "text/plain": [
       "3.141592653589793"
      ]
     },
     "execution_count": 19,
     "metadata": {},
     "output_type": "execute_result"
    }
   ],
   "source": [
    "math.pi"
   ]
  },
  {
   "cell_type": "code",
   "execution_count": 20,
   "metadata": {},
   "outputs": [
    {
     "data": {
      "text/plain": [
       "2"
      ]
     },
     "execution_count": 20,
     "metadata": {},
     "output_type": "execute_result"
    }
   ],
   "source": [
    "math.floor(2.99999)"
   ]
  },
  {
   "cell_type": "code",
   "execution_count": 21,
   "metadata": {},
   "outputs": [
    {
     "data": {
      "text/plain": [
       "6.324555320336759"
      ]
     },
     "execution_count": 21,
     "metadata": {},
     "output_type": "execute_result"
    }
   ],
   "source": [
    "math.dist((2,3), (-4, 1))"
   ]
  },
  {
   "cell_type": "code",
   "execution_count": 22,
   "metadata": {},
   "outputs": [
    {
     "data": {
      "text/plain": [
       "8.0"
      ]
     },
     "execution_count": 22,
     "metadata": {},
     "output_type": "execute_result"
    }
   ],
   "source": [
    "math.sqrt(64)"
   ]
  },
  {
   "cell_type": "markdown",
   "metadata": {},
   "source": [
    "7. There are a variety of Python libraries and modules that help us work with texts. One interesting module that comes with the Python Standard Library is [**difflib**](https://docs.python.org/3/library/difflib.html). It allows us to compare the difference between sequences of text.\n",
    "\n",
    "Examine the code cells below. They apply the **ndiff** function from the difflib library to two lists of words. Examine the results:"
   ]
  },
  {
   "cell_type": "code",
   "execution_count": 23,
   "metadata": {},
   "outputs": [],
   "source": [
    "import difflib\n",
    "sent1 = \"What in the world is going on over there?\".split()\n",
    "sent2 = \"What the heck is goin' on down there?\".split()\n"
   ]
  },
  {
   "cell_type": "code",
   "execution_count": 24,
   "metadata": {},
   "outputs": [
    {
     "name": "stdout",
     "output_type": "stream",
     "text": [
      "  What\n",
      "- in\n",
      "  the\n",
      "- world\n",
      "+ heck\n",
      "  is\n",
      "- going\n",
      "?     ^\n",
      "\n",
      "+ goin'\n",
      "?     ^\n",
      "\n",
      "  on\n",
      "- over\n",
      "+ down\n",
      "  there?\n"
     ]
    }
   ],
   "source": [
    "from difflib import ndiff\n",
    "diff = ndiff(sent1, sent2)\n",
    "print('\\n'.join(diff))\n",
    "\n"
   ]
  },
  {
   "cell_type": "markdown",
   "metadata": {},
   "source": [
    "## III. Working with Lists\n",
    "\n",
    "There are two basic Python data structures for storing ordered sequences of information. These are **lists** and **tuples**. \n",
    "\n",
    "+ **Lists** are enclosed by `[]` and each item is separated by a comma.\n",
    "+ Lists are *mutable*, meaning they can be modified (items can be added, modified, deleted)\n",
    "+ **Tuples** are enclosed by `()` and each item is separated by a comma.\n",
    "+ Tuples are *immutable*, meaning that, once created, they cannot be modified.\n",
    "\n",
    "```\n",
    "a_list_of_numbers = [4, 6, 2]\n",
    "a_tuple_of_numbers = (33, 17, 42, 2)\n",
    "```\n",
    "\n",
    "You can read more about [the differences between tuples and lists here](https://builtin.com/software-engineering-perspectives/python-tuples-vs-lists). Below, however, we focus on lists.\n"
   ]
  },
  {
   "cell_type": "markdown",
   "metadata": {},
   "source": [
    "### IIIa. Creating Lists\n",
    "\n",
    "Storing data in individual variables makes sense when you have a few unique values. \n",
    "\n",
    "However, operating on many individual variables would be tedious and time-consuming. \n",
    "\n",
    "Instead, we can store multiple values under one variable using lists. Say, for example, you want to store quiz scores for a class or multiple race results for a single track athlete. You could store them in a list.\n",
    "\n",
    "```\n",
    "**Scores - Quiz 1**   \n",
    "73.5\n",
    "86.2\n",
    "81.9\n",
    "90.1\n",
    "67.8\n",
    "88.0\n",
    "```/"
   ]
  },
  {
   "cell_type": "markdown",
   "metadata": {},
   "source": [
    "8. So the list of scores for the first quiz could be stored by:"
   ]
  },
  {
   "cell_type": "code",
   "execution_count": 25,
   "metadata": {},
   "outputs": [],
   "source": [
    "# Run this cell by pressing Ctrl+Enter or pressing the play button while selecting this cell.\n",
    "quiz1 = [73.5, 86.2, 81.9, 90.1, 57.8, 88.0]"
   ]
  },
  {
   "cell_type": "markdown",
   "metadata": {},
   "source": [
    "<div class=\"alert alert-info\" role=\"alert\" style=\"color:blue\"><h3 style=\"color:blue;\">Exercises for Part III</h3>\n",
    "    \n",
    "<p style=\"color:blue;\">15. Create a list of at least five of your favorite numbers (or numbers that recall a significant event, person, or stage of your life). Save to the variable **fav_numbers**.</p>\n",
    "</div>"
   ]
  },
  {
   "cell_type": "code",
   "execution_count": 26,
   "metadata": {},
   "outputs": [],
   "source": [
    "fav_numbers = [3, 7, 11, 79, 111, 2012, 2015, 2021, 88888888]"
   ]
  },
  {
   "cell_type": "markdown",
   "metadata": {},
   "source": [
    "<div class=\"alert alert-info\" role=\"alert\" style=\"color:blue\"><p style=\"color:blue;\">16. Create a list of at least five people that have inspired you. Save to the variable **inspirational_people**.</p>\n",
    "\n",
    "<p><i>Note:</i> All character strings must be contained within quotes, such as: </p>\n",
    "    \n",
    "<code>namelist = [\"Aly\", \"Bob\", \"Charlie\"]</code>\n",
    "</div>"
   ]
  },
  {
   "cell_type": "code",
   "execution_count": 27,
   "metadata": {},
   "outputs": [],
   "source": [
    "inspirational_people = [\"Homer Simpson\", \"Abe Simpson\", \"Groundskeeper Willie\", \"Sideshow Bob\", \"Lisa Simpson\", \"Marge\", \"Lenny\", \"Karl\"]"
   ]
  },
  {
   "cell_type": "markdown",
   "metadata": {},
   "source": [
    "<div class=\"alert alert-info\" role=\"alert\" style=\"color:blue\"><p style=\"color:blue;\">17. Now, print out each of these lists.</p></div>"
   ]
  },
  {
   "cell_type": "code",
   "execution_count": 28,
   "metadata": {},
   "outputs": [
    {
     "name": "stdout",
     "output_type": "stream",
     "text": [
      "[3, 7, 11, 79, 111, 2012, 2015, 2021, 88888888]\n",
      "['Homer Simpson', 'Abe Simpson', 'Groundskeeper Willie', 'Sideshow Bob', 'Lisa Simpson', 'Marge', 'Lenny', 'Karl']\n"
     ]
    },
    {
     "data": {
      "text/plain": [
       "['Homer Simpson',\n",
       " 'Abe Simpson',\n",
       " 'Groundskeeper Willie',\n",
       " 'Sideshow Bob',\n",
       " 'Lisa Simpson',\n",
       " 'Marge',\n",
       " 'Lenny',\n",
       " 'Karl']"
      ]
     },
     "execution_count": 28,
     "metadata": {},
     "output_type": "execute_result"
    }
   ],
   "source": [
    "print(fav_numbers)\n",
    "print(inspirational_people) #note: for long variables you can just type the first few letters and a list of options of variables saved in memory will appear.\n",
    "                             #or you can press TAB to auto-complete the variable name\n",
    "inspirational_people    #print not necessary to output last line in a cell, but noticed how it is outputed differently"
   ]
  },
  {
   "cell_type": "markdown",
   "metadata": {},
   "source": [
    "<div class=\"alert alert-info\" role=\"alert\" style=\"color:blue\"><p>18. Print out the length of each of these lists using the **len()** function.</p>\n",
    "</div>"
   ]
  },
  {
   "cell_type": "code",
   "execution_count": 29,
   "metadata": {},
   "outputs": [
    {
     "name": "stdout",
     "output_type": "stream",
     "text": [
      "9\n"
     ]
    },
    {
     "data": {
      "text/plain": [
       "8"
      ]
     },
     "execution_count": 29,
     "metadata": {},
     "output_type": "execute_result"
    }
   ],
   "source": [
    "print(len(fav_numbers))\n",
    "len(inspirational_people)"
   ]
  },
  {
   "cell_type": "markdown",
   "metadata": {},
   "source": [
    "<div class=\"alert alert-info\" role=\"alert\" style=\"color:blue\"><p style=\"color:blue;\">19. Print out the maximum value from each list.</p>\n",
    "</div>"
   ]
  },
  {
   "cell_type": "code",
   "execution_count": 30,
   "metadata": {},
   "outputs": [
    {
     "name": "stdout",
     "output_type": "stream",
     "text": [
      "88888888\n",
      "Sideshow Bob\n"
     ]
    }
   ],
   "source": [
    "print(max(fav_numbers))\n",
    "print(max(inspirational_people))"
   ]
  },
  {
   "cell_type": "code",
   "execution_count": null,
   "metadata": {},
   "outputs": [],
   "source": []
  },
  {
   "cell_type": "markdown",
   "metadata": {},
   "source": [
    "19b. *As we already learned, **len()** works on characters strings as well as lists.* But, it counts character strings differently. Run the following code and then calculate the length of each variable. What do you notice?"
   ]
  },
  {
   "cell_type": "code",
   "execution_count": 31,
   "metadata": {},
   "outputs": [
    {
     "name": "stdout",
     "output_type": "stream",
     "text": [
      "['This', 'is', 'a', 'sentence.']\n"
     ]
    }
   ],
   "source": [
    "sent = \"This is a sentence.\"\n",
    "words = sent.split()\n",
    "print(words)"
   ]
  },
  {
   "cell_type": "code",
   "execution_count": 32,
   "metadata": {},
   "outputs": [
    {
     "name": "stdout",
     "output_type": "stream",
     "text": [
      "19\n",
      "4\n"
     ]
    }
   ],
   "source": [
    "#calculate the length of \"sent\" and \"words\".\n",
    "print(len(sent))\n",
    "print(len(words))"
   ]
  },
  {
   "cell_type": "markdown",
   "metadata": {},
   "source": [
    "### IIIb. List Indexes and Slices"
   ]
  },
  {
   "cell_type": "markdown",
   "metadata": {},
   "source": [
    "We can retrieve portions of the list using indexes and slices. \n",
    "\n",
    "One important note: in Python the first item in a series is always considered number 0.\n",
    "\n",
    "20. Thus, to retrieve the first item in our list (that is, the first quiz score), you would simply run:"
   ]
  },
  {
   "cell_type": "code",
   "execution_count": 33,
   "metadata": {},
   "outputs": [
    {
     "data": {
      "text/plain": [
       "73.5"
      ]
     },
     "execution_count": 33,
     "metadata": {},
     "output_type": "execute_result"
    }
   ],
   "source": [
    "quiz1[0]"
   ]
  },
  {
   "cell_type": "markdown",
   "metadata": {},
   "source": [
    "<div class=\"alert alert-info\" role=\"alert\" style=\"color:blue\">\n",
    "    <p>21. Using the same format, now try retrieving the 3rd person from your list of inspirational people.</p>\n",
    "</div>"
   ]
  },
  {
   "cell_type": "code",
   "execution_count": 34,
   "metadata": {},
   "outputs": [
    {
     "data": {
      "text/plain": [
       "'Groundskeeper Willie'"
      ]
     },
     "execution_count": 34,
     "metadata": {},
     "output_type": "execute_result"
    }
   ],
   "source": [
    "inspirational_people[2]"
   ]
  },
  {
   "cell_type": "markdown",
   "metadata": {},
   "source": [
    "Now imagine you have a long list. You can identify the last item in a list by using the index [-1]. For example:\n",
    "\n",
    "```\n",
    "name-of-list[-1]\n",
    "```\n",
    "<div class=\"alert alert-info\" role=\"alert\" style=\"color:blue\">\n",
    "    <p><b>22. Code Together</b>: Try that below with our list of quiz scores.</p>\n",
    "</div>\n"
   ]
  },
  {
   "cell_type": "code",
   "execution_count": 35,
   "metadata": {},
   "outputs": [
    {
     "data": {
      "text/plain": [
       "88.0"
      ]
     },
     "execution_count": 35,
     "metadata": {},
     "output_type": "execute_result"
    }
   ],
   "source": [
    "quiz1[-1]"
   ]
  },
  {
   "cell_type": "markdown",
   "metadata": {},
   "source": [
    "<div class=\"alert alert-info\" role=\"alert\" style=\"color:blue\">\n",
    "    <p>23. Indexing beyond the end of the list will produce an \"IndexError\". Try, for example, retrieving the 100th item in our list of quiz scores.</p>\n",
    "</div>"
   ]
  },
  {
   "cell_type": "code",
   "execution_count": 36,
   "metadata": {},
   "outputs": [],
   "source": [
    "#quiz1[99]     #will cause an IndexError if uncommented out"
   ]
  },
  {
   "cell_type": "markdown",
   "metadata": {},
   "source": [
    "To retrieve multiple, consecutive items from a list, we can use **slices**.\n",
    "\n",
    "The format is as follows:\n",
    "\n",
    "```\n",
    "name-of-list[start:end]\n",
    "\n",
    "```\n",
    "\n",
    "List slices begin with the start number but end one number before the end number.\n",
    "\n",
    "So, **\"start\"** is the index of the first item of the list (starting with zero) and\n",
    "**\"end\"** is the index of the last item in the list + 1.\n",
    "\n",
    "24. Run the cell below"
   ]
  },
  {
   "cell_type": "code",
   "execution_count": 37,
   "metadata": {},
   "outputs": [
    {
     "data": {
      "text/plain": [
       "[73.5, 86.2]"
      ]
     },
     "execution_count": 37,
     "metadata": {},
     "output_type": "execute_result"
    }
   ],
   "source": [
    "quiz1[0:2]"
   ]
  },
  {
   "cell_type": "markdown",
   "metadata": {},
   "source": [
    "<div class=\"alert alert-info\" role=\"alert\" style=\"color:blue\">\n",
    "    <h3> Exercise</h3>\n",
    "    <p>25. Using this format, retrieve the second through fourth item in our list. Compare the results to our original list. If you did it wrong, adjust the indices you are using.</p>\n",
    "</div>"
   ]
  },
  {
   "cell_type": "code",
   "execution_count": 38,
   "metadata": {},
   "outputs": [
    {
     "data": {
      "text/plain": [
       "[86.2, 81.9, 90.1]"
      ]
     },
     "execution_count": 38,
     "metadata": {},
     "output_type": "execute_result"
    }
   ],
   "source": [
    "# remember that incrementing starts at 0!\n",
    "quiz1[1:4] "
   ]
  },
  {
   "cell_type": "code",
   "execution_count": null,
   "metadata": {},
   "outputs": [],
   "source": []
  },
  {
   "cell_type": "markdown",
   "metadata": {},
   "source": [
    "### IIIc. Lists with Operators, Functions, and list methods"
   ]
  },
  {
   "cell_type": "markdown",
   "metadata": {},
   "source": [
    "26. Create two lists of integers. Try applying different operands to the lists `+ - * / **`."
   ]
  },
  {
   "cell_type": "code",
   "execution_count": 39,
   "metadata": {},
   "outputs": [],
   "source": [
    "a = [3,2,1,4]\n",
    "b = [5,8,7,6]"
   ]
  },
  {
   "cell_type": "code",
   "execution_count": 40,
   "metadata": {},
   "outputs": [
    {
     "data": {
      "text/plain": [
       "[3, 2, 1, 4, 5, 8, 7, 6]"
      ]
     },
     "execution_count": 40,
     "metadata": {},
     "output_type": "execute_result"
    }
   ],
   "source": [
    "a + b"
   ]
  },
  {
   "cell_type": "code",
   "execution_count": 41,
   "metadata": {},
   "outputs": [
    {
     "data": {
      "text/plain": [
       "[3, 2, 1, 4, 3, 2, 1, 4]"
      ]
     },
     "execution_count": 41,
     "metadata": {},
     "output_type": "execute_result"
    }
   ],
   "source": [
    "#a * b\n",
    "a * 2"
   ]
  },
  {
   "cell_type": "code",
   "execution_count": 42,
   "metadata": {},
   "outputs": [],
   "source": [
    "#b - a"
   ]
  },
  {
   "cell_type": "code",
   "execution_count": 43,
   "metadata": {},
   "outputs": [
    {
     "name": "stdout",
     "output_type": "stream",
     "text": [
      "[3, 2, 1, 4, 5, 8, 7, 6, 29, 13, 62]\n"
     ]
    }
   ],
   "source": [
    "c = a + b + [29,13,62]\n",
    "print(c)"
   ]
  },
  {
   "cell_type": "markdown",
   "metadata": {},
   "source": [
    "27. Like most things in Python, there is almost always multiple ways to perform a particular task. For example, to sort a list, you may either use the **sorted()** function or the **.sort()** method. The main difference is that:\n",
    "+ the **.sort()** method permanently sorts the values of the list\n",
    "+ while the **sorted()** function just temporarily outputs the new, sorted version of the list (unless you save it over the old list name or under a new list name)"
   ]
  },
  {
   "cell_type": "code",
   "execution_count": 44,
   "metadata": {},
   "outputs": [
    {
     "name": "stdout",
     "output_type": "stream",
     "text": [
      "[1, 2, 3, 4, 5, 6, 7, 8, 13, 29, 62]\n",
      "[3, 2, 1, 4, 5, 8, 7, 6, 29, 13, 62]\n"
     ]
    }
   ],
   "source": [
    "print(sorted(c))  # the sorted function only outputs a sorted list, to save it type: c = sorted(c)\n",
    "print(c)"
   ]
  },
  {
   "cell_type": "code",
   "execution_count": 45,
   "metadata": {},
   "outputs": [
    {
     "name": "stdout",
     "output_type": "stream",
     "text": [
      "[1, 2, 3, 4, 5, 6, 7, 8, 13, 29, 62]\n"
     ]
    }
   ],
   "source": [
    "c.sort()     # .sort() methods sorts a list in place\n",
    "print(c)"
   ]
  },
  {
   "cell_type": "code",
   "execution_count": 46,
   "metadata": {},
   "outputs": [
    {
     "name": "stdout",
     "output_type": "stream",
     "text": [
      "[62, 29, 13, 8, 7, 6, 5, 4, 3, 2, 1]\n"
     ]
    }
   ],
   "source": [
    "c.sort(reverse = True)\n",
    "print(c)"
   ]
  },
  {
   "cell_type": "markdown",
   "metadata": {},
   "source": [
    "<div class=\"alert alert-info\" role=\"alert\" style=\"color:blue\">\n",
    "    <h3> Exercise</h3>\n",
    "    <p>27b. Sort your list of inspirational people. Make sure to save the new sorted list. Then sort it in reverse and save it to a separate list.</p>\n",
    "</div>"
   ]
  },
  {
   "cell_type": "code",
   "execution_count": null,
   "metadata": {},
   "outputs": [],
   "source": []
  },
  {
   "cell_type": "markdown",
   "metadata": {},
   "source": [
    "### IIId. Modifying a List\n",
    "\n",
    "There are multiple ways to modify a list. These include following methods:\n",
    "\n",
    "+ **.append()**\n",
    "+ **.extend()**\n",
    "+ **.pop()**\n",
    "\n",
    "\n",
    "28. Try applying these methods to some of the lists we have already created. Remember the format is:\n",
    "\n",
    "```\n",
    "list_name.list-method(parameters)\n",
    "```"
   ]
  },
  {
   "cell_type": "code",
   "execution_count": 47,
   "metadata": {},
   "outputs": [
    {
     "name": "stdout",
     "output_type": "stream",
     "text": [
      "[73.5, 86.2, 81.9, 90.1, 57.8, 88.0]\n",
      "[73.5, 86.2, 81.9, 90.1, 57.8, 88.0, 96.6]\n"
     ]
    }
   ],
   "source": [
    "print(quiz1)\n",
    "quiz1.append(96.6) # appending an element to the list\n",
    "print(quiz1)\n",
    "\n",
    "#run this cell multiple times to see what happens"
   ]
  },
  {
   "cell_type": "code",
   "execution_count": 48,
   "metadata": {},
   "outputs": [
    {
     "name": "stdout",
     "output_type": "stream",
     "text": [
      "[73.5, 86.2, 81.9, 90.1, 57.8, 88.0, 96.6]\n",
      "[73.5, 86.2, 81.9, 90.1, 57.8, 88.0, 96.6, 78.7, 94.0, 89.3]\n"
     ]
    }
   ],
   "source": [
    "print(quiz1)\n",
    "quiz_group2 = [78.7, 94.0, 89.3]\n",
    "quiz1.extend(quiz_group2)\n",
    "print(quiz1)"
   ]
  },
  {
   "cell_type": "code",
   "execution_count": 49,
   "metadata": {},
   "outputs": [
    {
     "name": "stdout",
     "output_type": "stream",
     "text": [
      "[73.5, 86.2, 81.9, 90.1, 57.8, 88.0, 96.6, 78.7, 94.0, 89.3]\n",
      "[73.5, 86.2, 81.9, 90.1, 57.8, 88.0, 96.6, 78.7, 94.0]\n"
     ]
    }
   ],
   "source": [
    "print(quiz1)\n",
    "quiz1.pop()\n",
    "print(quiz1)"
   ]
  },
  {
   "cell_type": "markdown",
   "metadata": {},
   "source": [
    "Often, there are multiple ways to accomplished the same thing. For example:"
   ]
  },
  {
   "cell_type": "code",
   "execution_count": 50,
   "metadata": {},
   "outputs": [
    {
     "name": "stdout",
     "output_type": "stream",
     "text": [
      "[73.5, 86.2, 81.9, 90.1, 57.8, 88.0, 96.6, 78.7, 94.0]\n",
      "[73.5, 86.2, 81.9, 90.1, 57.8, 88.0, 96.6, 78.7, 94.0, 88.9, 93.3, 98.6]\n"
     ]
    }
   ],
   "source": [
    "print(quiz1)\n",
    "quiz_group3 = [88.9, 93.3, 98.6]\n",
    "quiz1 = quiz1 + quiz_group3 # notice that we've used '+' here!\n",
    "print(quiz1)"
   ]
  },
  {
   "cell_type": "code",
   "execution_count": 51,
   "metadata": {},
   "outputs": [
    {
     "data": {
      "text/plain": [
       "98.6"
      ]
     },
     "execution_count": 51,
     "metadata": {},
     "output_type": "execute_result"
    }
   ],
   "source": [
    "# We can also use built-in functions with lists\n",
    "max(quiz1) # returns the maximum value in a list"
   ]
  },
  {
   "cell_type": "markdown",
   "metadata": {},
   "source": [
    "<div class=\"alert alert-info\" role=\"alert\" style=\"color:blue\"><h3 style=\"color:blue;\">Exercises for Part IIId</h3>\n",
    "    \n",
    "<p style=\"color:blue;\">29. Create a list of some of your favorite musicians, actors, or writers (at least 4).</p>\n",
    "</div>"
   ]
  },
  {
   "cell_type": "code",
   "execution_count": 52,
   "metadata": {},
   "outputs": [],
   "source": [
    "other_favs = [\"The Edge\", \"Adele\", \"Fergie\", \"Gaga, Lady\", \"Cher\", \"Bono\", \"Drake\"]    #I'm using musicians who go by one name because I am lazy."
   ]
  },
  {
   "cell_type": "markdown",
   "metadata": {},
   "source": [
    "<div class=\"alert alert-info\" role=\"alert\" style=\"color:blue\"><p style=\"color:blue;\">30. Add that list to your list of inspirational people. Print out this new list.</p></div>"
   ]
  },
  {
   "cell_type": "code",
   "execution_count": 53,
   "metadata": {},
   "outputs": [
    {
     "name": "stdout",
     "output_type": "stream",
     "text": [
      "['Homer Simpson', 'Abe Simpson', 'Groundskeeper Willie', 'Sideshow Bob', 'Lisa Simpson', 'Marge', 'Lenny', 'Karl', 'The Edge', 'Adele', 'Fergie', 'Gaga, Lady', 'Cher', 'Bono', 'Drake']\n"
     ]
    }
   ],
   "source": [
    "inspirational_people.extend(other_favs)\n",
    "print(inspirational_people)"
   ]
  },
  {
   "cell_type": "markdown",
   "metadata": {},
   "source": [
    "<div class=\"alert alert-info\" role=\"alert\" style=\"color:blue\"><p style=\"color:blue;\">31. Calculate the number of people in your inspirational_people list. Then replace the 3rd to last person with another important person to you.</p>\n",
    "\n",
    "<p>For example, if a student retook their 4th quiz you could replace it with:</p>\n",
    "<code>quiz_scores[3] = 88</code>\n",
    "</div>"
   ]
  },
  {
   "cell_type": "code",
   "execution_count": 54,
   "metadata": {},
   "outputs": [
    {
     "name": "stdout",
     "output_type": "stream",
     "text": [
      "15\n"
     ]
    }
   ],
   "source": [
    "print(len(inspirational_people))"
   ]
  },
  {
   "cell_type": "code",
   "execution_count": 55,
   "metadata": {},
   "outputs": [
    {
     "name": "stdout",
     "output_type": "stream",
     "text": [
      "['Homer Simpson', 'Abe Simpson', 'Groundskeeper Willie', 'Sideshow Bob', 'Lisa Simpson', 'Marge', 'Lenny', 'Karl', 'The Edge', 'Adele', 'Fergie', 'Gaga, Lady', 'Chuck', 'Bono', 'Drake']\n"
     ]
    }
   ],
   "source": [
    "inspirational_people[-3] = \"Chuck\"\n",
    "print(inspirational_people)"
   ]
  },
  {
   "cell_type": "markdown",
   "metadata": {},
   "source": [
    "33. Run the following code. What does the **set()** function do?"
   ]
  },
  {
   "cell_type": "code",
   "execution_count": 56,
   "metadata": {},
   "outputs": [
    {
     "name": "stdout",
     "output_type": "stream",
     "text": [
      "{1, 2, 3, 4, 5, 67, 7, 8, 9, 12, 16, 23}\n"
     ]
    }
   ],
   "source": [
    "numbers = [12,4,5,2,3,2,2,4,7,8,9,2,3,1,2,1,1,2,1,4,67,3,5,3,5,7,4,1,3,2,4,1,7,2,16,23,4,5]\n",
    "print(set(numbers))"
   ]
  },
  {
   "cell_type": "markdown",
   "metadata": {},
   "source": [
    "<div class=\"alert alert-info\" role=\"alert\" style=\"color:blue\"><h3 style=\"color:blue;\">Exercises for Part IIId (continued)</h3>\n",
    "    \n",
    "<p style=\"color:blue;\">35. Print out a list of your inspirational people, sorted in descending order.</p></div>"
   ]
  },
  {
   "cell_type": "code",
   "execution_count": 57,
   "metadata": {},
   "outputs": [
    {
     "name": "stdout",
     "output_type": "stream",
     "text": [
      "['The Edge', 'Sideshow Bob', 'Marge', 'Lisa Simpson', 'Lenny', 'Karl', 'Homer Simpson', 'Groundskeeper Willie', 'Gaga, Lady', 'Fergie', 'Drake', 'Chuck', 'Bono', 'Adele', 'Abe Simpson']\n"
     ]
    }
   ],
   "source": [
    "print(sorted(inspirational_people, reverse = True))"
   ]
  },
  {
   "cell_type": "markdown",
   "metadata": {},
   "source": [
    "<div class=\"alert alert-info\" role=\"alert\" style=\"color:blue\"><p style=\"color:blue;\">37. Apply the **min()** and **max()** functions to your list of inspirational_people. What happens?</p></div>"
   ]
  },
  {
   "cell_type": "code",
   "execution_count": 58,
   "metadata": {},
   "outputs": [
    {
     "name": "stdout",
     "output_type": "stream",
     "text": [
      "Abe Simpson\n",
      "The Edge\n"
     ]
    }
   ],
   "source": [
    "print(min(inspirational_people))\n",
    "print(max(inspirational_people))\n"
   ]
  },
  {
   "cell_type": "markdown",
   "metadata": {},
   "source": [
    "## IV. Looping through Lists\n",
    "\n",
    "Often we want to examine or modify each individual item in a list. An easy way to iterate over a list is using a **for loop**. The general structure of a for loop is:\n",
    "\n",
    "```\n",
    "for item in named_list:\n",
    "    [instructions for what to do with each item]\n",
    "```\n",
    "\n",
    "In such for loops, named_list must be an already established list. \"item\", however, is an arbitrary variable name we are assigning to each item in the list. \n",
    "\n",
    "38. Run the simple for loop below:\n"
   ]
  },
  {
   "cell_type": "code",
   "execution_count": 59,
   "metadata": {},
   "outputs": [
    {
     "name": "stdout",
     "output_type": "stream",
     "text": [
      "Thor\n",
      "Black Widow\n",
      "Loki\n",
      "Iron Man\n"
     ]
    }
   ],
   "source": [
    "student_names = [\"Thor\", \"Black Widow\", \"Loki\", \"Iron Man\"]\n",
    "for name in student_names:  #note: student_names is an already defined list; *name* is assigned here to each individual item in this list\n",
    "    print(name)"
   ]
  },
  {
   "cell_type": "markdown",
   "metadata": {},
   "source": [
    "39. We can use for loops to modify items in a list. \n",
    "\n",
    "For example, see what happens when we apply the **.lower()** method to each item in our student_names_sorted list."
   ]
  },
  {
   "cell_type": "code",
   "execution_count": 60,
   "metadata": {},
   "outputs": [
    {
     "name": "stdout",
     "output_type": "stream",
     "text": [
      "black widow\n",
      "iron man\n",
      "loki\n",
      "thor\n"
     ]
    }
   ],
   "source": [
    "sorted_names = sorted(student_names)\n",
    "for name in sorted_names:\n",
    "    print(name.lower())"
   ]
  },
  {
   "cell_type": "markdown",
   "metadata": {},
   "source": [
    "<div class=\"alert alert-info\" role=\"alert\" style=\"color:blue\"><h3 style=\"color:blue;\">Exercises for Part IV </h3>\n",
    "    \n",
    "<p style=\"color:blue;\">40. Can you guess how to convert all student names into uppercase? Try to do so below:</p>\n",
    "</div>"
   ]
  },
  {
   "cell_type": "code",
   "execution_count": 61,
   "metadata": {},
   "outputs": [
    {
     "name": "stdout",
     "output_type": "stream",
     "text": [
      "BLACK WIDOW\n",
      "IRON MAN\n",
      "LOKI\n",
      "THOR\n"
     ]
    }
   ],
   "source": [
    "sorted_names = sorted(student_names)\n",
    "for name in sorted_names:\n",
    "    print(name.upper())   #note: this just prints out each name that has been converted to upper case. To save these new upper-cased names into memory see the next step:"
   ]
  },
  {
   "cell_type": "markdown",
   "metadata": {},
   "source": [
    "41. To save these variations, we need to save them to a new list. We can do so using the following formula:\n",
    "\n",
    "```\n",
    "new_list = []  #creates a new, empty list\n",
    "for item in existing_list:\n",
    "    new_item = [modify original item]\n",
    "    new_list.append(new_item)\n",
    "```"
   ]
  },
  {
   "cell_type": "code",
   "execution_count": 62,
   "metadata": {},
   "outputs": [],
   "source": [
    "student_names_lower = []\n",
    "for name in sorted_names:\n",
    "    lower_name = name.lower()\n",
    "    student_names_lower.append(lower_name)"
   ]
  },
  {
   "cell_type": "markdown",
   "metadata": {},
   "source": [
    "42. Print out this new list:"
   ]
  },
  {
   "cell_type": "code",
   "execution_count": 63,
   "metadata": {},
   "outputs": [
    {
     "name": "stdout",
     "output_type": "stream",
     "text": [
      "['black widow', 'iron man', 'loki', 'thor']\n"
     ]
    }
   ],
   "source": [
    "print(student_names_lower)"
   ]
  },
  {
   "cell_type": "markdown",
   "metadata": {},
   "source": [
    "### IVb. List Comprehensions\n",
    "\n",
    "We can do the same thing, but more concisely, with a **list comprehension**. The formula for a list comprehension is:\n",
    "\n",
    "```\n",
    "new_list = [new_item for item in existing_list]\n",
    "\n",
    "```\n",
    "\n",
    "43. An example is below, this time using the **.swapcase()** method for strings:"
   ]
  },
  {
   "cell_type": "code",
   "execution_count": 64,
   "metadata": {},
   "outputs": [
    {
     "name": "stdout",
     "output_type": "stream",
     "text": [
      "['bLACK wIDOW', 'iRON mAN', 'lOKI', 'tHOR']\n"
     ]
    }
   ],
   "source": [
    "student_names_swapped = [name.swapcase() for name in sorted_names]\n",
    "print(student_names_swapped)"
   ]
  },
  {
   "cell_type": "markdown",
   "metadata": {},
   "source": [
    "<div class=\"alert alert-info\" role=\"alert\" style=\"color:blue\"><h3 style=\"color:blue;\">Exercises for Part IV (continued)</h3>\n",
    "    \n",
    "<p style=\"color:blue;\">44. Create a new list of your inspirational people, but converted to upper case.</p>\n",
    "</div>"
   ]
  },
  {
   "cell_type": "code",
   "execution_count": 65,
   "metadata": {},
   "outputs": [
    {
     "name": "stdout",
     "output_type": "stream",
     "text": [
      "['HOMER SIMPSON', 'ABE SIMPSON', 'GROUNDSKEEPER WILLIE', 'SIDESHOW BOB', 'LISA SIMPSON', 'MARGE', 'LENNY', 'KARL', 'THE EDGE', 'ADELE', 'FERGIE', 'GAGA, LADY', 'CHUCK', 'BONO', 'DRAKE']\n"
     ]
    }
   ],
   "source": [
    "\n",
    "# we can do this using a traditional for loop\n",
    "upper_list = []\n",
    "\n",
    "for name in inspirational_people:\n",
    "    upper_list.append(name.upper())\n",
    "\n",
    "print(upper_list)"
   ]
  },
  {
   "cell_type": "code",
   "execution_count": 66,
   "metadata": {},
   "outputs": [
    {
     "name": "stdout",
     "output_type": "stream",
     "text": [
      "['HOMER SIMPSON', 'ABE SIMPSON', 'GROUNDSKEEPER WILLIE', 'SIDESHOW BOB', 'LISA SIMPSON', 'MARGE', 'LENNY', 'KARL', 'THE EDGE', 'ADELE', 'FERGIE', 'GAGA, LADY', 'CHUCK', 'BONO', 'DRAKE']\n"
     ]
    }
   ],
   "source": [
    "# or we can use a list comprehension\n",
    "upper_list = [name.upper() for name in inspirational_people]\n",
    "print(upper_list)"
   ]
  },
  {
   "cell_type": "markdown",
   "metadata": {},
   "source": []
  },
  {
   "cell_type": "markdown",
   "metadata": {},
   "source": [
    "## V. Python Basics: Writing Functions\n",
    "\n",
    "**FUNCTIONS:** Next, we would like to create some new columns with lists of tokens that are lower-cased and with stopwords removed. To do so, it is helpful to write a function that does this for a single text. Then, we can apply that function across the entire corpus of SOTU addresses stored in this dataframe.\n",
    "\n",
    "We have already used a variety of core Python functions such as **sum()**, **len()**, and **print()**. We have also called on many functions defined in auxiliary Python libraries or packages: such as the **word_tokenize()** and **concordance** functions from the **nltk** library we imported.\n",
    "\n",
    "Sometimes, however, we will want to create our own functions.\n",
    "\n",
    "A function is a piece of code that only runs when it is called (this will make a bit more sense after we see an example). We can pass parameters (data) into a function, which will perform operations on them. \n",
    "\n",
    "In Python, we use the `def` keyword to define a function. \n",
    "\n",
    "```python\n",
    "def functionName(argumentsToPassIn):\n",
    "    function instructions\n",
    "    return(resultsOfFunction)   \n",
    "```\n",
    "    \n",
    "47. Most but not all functions return something using the return command. Here is a super simple function that outputs a phrase, but does not return anything."
   ]
  },
  {
   "cell_type": "code",
   "execution_count": 67,
   "metadata": {},
   "outputs": [],
   "source": [
    "# First, create a function\n",
    "def print_hello():\n",
    "    print('Hello!')"
   ]
  },
  {
   "cell_type": "code",
   "execution_count": 68,
   "metadata": {},
   "outputs": [
    {
     "name": "stdout",
     "output_type": "stream",
     "text": [
      "Hello!\n"
     ]
    }
   ],
   "source": [
    "# Next, call the function\n",
    "print_hello()"
   ]
  },
  {
   "cell_type": "code",
   "execution_count": 69,
   "metadata": {},
   "outputs": [
    {
     "data": {
      "text/plain": [
       "10"
      ]
     },
     "execution_count": 69,
     "metadata": {},
     "output_type": "execute_result"
    }
   ],
   "source": [
    "# Now, let's try adding some arguments/parameters to our functions\n",
    "def add(x, y):\n",
    "    # we want to add these numbers and\n",
    "    # return the result\n",
    "    sum = x + y\n",
    "    \n",
    "    return sum\n",
    "    \n",
    "add(7, 3)"
   ]
  },
  {
   "cell_type": "markdown",
   "metadata": {},
   "source": [
    "48. **A SIMPLE FUNCTION:** So, for example, if we had a list of names and we wanted to create a function to retrieve the initial of each, we could use the following function:"
   ]
  },
  {
   "cell_type": "code",
   "execution_count": 70,
   "metadata": {},
   "outputs": [
    {
     "data": {
      "text/plain": [
       "'JMM'"
      ]
     },
     "execution_count": 70,
     "metadata": {},
     "output_type": "execute_result"
    }
   ],
   "source": [
    "import re\n",
    "def Initials(fullname):\n",
    "    caps = re.findall('([A-Z])', fullname) #this uses the findall function from the re package to find all capitalized letters\n",
    "    inits = ''.join(caps)  #takes our list of capitalized letters stored in \"caps\" and concatenates it\n",
    "    return(inits)\n",
    "    \n",
    "fullname = \"Jeremy M. Mikecz\"     #replace w/ your name\n",
    "Initials(fullname)"
   ]
  },
  {
   "cell_type": "markdown",
   "metadata": {},
   "source": [
    "49. We can now apply this function to quickly return the initials from a long list of names."
   ]
  },
  {
   "cell_type": "code",
   "execution_count": 71,
   "metadata": {},
   "outputs": [],
   "source": [
    "actorlist = ['Christoph Waltz','Tom Hardy','Doug Walker','Daryl Sabara','J.K. Simmons','Brad Garrett','Chris Hemsworth','Alan Rickman','Henry Cavill','Kevin Spacey','Giancarlo Giannini','Johnny Depp','Johnny Depp','Henry Cavill','Peter Dinklage','Chris Hemsworth','Johnny Depp','Will Smith','Aidan Turner','Emma Stone','Mark Addy','Aidan Turner','Christopher Lee','Naomi Watts','Leonardo DiCaprio','Robert Downey Jr.','Liam Neeson','Bryce Dallas Howard','Albert Finney','J.K. Simmons','Robert Downey Jr.','Johnny Depp','Hugh Jackman','Steve Buscemi','Glenn Morshower','Bingbing Li','Tim Holmes','Emma Stone','Jeff Bridges','Joe Mantegna','Ryan Reynolds','Tom Hanks','Christian Bale','Jason Statham','Peter Capaldi','Jennifer Lawrence','Benedict Cumberbatch','Eddie Marsan','Leonardo DiCaprio','Jake Gyllenhaal','Charlie Hunnam','Glenn Morshower','Harrison Ford','A.J. Buckley','Kelly Macdonald','Sofia Boutella','John Ratzenberger','Tzi Ma','Oliver Platt','Robin Wright','Channing Tatum','Christoph Waltz','Jim Broadbent','Jennifer Lawrence','Christian Bale','John Ratzenberger','Amy Poehler','Robert Downey Jr.','ChloÃ« Grace Moretz','Will Smith','Jet Li','Will Smith','Jimmy Bennett','Tom Cruise','Jeanne Tripplehorn','Joseph Gordon-Levitt','Amy Poehler','Scarlett Johansson','Robert Downey Jr.','Chris Hemsworth','Angelina Jolie Pitt','Gary Oldman','Tamsin Egerton','Keanu Reeves','Scarlett Johansson','Jon Hamm','Judy Greer','Damon Wayans Jr.','Jack McBrayer','Tom Hanks','Vivica A. Fox','Gerard Butler','Nick Stahl','Bradley Cooper','Matthew McConaughey','Leonardo DiCaprio','Mark Chinnery','Aidan Turner','Paul Walker','Brad Pitt','Jennifer Lawrence','Jennifer Lawrence','Nicolas Cage','Jimmy Bennett','Johnny Depp','Justin Timberlake','Dominic Cooper','J.K. Simmons','Bruce Spence','Jennifer Garner','Zack Ward','Anthony Hopkins','Robert Pattinson','Robert Pattinson','Will Smith','Will Smith','Johnny Depp','Janeane Garofalo','Christian Bale','Bernie Mac','Robin Williams','Hugh Jackman','Essie Davis','Josh Gad','Steve Bastoni','Chris Hemsworth','Tom Hardy','Tom Hanks','Chris Hemsworth','ChloÃ« Grace Moretz','Kelli Garner','Liam Neeson','Johnny Depp','Tom Cruise','Anthony Hopkins','Christoph Waltz','Matthew Broderick','Angelina Jolie Pitt','Seychelle Gabriel','Philip Seymour Hoffman','Channing Tatum','Elisabeth Harnois','Hugh Jackman','Hugh Jackman','Ty Burrell','Brad Pitt','Jada Pinkett Smith','Toby Stephens','Ed Begley Jr.','Bruce Willis','Will Smith','Robin Wright','J.K. Simmons','Tom Cruise','Hugh Jackman','John Michael Higgins','Tom Cruise','Christian Bale','Chris Hemsworth','J.K. Simmons','Gerard Butler','Gerard Butler','Sam Shepard','Matt Frewer','Jet Li','Kevin Rankin','Channing Tatum','Matthew McConaughey','Steve Buscemi','Chris Evans','Colin Salmon','James DArcy','Robert Pattinson','Robin Williams','Ty Burrell','Don Johnson','Mark Rylance','Leonardo DiCaprio','Ryan Reynolds','Johnny Depp','Benedict Cumberbatch','Matt Damon','Angelina Jolie Pitt','Judy Greer','Jennifer Lawrence','Robert Pattinson','Jim Parsons','Tom Cruise','Will Smith','Salma Hayek','Angelina Jolie Pitt','Anthony Hopkins','Toby Jones','Daniel Radcliffe','Essie Davis','Will Smith','Alfre Woodard','Rupert Grint','Robin Williams','J.K. Simmons','Daniel Radcliffe','Ryan Reynolds','Mark Chinnery','Johnny Depp','Rupert Grint','Jennifer Lawrence','Tom Hanks','Miguel Ferrer','Hugh Jackman','Paul Walker','Robert Downey Jr.','Liam Neeson','Ronny Cox','Tony Curran','Jeremy Renner','Michael Gough','Clint Howard','Jake Gyllenhaal','Tom Cruise','Karen Allen','Chris Evans','Suraj Sharma','Nicolas Cage','Matt Damon','Demi Moore','Michael Fassbender','Nathan Lane','Matt Damon','Vin Diesel','Gary Oldman','Scott Porter','Shelley Conn','Tom Cruise','Morgan Freeman','Natalie Portman','Natalie Portman','Steve Buscemi','Hugh Jackman','Natalie Portman','Ryan Reynolds','Alain Delon','Nicolas Cage','Chris Hemsworth','Noel Fisher','Phaldut Sharma','Jamie RenÃ©e Smith','Stephen Amell','Tim Blake Nelson','Robin Williams','Dwayne Johnson','Vincent Schiavelli','Heath Ledger','Brad Pitt','Brad Pitt','Kate Winslet','Leonardo DiCaprio','James Corden','Christoph Waltz','George Peppard','Eva Green','Mahadeo Shivraj','Steve Buscemi','Naomi Watts','Hugh Jackman','Jacob Tremblay','Jason Patric','Harrison Ford','Bruce Willis','Christopher Lee','Jim Broadbent','Will Smith','Sean Hayes','Will Smith','Liam Neeson','Chazz Palminteri','Oprah Winfrey','Matt Damon','Mathew Buck','Scarlett Johansson','Del Zamora','Nicolas Cage','Djimon Hounsou','Tom Cruise','Daniel Radcliffe','Eva Green','Cary-Hiroyuki Tagawa','Joe Morton','Johnny Depp','Denzel Washington','Jamie Lee Curtis','Denzel Washington','Robert De Niro','Dwayne Johnson','Vanessa Williams','Leonardo DiCaprio','Demi Moore','Eartha Kitt','Jason Statham','Nicolas Cage','Djimon Hounsou','Catherine OHara','Hugh Jackman','Josh Hutcherson','Johnny Depp','CCH Pounder','Leonardo DiCaprio','Leonardo DiCaprio','Michael Gough','Jake Busey','Tom Hanks','Abbie Cornish','Frances Conroy','Dwayne Johnson','Joseph Gordon-Levitt','Will Ferrell','Jason Statham','Ray Winstone','Jamie Kennedy','Chris Hemsworth','Rosario Dawson','Matt Damon','Francesca Capaldi','Ben Gazzara','Dwayne Johnson','Leonardo DiCaprio','Christian Bale','Jeff Bridges','Jon Lovitz','Ioan Gruffudd','Will Ferrell','Milla Jovovich','Chris Noth','Frank Welker','Peter Dinklage','Hayley Atwell','Michael Imperioli','Alexander Gould','Orlando Bloom','Christopher Lee','Jeff Bridges','Angelina Jolie Pitt','Johnny Depp','Michael Jeter','James Franco','Martin Short','Bruce Willis','Dennis Quaid','Holly Hunter','Christopher Masterson','Logan Lerman','Will Smith','Tom Hanks','Denzel Washington','Mei MelanÃ§on','Harrison Ford','Will Forte','Denis Leary','Adam Scott','Bill Murray','Leonardo DiCaprio','Ming-Na Wen','Robert Downey Jr.','Robin Wright','Bruce Willis','Robert Downey Jr.','Morgan Freeman','Leonard Nimoy','Bella Thorne','Tom Cruise','Adam Sandler','Peter Dinklage','Haley Joel Osment','Marsha Thomason','Matthew McConaughey','Greg Grunberg','Curtiss Cook','Logan Lerman','Gerard Butler','Daniel Radcliffe','Alun Armstrong','Brad Pitt','Don Cheadle','Anne Hathaway','Robin Williams','Don Cheadle','Harrison Ford','Liam Neeson','Tim Blake Nelson','William Smith','Paddy Considine','Shirley Henderson','Jeff Bridges','Philip Seymour Hoffman','Paul Walker','Tom Hanks','Robin Williams','Matt Damon','Harrison Ford','Brad Pitt','Milla Jovovich','Steve Buscemi','Jeff Bennett','Caroline Dhavernas','Denzel Washington','Ioan Gruffudd','Matthew Broderick','Kate Winslet','Will Smith','Meryl Streep','Al Pacino','Jon Favreau','Kate Winslet','Bob Hoskins','Dwayne Johnson','F. Murray Abraham','Li Gong','Amber Stevens West','Jim Broadbent','Anthony Hopkins','Raymond Cruz','Roy Scheider','Julia Roberts','Anna Kendrick','Glenn Morshower','Larry Miller','Sarah Michelle Gellar','Wood Harris','Adam Sandler','Ted Danson','Jack McBrayer','Kristen Stewart','Seth MacFarlane','Robert Downey Jr.','Robert Duvall','Morgan Freeman','Jason Statham','Tom Cruise','Jennifer Lawrence','Bradley Cooper','Michael Gough','Bruce Willis','Tia Carrere','Steve Buscemi','Morgan Freeman','Bruce Willis','Adam Sandler','Amy Poehler','Steve Buscemi','Bill Murray','Keanu Reeves','Leonardo DiCaprio','Jon Favreau','Jim Broadbent','Nicolas Cage','Adam Sandler','Tom Hanks','Adam Sandler','Elden Henson','Steve Buscemi','Rosario Dawson','Philip Seymour Hoffman','Denzel Washington','Robin Williams','Liam Neeson','Bill Murray','Roger Rees','Keanu Reeves','Julia Roberts','Brad Pitt','Harrison Ford','Justin Timberlake','Matt Damon','Rosario Dawson','Gary Oldman','Denzel Washington','Vanessa Redgrave','Steve Buscemi','Elizabeth Montgomery','Quincy Jones','Mark Addy','Charlize Theron','Hugh Jackman','Michael Emerson','Robin Williams','Adam Sandler','Matt Damon','Natalie Portman','Nissim Renard','Anthony Hopkins','Bruce Willis','Bruce Greenwood','Sylvester Stallone','Charlie Rowe','Richard Tyson','Brendan Fraser','Fergie','Paul Walker','Olivia Williams','Adam Goldberg','Vin Diesel','Bob Neill','Mia Farrow','Pedro ArmendÃ¡riz Jr.','David Oyelowo','Sasha Roiz','Sariann Monaco','Adam Goldberg','Matthew Broderick','Josh Hutcherson','Will Forte','Philip Seymour Hoffman','J.K. Simmons','Al Pacino','Paul Walker','Jeff Bridges','Roger Rees','Robert De Niro','Steve Coogan','Jason Flemyng','Steve Carell','Will Smith','Ariana Richards','Jada Pinkett Smith','Charlie Hunnam','Hugh Jackman','Angelina Jolie Pitt','Nicolas Cage','Denis Leary','Adam Sandler','Jerry Stiller','James DArcy','Matthew Broderick','Morgan Freeman','Steve Buscemi','Tom Hanks','Harold Perrineau','Don Cheadle','Nicholas Lea','Philip Seymour Hoffman','Robert De Niro','Loretta Devine','Adam Arkin','Dwayne Johnson','Ayelet Zurer','Bruce Willis','Tom Selleck','Henry Cavill','Adam Sandler','Steve Buscemi','Bruce Willis','Julia Ormond','Bai Ling','Henry Cavill','Jimmy Bennett','Matt Damon','Harrison Ford','Connie Nielsen','Christopher Meloni','Brendan Fraser','Dennis Quaid','Robin Wright','Steve Carell','Jon Hamm','Nicolas Cage','Peter Coyote','Peter Dinklage','Matthew McConaughey','Adam Sandler','Jennifer Garner','Will Ferrell','Raven-SymonÃ©','Mhairi Calvey','Jake Gyllenhaal','Albert Brooks','Martin Landau','Sylvester Stallone','David Gant','Bryce Dallas Howard','Oliver Platt','Rory Culkin','Rupert Everett','John Ratzenberger','Julia Roberts','Vin Diesel','Tim Conway','Lili Taylor','Michael Fassbender','Robin Williams','Dwayne Johnson','Bruce Willis','Jeremy Renner','Nicole Beharie','Tom Cruise','Bryce Dallas Howard','Sanaa Lathan','Amy Poehler','Jon Hamm']"
   ]
  },
  {
   "cell_type": "markdown",
   "metadata": {},
   "source": [
    "<div class=\"alert alert-info\" role=\"alert\" style=\"color:blue\"><h3>Exercises</h3>\n",
    "    <p>50. Apply the Initials function to each name in our actorlist using either a for loop or a list comprehension.</p>\n",
    "</div>"
   ]
  },
  {
   "cell_type": "code",
   "execution_count": 72,
   "metadata": {},
   "outputs": [
    {
     "name": "stdout",
     "output_type": "stream",
     "text": [
      "['CW', 'TH', 'DW', 'DS', 'JKS', 'BG', 'CH', 'AR', 'HC', 'KS', 'GG', 'JD', 'JD', 'HC', 'PD', 'CH', 'JD', 'WS', 'AT', 'ES']\n"
     ]
    }
   ],
   "source": [
    "actor_inits = [Initials(actor) for actor in actorlist]\n",
    "print(actor_inits[:20])\n"
   ]
  },
  {
   "cell_type": "code",
   "execution_count": null,
   "metadata": {},
   "outputs": [],
   "source": []
  },
  {
   "cell_type": "markdown",
   "metadata": {},
   "source": [
    "## VI. Working with Files\n",
    "\n",
    "An essential skill in Python is to be able to navigate through files on your computer to either read in existing files into Python or to output new files. Fortunately, you now have experience with the pre-requisite skills for navigating through and importing files:\n",
    "+ importing Python libraries\n",
    "+ applying functions \n",
    "+ looping through lists\n",
    "\n",
    "To enable navigating through files on your computer, we will use the **pathlib** library. \n",
    "\n",
    "51. Let's import it now."
   ]
  },
  {
   "cell_type": "code",
   "execution_count": 73,
   "metadata": {},
   "outputs": [],
   "source": [
    "from pathlib import Path "
   ]
  },
  {
   "cell_type": "code",
   "execution_count": 74,
   "metadata": {},
   "outputs": [
    {
     "name": "stdout",
     "output_type": "stream",
     "text": [
      "\u001b[1;31mInit signature:\u001b[0m \u001b[0mPath\u001b[0m\u001b[1;33m(\u001b[0m\u001b[1;33m*\u001b[0m\u001b[0margs\u001b[0m\u001b[1;33m,\u001b[0m \u001b[1;33m**\u001b[0m\u001b[0mkwargs\u001b[0m\u001b[1;33m)\u001b[0m\u001b[1;33m\u001b[0m\u001b[1;33m\u001b[0m\u001b[0m\n",
      "\u001b[1;31mDocstring:\u001b[0m     \n",
      "PurePath subclass that can make system calls.\n",
      "\n",
      "Path represents a filesystem path but unlike PurePath, also offers\n",
      "methods to do system calls on path objects. Depending on your system,\n",
      "instantiating a Path will return either a PosixPath or a WindowsPath\n",
      "object. You can also instantiate a PosixPath or WindowsPath directly,\n",
      "but cannot instantiate a WindowsPath on a POSIX system or vice versa.\n",
      "\u001b[1;31mFile:\u001b[0m           c:\\users\\f0040rp\\appdata\\local\\programs\\python\\python311\\lib\\pathlib.py\n",
      "\u001b[1;31mType:\u001b[0m           type\n",
      "\u001b[1;31mSubclasses:\u001b[0m     PosixPath, WindowsPath"
     ]
    }
   ],
   "source": [
    "?Path"
   ]
  },
  {
   "cell_type": "code",
   "execution_count": 75,
   "metadata": {},
   "outputs": [
    {
     "data": {
      "text/plain": [
       "['__bytes__',\n",
       " '__class__',\n",
       " '__delattr__',\n",
       " '__dir__',\n",
       " '__doc__',\n",
       " '__enter__',\n",
       " '__eq__',\n",
       " '__exit__',\n",
       " '__format__',\n",
       " '__fspath__',\n",
       " '__ge__',\n",
       " '__getattribute__',\n",
       " '__getstate__',\n",
       " '__gt__',\n",
       " '__hash__',\n",
       " '__init__',\n",
       " '__init_subclass__',\n",
       " '__le__',\n",
       " '__lt__',\n",
       " '__module__',\n",
       " '__ne__',\n",
       " '__new__',\n",
       " '__reduce__',\n",
       " '__reduce_ex__',\n",
       " '__repr__',\n",
       " '__rtruediv__',\n",
       " '__setattr__',\n",
       " '__sizeof__',\n",
       " '__slots__',\n",
       " '__str__',\n",
       " '__subclasshook__',\n",
       " '__truediv__',\n",
       " '_cached_cparts',\n",
       " '_cparts',\n",
       " '_drv',\n",
       " '_format_parsed_parts',\n",
       " '_from_parsed_parts',\n",
       " '_from_parts',\n",
       " '_hash',\n",
       " '_make_child',\n",
       " '_make_child_relpath',\n",
       " '_parse_args',\n",
       " '_parts',\n",
       " '_pparts',\n",
       " '_root',\n",
       " '_scandir',\n",
       " '_str',\n",
       " 'absolute',\n",
       " 'anchor',\n",
       " 'as_posix',\n",
       " 'as_uri',\n",
       " 'chmod',\n",
       " 'cwd',\n",
       " 'drive',\n",
       " 'exists',\n",
       " 'expanduser',\n",
       " 'glob',\n",
       " 'group',\n",
       " 'hardlink_to',\n",
       " 'home',\n",
       " 'is_absolute',\n",
       " 'is_block_device',\n",
       " 'is_char_device',\n",
       " 'is_dir',\n",
       " 'is_fifo',\n",
       " 'is_file',\n",
       " 'is_mount',\n",
       " 'is_relative_to',\n",
       " 'is_reserved',\n",
       " 'is_socket',\n",
       " 'is_symlink',\n",
       " 'iterdir',\n",
       " 'joinpath',\n",
       " 'lchmod',\n",
       " 'link_to',\n",
       " 'lstat',\n",
       " 'match',\n",
       " 'mkdir',\n",
       " 'name',\n",
       " 'open',\n",
       " 'owner',\n",
       " 'parent',\n",
       " 'parents',\n",
       " 'parts',\n",
       " 'read_bytes',\n",
       " 'read_text',\n",
       " 'readlink',\n",
       " 'relative_to',\n",
       " 'rename',\n",
       " 'replace',\n",
       " 'resolve',\n",
       " 'rglob',\n",
       " 'rmdir',\n",
       " 'root',\n",
       " 'samefile',\n",
       " 'stat',\n",
       " 'stem',\n",
       " 'suffix',\n",
       " 'suffixes',\n",
       " 'symlink_to',\n",
       " 'touch',\n",
       " 'unlink',\n",
       " 'with_name',\n",
       " 'with_stem',\n",
       " 'with_suffix',\n",
       " 'write_bytes',\n",
       " 'write_text']"
      ]
     },
     "execution_count": 75,
     "metadata": {},
     "output_type": "execute_result"
    }
   ],
   "source": [
    "dir(Path)"
   ]
  },
  {
   "cell_type": "markdown",
   "metadata": {},
   "source": [
    "52. Examine what the following functions do. Hint: **cwd()** means \"current working directory.\""
   ]
  },
  {
   "cell_type": "code",
   "execution_count": 76,
   "metadata": {},
   "outputs": [
    {
     "name": "stdout",
     "output_type": "stream",
     "text": [
      "c:\\Users\\F0040RP\\Documents\\DartLib_RDS\\intro-to-python\\TAW\n",
      "c:\\Users\\F0040RP\\Documents\\DartLib_RDS\\intro-to-python\n",
      "c:\\Users\\F0040RP\\Documents\\DartLib_RDS\n"
     ]
    }
   ],
   "source": [
    "print(Path.cwd())\n",
    "print(Path.cwd().parent)\n",
    "print(Path.cwd().parent.parent)"
   ]
  },
  {
   "cell_type": "markdown",
   "metadata": {},
   "source": [
    "53. We can use pathlib's **Path()** function to store a filepath to another folder (outside the current working directory).\n",
    "\n",
    "```\n",
    "pathdirname = Path(\"path/to/folder\")\n",
    "```"
   ]
  },
  {
   "cell_type": "code",
   "execution_count": 77,
   "metadata": {},
   "outputs": [
    {
     "name": "stdout",
     "output_type": "stream",
     "text": [
      "C:\\Users\\F0040RP\\shared\\RR-workshop-data\\state-of-the-union-dataset\\txt\n"
     ]
    }
   ],
   "source": [
    "textdir = Path(\"~/shared/RR-workshop-data/state-of-the-union-dataset/txt\").expanduser()\n",
    "print(textdir)"
   ]
  },
  {
   "cell_type": "markdown",
   "metadata": {},
   "source": [
    "54. We can then place all .txt files in a list and print out that list."
   ]
  },
  {
   "cell_type": "code",
   "execution_count": null,
   "metadata": {},
   "outputs": [],
   "source": []
  },
  {
   "cell_type": "code",
   "execution_count": 78,
   "metadata": {},
   "outputs": [
    {
     "name": "stdout",
     "output_type": "stream",
     "text": [
      "[WindowsPath('C:/Users/F0040RP/shared/RR-workshop-data/state-of-the-union-dataset/txt/Adams_1797.txt'), WindowsPath('C:/Users/F0040RP/shared/RR-workshop-data/state-of-the-union-dataset/txt/Adams_1798.txt'), WindowsPath('C:/Users/F0040RP/shared/RR-workshop-data/state-of-the-union-dataset/txt/Adams_1799.txt'), WindowsPath('C:/Users/F0040RP/shared/RR-workshop-data/state-of-the-union-dataset/txt/Adams_1800.txt'), WindowsPath('C:/Users/F0040RP/shared/RR-workshop-data/state-of-the-union-dataset/txt/Adams_1825.txt'), WindowsPath('C:/Users/F0040RP/shared/RR-workshop-data/state-of-the-union-dataset/txt/Adams_1826.txt'), WindowsPath('C:/Users/F0040RP/shared/RR-workshop-data/state-of-the-union-dataset/txt/Adams_1827.txt'), WindowsPath('C:/Users/F0040RP/shared/RR-workshop-data/state-of-the-union-dataset/txt/Adams_1828.txt'), WindowsPath('C:/Users/F0040RP/shared/RR-workshop-data/state-of-the-union-dataset/txt/Arthur_1881.txt'), WindowsPath('C:/Users/F0040RP/shared/RR-workshop-data/state-of-the-union-dataset/txt/Arthur_1882.txt'), WindowsPath('C:/Users/F0040RP/shared/RR-workshop-data/state-of-the-union-dataset/txt/Arthur_1883.txt'), WindowsPath('C:/Users/F0040RP/shared/RR-workshop-data/state-of-the-union-dataset/txt/Arthur_1884.txt'), WindowsPath('C:/Users/F0040RP/shared/RR-workshop-data/state-of-the-union-dataset/txt/Biden_2021.txt'), WindowsPath('C:/Users/F0040RP/shared/RR-workshop-data/state-of-the-union-dataset/txt/Biden_2022.txt'), WindowsPath('C:/Users/F0040RP/shared/RR-workshop-data/state-of-the-union-dataset/txt/Biden_2023.txt'), WindowsPath('C:/Users/F0040RP/shared/RR-workshop-data/state-of-the-union-dataset/txt/Buchanan_1857.txt'), WindowsPath('C:/Users/F0040RP/shared/RR-workshop-data/state-of-the-union-dataset/txt/Buchanan_1858.txt'), WindowsPath('C:/Users/F0040RP/shared/RR-workshop-data/state-of-the-union-dataset/txt/Buchanan_1859.txt'), WindowsPath('C:/Users/F0040RP/shared/RR-workshop-data/state-of-the-union-dataset/txt/Buchanan_1860.txt'), WindowsPath('C:/Users/F0040RP/shared/RR-workshop-data/state-of-the-union-dataset/txt/Buren_1837.txt'), WindowsPath('C:/Users/F0040RP/shared/RR-workshop-data/state-of-the-union-dataset/txt/Buren_1838.txt'), WindowsPath('C:/Users/F0040RP/shared/RR-workshop-data/state-of-the-union-dataset/txt/Buren_1839.txt'), WindowsPath('C:/Users/F0040RP/shared/RR-workshop-data/state-of-the-union-dataset/txt/Buren_1840.txt'), WindowsPath('C:/Users/F0040RP/shared/RR-workshop-data/state-of-the-union-dataset/txt/Bush_1989.txt'), WindowsPath('C:/Users/F0040RP/shared/RR-workshop-data/state-of-the-union-dataset/txt/Bush_1990.txt'), WindowsPath('C:/Users/F0040RP/shared/RR-workshop-data/state-of-the-union-dataset/txt/Bush_1991.txt'), WindowsPath('C:/Users/F0040RP/shared/RR-workshop-data/state-of-the-union-dataset/txt/Bush_1992.txt'), WindowsPath('C:/Users/F0040RP/shared/RR-workshop-data/state-of-the-union-dataset/txt/Bush_2001.txt'), WindowsPath('C:/Users/F0040RP/shared/RR-workshop-data/state-of-the-union-dataset/txt/Bush_2002.txt'), WindowsPath('C:/Users/F0040RP/shared/RR-workshop-data/state-of-the-union-dataset/txt/Bush_2003.txt'), WindowsPath('C:/Users/F0040RP/shared/RR-workshop-data/state-of-the-union-dataset/txt/Bush_2004.txt'), WindowsPath('C:/Users/F0040RP/shared/RR-workshop-data/state-of-the-union-dataset/txt/Bush_2005.txt'), WindowsPath('C:/Users/F0040RP/shared/RR-workshop-data/state-of-the-union-dataset/txt/Bush_2006.txt'), WindowsPath('C:/Users/F0040RP/shared/RR-workshop-data/state-of-the-union-dataset/txt/Bush_2007.txt'), WindowsPath('C:/Users/F0040RP/shared/RR-workshop-data/state-of-the-union-dataset/txt/Bush_2008.txt'), WindowsPath('C:/Users/F0040RP/shared/RR-workshop-data/state-of-the-union-dataset/txt/Carter_1978.txt'), WindowsPath('C:/Users/F0040RP/shared/RR-workshop-data/state-of-the-union-dataset/txt/Carter_1979.txt'), WindowsPath('C:/Users/F0040RP/shared/RR-workshop-data/state-of-the-union-dataset/txt/Carter_1980.txt'), WindowsPath('C:/Users/F0040RP/shared/RR-workshop-data/state-of-the-union-dataset/txt/Carter_1981.txt'), WindowsPath('C:/Users/F0040RP/shared/RR-workshop-data/state-of-the-union-dataset/txt/Cleveland_1885.txt'), WindowsPath('C:/Users/F0040RP/shared/RR-workshop-data/state-of-the-union-dataset/txt/Cleveland_1886.txt'), WindowsPath('C:/Users/F0040RP/shared/RR-workshop-data/state-of-the-union-dataset/txt/Cleveland_1887.txt'), WindowsPath('C:/Users/F0040RP/shared/RR-workshop-data/state-of-the-union-dataset/txt/Cleveland_1888.txt'), WindowsPath('C:/Users/F0040RP/shared/RR-workshop-data/state-of-the-union-dataset/txt/Cleveland_1893.txt'), WindowsPath('C:/Users/F0040RP/shared/RR-workshop-data/state-of-the-union-dataset/txt/Cleveland_1894.txt'), WindowsPath('C:/Users/F0040RP/shared/RR-workshop-data/state-of-the-union-dataset/txt/Cleveland_1895.txt'), WindowsPath('C:/Users/F0040RP/shared/RR-workshop-data/state-of-the-union-dataset/txt/Cleveland_1896.txt'), WindowsPath('C:/Users/F0040RP/shared/RR-workshop-data/state-of-the-union-dataset/txt/Clinton_1993.txt'), WindowsPath('C:/Users/F0040RP/shared/RR-workshop-data/state-of-the-union-dataset/txt/Clinton_1994.txt'), WindowsPath('C:/Users/F0040RP/shared/RR-workshop-data/state-of-the-union-dataset/txt/Clinton_1995.txt'), WindowsPath('C:/Users/F0040RP/shared/RR-workshop-data/state-of-the-union-dataset/txt/Clinton_1996.txt'), WindowsPath('C:/Users/F0040RP/shared/RR-workshop-data/state-of-the-union-dataset/txt/Clinton_1997.txt'), WindowsPath('C:/Users/F0040RP/shared/RR-workshop-data/state-of-the-union-dataset/txt/Clinton_1998.txt'), WindowsPath('C:/Users/F0040RP/shared/RR-workshop-data/state-of-the-union-dataset/txt/Clinton_1999.txt'), WindowsPath('C:/Users/F0040RP/shared/RR-workshop-data/state-of-the-union-dataset/txt/Clinton_2000.txt'), WindowsPath('C:/Users/F0040RP/shared/RR-workshop-data/state-of-the-union-dataset/txt/Coolidge_1923.txt'), WindowsPath('C:/Users/F0040RP/shared/RR-workshop-data/state-of-the-union-dataset/txt/Coolidge_1924.txt'), WindowsPath('C:/Users/F0040RP/shared/RR-workshop-data/state-of-the-union-dataset/txt/Coolidge_1925.txt'), WindowsPath('C:/Users/F0040RP/shared/RR-workshop-data/state-of-the-union-dataset/txt/Coolidge_1926.txt'), WindowsPath('C:/Users/F0040RP/shared/RR-workshop-data/state-of-the-union-dataset/txt/Coolidge_1927.txt'), WindowsPath('C:/Users/F0040RP/shared/RR-workshop-data/state-of-the-union-dataset/txt/Coolidge_1928.txt'), WindowsPath('C:/Users/F0040RP/shared/RR-workshop-data/state-of-the-union-dataset/txt/Eisenhower_1954.txt'), WindowsPath('C:/Users/F0040RP/shared/RR-workshop-data/state-of-the-union-dataset/txt/Eisenhower_1955.txt'), WindowsPath('C:/Users/F0040RP/shared/RR-workshop-data/state-of-the-union-dataset/txt/Eisenhower_1956.txt'), WindowsPath('C:/Users/F0040RP/shared/RR-workshop-data/state-of-the-union-dataset/txt/Eisenhower_1957.txt'), WindowsPath('C:/Users/F0040RP/shared/RR-workshop-data/state-of-the-union-dataset/txt/Eisenhower_1958.txt'), WindowsPath('C:/Users/F0040RP/shared/RR-workshop-data/state-of-the-union-dataset/txt/Eisenhower_1959.txt'), WindowsPath('C:/Users/F0040RP/shared/RR-workshop-data/state-of-the-union-dataset/txt/Eisenhower_1960.txt'), WindowsPath('C:/Users/F0040RP/shared/RR-workshop-data/state-of-the-union-dataset/txt/Eisenhower_1961.txt'), WindowsPath('C:/Users/F0040RP/shared/RR-workshop-data/state-of-the-union-dataset/txt/Fillmore_1850.txt'), WindowsPath('C:/Users/F0040RP/shared/RR-workshop-data/state-of-the-union-dataset/txt/Fillmore_1851.txt'), WindowsPath('C:/Users/F0040RP/shared/RR-workshop-data/state-of-the-union-dataset/txt/Fillmore_1852.txt'), WindowsPath('C:/Users/F0040RP/shared/RR-workshop-data/state-of-the-union-dataset/txt/Ford_1975.txt'), WindowsPath('C:/Users/F0040RP/shared/RR-workshop-data/state-of-the-union-dataset/txt/Ford_1976.txt'), WindowsPath('C:/Users/F0040RP/shared/RR-workshop-data/state-of-the-union-dataset/txt/Ford_1977.txt'), WindowsPath('C:/Users/F0040RP/shared/RR-workshop-data/state-of-the-union-dataset/txt/Grant_1869.txt'), WindowsPath('C:/Users/F0040RP/shared/RR-workshop-data/state-of-the-union-dataset/txt/Grant_1870.txt'), WindowsPath('C:/Users/F0040RP/shared/RR-workshop-data/state-of-the-union-dataset/txt/Grant_1871.txt'), WindowsPath('C:/Users/F0040RP/shared/RR-workshop-data/state-of-the-union-dataset/txt/Grant_1872.txt'), WindowsPath('C:/Users/F0040RP/shared/RR-workshop-data/state-of-the-union-dataset/txt/Grant_1873.txt'), WindowsPath('C:/Users/F0040RP/shared/RR-workshop-data/state-of-the-union-dataset/txt/Grant_1874.txt'), WindowsPath('C:/Users/F0040RP/shared/RR-workshop-data/state-of-the-union-dataset/txt/Grant_1875.txt'), WindowsPath('C:/Users/F0040RP/shared/RR-workshop-data/state-of-the-union-dataset/txt/Grant_1876.txt'), WindowsPath('C:/Users/F0040RP/shared/RR-workshop-data/state-of-the-union-dataset/txt/Harding_1921.txt'), WindowsPath('C:/Users/F0040RP/shared/RR-workshop-data/state-of-the-union-dataset/txt/Harding_1922.txt'), WindowsPath('C:/Users/F0040RP/shared/RR-workshop-data/state-of-the-union-dataset/txt/Harrison_1889.txt'), WindowsPath('C:/Users/F0040RP/shared/RR-workshop-data/state-of-the-union-dataset/txt/Harrison_1890.txt'), WindowsPath('C:/Users/F0040RP/shared/RR-workshop-data/state-of-the-union-dataset/txt/Harrison_1891.txt'), WindowsPath('C:/Users/F0040RP/shared/RR-workshop-data/state-of-the-union-dataset/txt/Harrison_1892.txt'), WindowsPath('C:/Users/F0040RP/shared/RR-workshop-data/state-of-the-union-dataset/txt/Hayes_1877.txt'), WindowsPath('C:/Users/F0040RP/shared/RR-workshop-data/state-of-the-union-dataset/txt/Hayes_1878.txt'), WindowsPath('C:/Users/F0040RP/shared/RR-workshop-data/state-of-the-union-dataset/txt/Hayes_1879.txt'), WindowsPath('C:/Users/F0040RP/shared/RR-workshop-data/state-of-the-union-dataset/txt/Hayes_1880.txt'), WindowsPath('C:/Users/F0040RP/shared/RR-workshop-data/state-of-the-union-dataset/txt/Hoover_1929.txt'), WindowsPath('C:/Users/F0040RP/shared/RR-workshop-data/state-of-the-union-dataset/txt/Hoover_1930.txt'), WindowsPath('C:/Users/F0040RP/shared/RR-workshop-data/state-of-the-union-dataset/txt/Hoover_1931.txt'), WindowsPath('C:/Users/F0040RP/shared/RR-workshop-data/state-of-the-union-dataset/txt/Hoover_1932.txt'), WindowsPath('C:/Users/F0040RP/shared/RR-workshop-data/state-of-the-union-dataset/txt/Jackson_1829.txt'), WindowsPath('C:/Users/F0040RP/shared/RR-workshop-data/state-of-the-union-dataset/txt/Jackson_1830.txt'), WindowsPath('C:/Users/F0040RP/shared/RR-workshop-data/state-of-the-union-dataset/txt/Jackson_1831.txt'), WindowsPath('C:/Users/F0040RP/shared/RR-workshop-data/state-of-the-union-dataset/txt/Jackson_1832.txt'), WindowsPath('C:/Users/F0040RP/shared/RR-workshop-data/state-of-the-union-dataset/txt/Jackson_1833.txt'), WindowsPath('C:/Users/F0040RP/shared/RR-workshop-data/state-of-the-union-dataset/txt/Jackson_1834.txt'), WindowsPath('C:/Users/F0040RP/shared/RR-workshop-data/state-of-the-union-dataset/txt/Jackson_1835.txt'), WindowsPath('C:/Users/F0040RP/shared/RR-workshop-data/state-of-the-union-dataset/txt/Jackson_1836.txt'), WindowsPath('C:/Users/F0040RP/shared/RR-workshop-data/state-of-the-union-dataset/txt/Jefferson_1801.txt'), WindowsPath('C:/Users/F0040RP/shared/RR-workshop-data/state-of-the-union-dataset/txt/Jefferson_1802.txt'), WindowsPath('C:/Users/F0040RP/shared/RR-workshop-data/state-of-the-union-dataset/txt/Jefferson_1803.txt'), WindowsPath('C:/Users/F0040RP/shared/RR-workshop-data/state-of-the-union-dataset/txt/Jefferson_1804.txt'), WindowsPath('C:/Users/F0040RP/shared/RR-workshop-data/state-of-the-union-dataset/txt/Jefferson_1805.txt'), WindowsPath('C:/Users/F0040RP/shared/RR-workshop-data/state-of-the-union-dataset/txt/Jefferson_1806.txt'), WindowsPath('C:/Users/F0040RP/shared/RR-workshop-data/state-of-the-union-dataset/txt/Jefferson_1807.txt'), WindowsPath('C:/Users/F0040RP/shared/RR-workshop-data/state-of-the-union-dataset/txt/Jefferson_1808.txt'), WindowsPath('C:/Users/F0040RP/shared/RR-workshop-data/state-of-the-union-dataset/txt/Johnson_1865.txt'), WindowsPath('C:/Users/F0040RP/shared/RR-workshop-data/state-of-the-union-dataset/txt/Johnson_1866.txt'), WindowsPath('C:/Users/F0040RP/shared/RR-workshop-data/state-of-the-union-dataset/txt/Johnson_1867.txt'), WindowsPath('C:/Users/F0040RP/shared/RR-workshop-data/state-of-the-union-dataset/txt/Johnson_1868.txt'), WindowsPath('C:/Users/F0040RP/shared/RR-workshop-data/state-of-the-union-dataset/txt/Johnson_1964.txt'), WindowsPath('C:/Users/F0040RP/shared/RR-workshop-data/state-of-the-union-dataset/txt/Johnson_1965.txt'), WindowsPath('C:/Users/F0040RP/shared/RR-workshop-data/state-of-the-union-dataset/txt/Johnson_1966.txt'), WindowsPath('C:/Users/F0040RP/shared/RR-workshop-data/state-of-the-union-dataset/txt/Johnson_1967.txt'), WindowsPath('C:/Users/F0040RP/shared/RR-workshop-data/state-of-the-union-dataset/txt/Johnson_1968.txt'), WindowsPath('C:/Users/F0040RP/shared/RR-workshop-data/state-of-the-union-dataset/txt/Johnson_1969.txt'), WindowsPath('C:/Users/F0040RP/shared/RR-workshop-data/state-of-the-union-dataset/txt/Kennedy_1962.txt'), WindowsPath('C:/Users/F0040RP/shared/RR-workshop-data/state-of-the-union-dataset/txt/Kennedy_1963.txt'), WindowsPath('C:/Users/F0040RP/shared/RR-workshop-data/state-of-the-union-dataset/txt/Lincoln_1861.txt'), WindowsPath('C:/Users/F0040RP/shared/RR-workshop-data/state-of-the-union-dataset/txt/Lincoln_1862.txt'), WindowsPath('C:/Users/F0040RP/shared/RR-workshop-data/state-of-the-union-dataset/txt/Lincoln_1863.txt'), WindowsPath('C:/Users/F0040RP/shared/RR-workshop-data/state-of-the-union-dataset/txt/Lincoln_1864.txt'), WindowsPath('C:/Users/F0040RP/shared/RR-workshop-data/state-of-the-union-dataset/txt/Madison_1809.txt'), WindowsPath('C:/Users/F0040RP/shared/RR-workshop-data/state-of-the-union-dataset/txt/Madison_1810.txt'), WindowsPath('C:/Users/F0040RP/shared/RR-workshop-data/state-of-the-union-dataset/txt/Madison_1811.txt'), WindowsPath('C:/Users/F0040RP/shared/RR-workshop-data/state-of-the-union-dataset/txt/Madison_1812.txt'), WindowsPath('C:/Users/F0040RP/shared/RR-workshop-data/state-of-the-union-dataset/txt/Madison_1813.txt'), WindowsPath('C:/Users/F0040RP/shared/RR-workshop-data/state-of-the-union-dataset/txt/Madison_1814.txt'), WindowsPath('C:/Users/F0040RP/shared/RR-workshop-data/state-of-the-union-dataset/txt/Madison_1815.txt'), WindowsPath('C:/Users/F0040RP/shared/RR-workshop-data/state-of-the-union-dataset/txt/Madison_1816.txt'), WindowsPath('C:/Users/F0040RP/shared/RR-workshop-data/state-of-the-union-dataset/txt/McKinley_1897.txt'), WindowsPath('C:/Users/F0040RP/shared/RR-workshop-data/state-of-the-union-dataset/txt/McKinley_1898.txt'), WindowsPath('C:/Users/F0040RP/shared/RR-workshop-data/state-of-the-union-dataset/txt/McKinley_1899.txt'), WindowsPath('C:/Users/F0040RP/shared/RR-workshop-data/state-of-the-union-dataset/txt/McKinley_1900.txt'), WindowsPath('C:/Users/F0040RP/shared/RR-workshop-data/state-of-the-union-dataset/txt/Monroe_1817.txt'), WindowsPath('C:/Users/F0040RP/shared/RR-workshop-data/state-of-the-union-dataset/txt/Monroe_1818.txt'), WindowsPath('C:/Users/F0040RP/shared/RR-workshop-data/state-of-the-union-dataset/txt/Monroe_1819.txt'), WindowsPath('C:/Users/F0040RP/shared/RR-workshop-data/state-of-the-union-dataset/txt/Monroe_1820.txt'), WindowsPath('C:/Users/F0040RP/shared/RR-workshop-data/state-of-the-union-dataset/txt/Monroe_1821.txt'), WindowsPath('C:/Users/F0040RP/shared/RR-workshop-data/state-of-the-union-dataset/txt/Monroe_1822.txt'), WindowsPath('C:/Users/F0040RP/shared/RR-workshop-data/state-of-the-union-dataset/txt/Monroe_1823.txt'), WindowsPath('C:/Users/F0040RP/shared/RR-workshop-data/state-of-the-union-dataset/txt/Monroe_1824.txt'), WindowsPath('C:/Users/F0040RP/shared/RR-workshop-data/state-of-the-union-dataset/txt/Nixon_1970.txt'), WindowsPath('C:/Users/F0040RP/shared/RR-workshop-data/state-of-the-union-dataset/txt/Nixon_1971.txt'), WindowsPath('C:/Users/F0040RP/shared/RR-workshop-data/state-of-the-union-dataset/txt/Nixon_1972.txt'), WindowsPath('C:/Users/F0040RP/shared/RR-workshop-data/state-of-the-union-dataset/txt/Nixon_1973.txt'), WindowsPath('C:/Users/F0040RP/shared/RR-workshop-data/state-of-the-union-dataset/txt/Nixon_1974.txt'), WindowsPath('C:/Users/F0040RP/shared/RR-workshop-data/state-of-the-union-dataset/txt/Obama_2009.txt'), WindowsPath('C:/Users/F0040RP/shared/RR-workshop-data/state-of-the-union-dataset/txt/Obama_2010.txt'), WindowsPath('C:/Users/F0040RP/shared/RR-workshop-data/state-of-the-union-dataset/txt/Obama_2011.txt'), WindowsPath('C:/Users/F0040RP/shared/RR-workshop-data/state-of-the-union-dataset/txt/Obama_2012.txt'), WindowsPath('C:/Users/F0040RP/shared/RR-workshop-data/state-of-the-union-dataset/txt/Obama_2013.txt'), WindowsPath('C:/Users/F0040RP/shared/RR-workshop-data/state-of-the-union-dataset/txt/Obama_2014.txt'), WindowsPath('C:/Users/F0040RP/shared/RR-workshop-data/state-of-the-union-dataset/txt/Obama_2015.txt'), WindowsPath('C:/Users/F0040RP/shared/RR-workshop-data/state-of-the-union-dataset/txt/Obama_2016.txt'), WindowsPath('C:/Users/F0040RP/shared/RR-workshop-data/state-of-the-union-dataset/txt/Pierce_1853.txt'), WindowsPath('C:/Users/F0040RP/shared/RR-workshop-data/state-of-the-union-dataset/txt/Pierce_1854.txt'), WindowsPath('C:/Users/F0040RP/shared/RR-workshop-data/state-of-the-union-dataset/txt/Pierce_1855.txt'), WindowsPath('C:/Users/F0040RP/shared/RR-workshop-data/state-of-the-union-dataset/txt/Pierce_1856.txt'), WindowsPath('C:/Users/F0040RP/shared/RR-workshop-data/state-of-the-union-dataset/txt/Polk_1845.txt'), WindowsPath('C:/Users/F0040RP/shared/RR-workshop-data/state-of-the-union-dataset/txt/Polk_1846.txt'), WindowsPath('C:/Users/F0040RP/shared/RR-workshop-data/state-of-the-union-dataset/txt/Polk_1847.txt'), WindowsPath('C:/Users/F0040RP/shared/RR-workshop-data/state-of-the-union-dataset/txt/Polk_1848.txt'), WindowsPath('C:/Users/F0040RP/shared/RR-workshop-data/state-of-the-union-dataset/txt/Reagan_1982.txt'), WindowsPath('C:/Users/F0040RP/shared/RR-workshop-data/state-of-the-union-dataset/txt/Reagan_1983.txt'), WindowsPath('C:/Users/F0040RP/shared/RR-workshop-data/state-of-the-union-dataset/txt/Reagan_1984.txt'), WindowsPath('C:/Users/F0040RP/shared/RR-workshop-data/state-of-the-union-dataset/txt/Reagan_1985.txt'), WindowsPath('C:/Users/F0040RP/shared/RR-workshop-data/state-of-the-union-dataset/txt/Reagan_1986.txt'), WindowsPath('C:/Users/F0040RP/shared/RR-workshop-data/state-of-the-union-dataset/txt/Reagan_1987.txt'), WindowsPath('C:/Users/F0040RP/shared/RR-workshop-data/state-of-the-union-dataset/txt/Reagan_1988.txt'), WindowsPath('C:/Users/F0040RP/shared/RR-workshop-data/state-of-the-union-dataset/txt/Roosevelt_1901.txt'), WindowsPath('C:/Users/F0040RP/shared/RR-workshop-data/state-of-the-union-dataset/txt/Roosevelt_1902.txt'), WindowsPath('C:/Users/F0040RP/shared/RR-workshop-data/state-of-the-union-dataset/txt/Roosevelt_1903.txt'), WindowsPath('C:/Users/F0040RP/shared/RR-workshop-data/state-of-the-union-dataset/txt/Roosevelt_1904.txt'), WindowsPath('C:/Users/F0040RP/shared/RR-workshop-data/state-of-the-union-dataset/txt/Roosevelt_1905.txt'), WindowsPath('C:/Users/F0040RP/shared/RR-workshop-data/state-of-the-union-dataset/txt/Roosevelt_1906.txt'), WindowsPath('C:/Users/F0040RP/shared/RR-workshop-data/state-of-the-union-dataset/txt/Roosevelt_1907.txt'), WindowsPath('C:/Users/F0040RP/shared/RR-workshop-data/state-of-the-union-dataset/txt/Roosevelt_1908.txt'), WindowsPath('C:/Users/F0040RP/shared/RR-workshop-data/state-of-the-union-dataset/txt/Roosevelt_1934.txt'), WindowsPath('C:/Users/F0040RP/shared/RR-workshop-data/state-of-the-union-dataset/txt/Roosevelt_1935.txt'), WindowsPath('C:/Users/F0040RP/shared/RR-workshop-data/state-of-the-union-dataset/txt/Roosevelt_1936.txt'), WindowsPath('C:/Users/F0040RP/shared/RR-workshop-data/state-of-the-union-dataset/txt/Roosevelt_1937.txt'), WindowsPath('C:/Users/F0040RP/shared/RR-workshop-data/state-of-the-union-dataset/txt/Roosevelt_1938.txt'), WindowsPath('C:/Users/F0040RP/shared/RR-workshop-data/state-of-the-union-dataset/txt/Roosevelt_1939.txt'), WindowsPath('C:/Users/F0040RP/shared/RR-workshop-data/state-of-the-union-dataset/txt/Roosevelt_1940.txt'), WindowsPath('C:/Users/F0040RP/shared/RR-workshop-data/state-of-the-union-dataset/txt/Roosevelt_1941.txt'), WindowsPath('C:/Users/F0040RP/shared/RR-workshop-data/state-of-the-union-dataset/txt/Roosevelt_1942.txt'), WindowsPath('C:/Users/F0040RP/shared/RR-workshop-data/state-of-the-union-dataset/txt/Roosevelt_1943.txt'), WindowsPath('C:/Users/F0040RP/shared/RR-workshop-data/state-of-the-union-dataset/txt/Roosevelt_1944.txt'), WindowsPath('C:/Users/F0040RP/shared/RR-workshop-data/state-of-the-union-dataset/txt/Roosevelt_1945.txt'), WindowsPath('C:/Users/F0040RP/shared/RR-workshop-data/state-of-the-union-dataset/txt/Taft_1909.txt'), WindowsPath('C:/Users/F0040RP/shared/RR-workshop-data/state-of-the-union-dataset/txt/Taft_1910.txt'), WindowsPath('C:/Users/F0040RP/shared/RR-workshop-data/state-of-the-union-dataset/txt/Taft_1911.txt'), WindowsPath('C:/Users/F0040RP/shared/RR-workshop-data/state-of-the-union-dataset/txt/Taft_1912.txt'), WindowsPath('C:/Users/F0040RP/shared/RR-workshop-data/state-of-the-union-dataset/txt/Taylor_1849.txt'), WindowsPath('C:/Users/F0040RP/shared/RR-workshop-data/state-of-the-union-dataset/txt/Truman_1946.txt'), WindowsPath('C:/Users/F0040RP/shared/RR-workshop-data/state-of-the-union-dataset/txt/Truman_1947.txt'), WindowsPath('C:/Users/F0040RP/shared/RR-workshop-data/state-of-the-union-dataset/txt/Truman_1948.txt'), WindowsPath('C:/Users/F0040RP/shared/RR-workshop-data/state-of-the-union-dataset/txt/Truman_1949.txt'), WindowsPath('C:/Users/F0040RP/shared/RR-workshop-data/state-of-the-union-dataset/txt/Truman_1950.txt'), WindowsPath('C:/Users/F0040RP/shared/RR-workshop-data/state-of-the-union-dataset/txt/Truman_1951.txt'), WindowsPath('C:/Users/F0040RP/shared/RR-workshop-data/state-of-the-union-dataset/txt/Truman_1952.txt'), WindowsPath('C:/Users/F0040RP/shared/RR-workshop-data/state-of-the-union-dataset/txt/Truman_1953.txt'), WindowsPath('C:/Users/F0040RP/shared/RR-workshop-data/state-of-the-union-dataset/txt/Trump_2017.txt'), WindowsPath('C:/Users/F0040RP/shared/RR-workshop-data/state-of-the-union-dataset/txt/Trump_2018.txt'), WindowsPath('C:/Users/F0040RP/shared/RR-workshop-data/state-of-the-union-dataset/txt/Trump_2019.txt'), WindowsPath('C:/Users/F0040RP/shared/RR-workshop-data/state-of-the-union-dataset/txt/Trump_2020.txt'), WindowsPath('C:/Users/F0040RP/shared/RR-workshop-data/state-of-the-union-dataset/txt/Tyler_1841.txt'), WindowsPath('C:/Users/F0040RP/shared/RR-workshop-data/state-of-the-union-dataset/txt/Tyler_1842.txt'), WindowsPath('C:/Users/F0040RP/shared/RR-workshop-data/state-of-the-union-dataset/txt/Tyler_1843.txt'), WindowsPath('C:/Users/F0040RP/shared/RR-workshop-data/state-of-the-union-dataset/txt/Tyler_1844.txt'), WindowsPath('C:/Users/F0040RP/shared/RR-workshop-data/state-of-the-union-dataset/txt/Washington_1790.txt'), WindowsPath('C:/Users/F0040RP/shared/RR-workshop-data/state-of-the-union-dataset/txt/Washington_1791.txt'), WindowsPath('C:/Users/F0040RP/shared/RR-workshop-data/state-of-the-union-dataset/txt/Washington_1792.txt'), WindowsPath('C:/Users/F0040RP/shared/RR-workshop-data/state-of-the-union-dataset/txt/Washington_1793.txt'), WindowsPath('C:/Users/F0040RP/shared/RR-workshop-data/state-of-the-union-dataset/txt/Washington_1794.txt'), WindowsPath('C:/Users/F0040RP/shared/RR-workshop-data/state-of-the-union-dataset/txt/Washington_1795.txt'), WindowsPath('C:/Users/F0040RP/shared/RR-workshop-data/state-of-the-union-dataset/txt/Washington_1796.txt'), WindowsPath('C:/Users/F0040RP/shared/RR-workshop-data/state-of-the-union-dataset/txt/Wilson_1913.txt'), WindowsPath('C:/Users/F0040RP/shared/RR-workshop-data/state-of-the-union-dataset/txt/Wilson_1914.txt'), WindowsPath('C:/Users/F0040RP/shared/RR-workshop-data/state-of-the-union-dataset/txt/Wilson_1915.txt'), WindowsPath('C:/Users/F0040RP/shared/RR-workshop-data/state-of-the-union-dataset/txt/Wilson_1916.txt'), WindowsPath('C:/Users/F0040RP/shared/RR-workshop-data/state-of-the-union-dataset/txt/Wilson_1917.txt'), WindowsPath('C:/Users/F0040RP/shared/RR-workshop-data/state-of-the-union-dataset/txt/Wilson_1918.txt'), WindowsPath('C:/Users/F0040RP/shared/RR-workshop-data/state-of-the-union-dataset/txt/Wilson_1919.txt'), WindowsPath('C:/Users/F0040RP/shared/RR-workshop-data/state-of-the-union-dataset/txt/Wilson_1920.txt')]\n"
     ]
    }
   ],
   "source": [
    "pathlist = sorted(textdir.glob(\"*.txt\")) \n",
    "print(pathlist)"
   ]
  },
  {
   "cell_type": "code",
   "execution_count": 79,
   "metadata": {},
   "outputs": [
    {
     "name": "stdout",
     "output_type": "stream",
     "text": [
      "C:\\Users\\F0040RP\\shared\\RR-workshop-data\\state-of-the-union-dataset\\txt\\Adams_1797.txt\n",
      "C:\\Users\\F0040RP\\shared\\RR-workshop-data\\state-of-the-union-dataset\\txt\\Adams_1798.txt\n",
      "C:\\Users\\F0040RP\\shared\\RR-workshop-data\\state-of-the-union-dataset\\txt\\Adams_1799.txt\n",
      "C:\\Users\\F0040RP\\shared\\RR-workshop-data\\state-of-the-union-dataset\\txt\\Adams_1800.txt\n",
      "C:\\Users\\F0040RP\\shared\\RR-workshop-data\\state-of-the-union-dataset\\txt\\Adams_1825.txt\n",
      "C:\\Users\\F0040RP\\shared\\RR-workshop-data\\state-of-the-union-dataset\\txt\\Adams_1826.txt\n",
      "C:\\Users\\F0040RP\\shared\\RR-workshop-data\\state-of-the-union-dataset\\txt\\Adams_1827.txt\n",
      "C:\\Users\\F0040RP\\shared\\RR-workshop-data\\state-of-the-union-dataset\\txt\\Adams_1828.txt\n",
      "C:\\Users\\F0040RP\\shared\\RR-workshop-data\\state-of-the-union-dataset\\txt\\Arthur_1881.txt\n",
      "C:\\Users\\F0040RP\\shared\\RR-workshop-data\\state-of-the-union-dataset\\txt\\Arthur_1882.txt\n",
      "C:\\Users\\F0040RP\\shared\\RR-workshop-data\\state-of-the-union-dataset\\txt\\Arthur_1883.txt\n",
      "C:\\Users\\F0040RP\\shared\\RR-workshop-data\\state-of-the-union-dataset\\txt\\Arthur_1884.txt\n",
      "C:\\Users\\F0040RP\\shared\\RR-workshop-data\\state-of-the-union-dataset\\txt\\Biden_2021.txt\n",
      "C:\\Users\\F0040RP\\shared\\RR-workshop-data\\state-of-the-union-dataset\\txt\\Biden_2022.txt\n",
      "C:\\Users\\F0040RP\\shared\\RR-workshop-data\\state-of-the-union-dataset\\txt\\Biden_2023.txt\n",
      "C:\\Users\\F0040RP\\shared\\RR-workshop-data\\state-of-the-union-dataset\\txt\\Buchanan_1857.txt\n",
      "C:\\Users\\F0040RP\\shared\\RR-workshop-data\\state-of-the-union-dataset\\txt\\Buchanan_1858.txt\n",
      "C:\\Users\\F0040RP\\shared\\RR-workshop-data\\state-of-the-union-dataset\\txt\\Buchanan_1859.txt\n",
      "C:\\Users\\F0040RP\\shared\\RR-workshop-data\\state-of-the-union-dataset\\txt\\Buchanan_1860.txt\n",
      "C:\\Users\\F0040RP\\shared\\RR-workshop-data\\state-of-the-union-dataset\\txt\\Buren_1837.txt\n",
      "C:\\Users\\F0040RP\\shared\\RR-workshop-data\\state-of-the-union-dataset\\txt\\Buren_1838.txt\n",
      "C:\\Users\\F0040RP\\shared\\RR-workshop-data\\state-of-the-union-dataset\\txt\\Buren_1839.txt\n",
      "C:\\Users\\F0040RP\\shared\\RR-workshop-data\\state-of-the-union-dataset\\txt\\Buren_1840.txt\n",
      "C:\\Users\\F0040RP\\shared\\RR-workshop-data\\state-of-the-union-dataset\\txt\\Bush_1989.txt\n",
      "C:\\Users\\F0040RP\\shared\\RR-workshop-data\\state-of-the-union-dataset\\txt\\Bush_1990.txt\n",
      "C:\\Users\\F0040RP\\shared\\RR-workshop-data\\state-of-the-union-dataset\\txt\\Bush_1991.txt\n",
      "C:\\Users\\F0040RP\\shared\\RR-workshop-data\\state-of-the-union-dataset\\txt\\Bush_1992.txt\n",
      "C:\\Users\\F0040RP\\shared\\RR-workshop-data\\state-of-the-union-dataset\\txt\\Bush_2001.txt\n",
      "C:\\Users\\F0040RP\\shared\\RR-workshop-data\\state-of-the-union-dataset\\txt\\Bush_2002.txt\n",
      "C:\\Users\\F0040RP\\shared\\RR-workshop-data\\state-of-the-union-dataset\\txt\\Bush_2003.txt\n",
      "C:\\Users\\F0040RP\\shared\\RR-workshop-data\\state-of-the-union-dataset\\txt\\Bush_2004.txt\n",
      "C:\\Users\\F0040RP\\shared\\RR-workshop-data\\state-of-the-union-dataset\\txt\\Bush_2005.txt\n",
      "C:\\Users\\F0040RP\\shared\\RR-workshop-data\\state-of-the-union-dataset\\txt\\Bush_2006.txt\n",
      "C:\\Users\\F0040RP\\shared\\RR-workshop-data\\state-of-the-union-dataset\\txt\\Bush_2007.txt\n",
      "C:\\Users\\F0040RP\\shared\\RR-workshop-data\\state-of-the-union-dataset\\txt\\Bush_2008.txt\n",
      "C:\\Users\\F0040RP\\shared\\RR-workshop-data\\state-of-the-union-dataset\\txt\\Carter_1978.txt\n",
      "C:\\Users\\F0040RP\\shared\\RR-workshop-data\\state-of-the-union-dataset\\txt\\Carter_1979.txt\n",
      "C:\\Users\\F0040RP\\shared\\RR-workshop-data\\state-of-the-union-dataset\\txt\\Carter_1980.txt\n",
      "C:\\Users\\F0040RP\\shared\\RR-workshop-data\\state-of-the-union-dataset\\txt\\Carter_1981.txt\n",
      "C:\\Users\\F0040RP\\shared\\RR-workshop-data\\state-of-the-union-dataset\\txt\\Cleveland_1885.txt\n",
      "C:\\Users\\F0040RP\\shared\\RR-workshop-data\\state-of-the-union-dataset\\txt\\Cleveland_1886.txt\n",
      "C:\\Users\\F0040RP\\shared\\RR-workshop-data\\state-of-the-union-dataset\\txt\\Cleveland_1887.txt\n",
      "C:\\Users\\F0040RP\\shared\\RR-workshop-data\\state-of-the-union-dataset\\txt\\Cleveland_1888.txt\n",
      "C:\\Users\\F0040RP\\shared\\RR-workshop-data\\state-of-the-union-dataset\\txt\\Cleveland_1893.txt\n",
      "C:\\Users\\F0040RP\\shared\\RR-workshop-data\\state-of-the-union-dataset\\txt\\Cleveland_1894.txt\n",
      "C:\\Users\\F0040RP\\shared\\RR-workshop-data\\state-of-the-union-dataset\\txt\\Cleveland_1895.txt\n",
      "C:\\Users\\F0040RP\\shared\\RR-workshop-data\\state-of-the-union-dataset\\txt\\Cleveland_1896.txt\n",
      "C:\\Users\\F0040RP\\shared\\RR-workshop-data\\state-of-the-union-dataset\\txt\\Clinton_1993.txt\n",
      "C:\\Users\\F0040RP\\shared\\RR-workshop-data\\state-of-the-union-dataset\\txt\\Clinton_1994.txt\n",
      "C:\\Users\\F0040RP\\shared\\RR-workshop-data\\state-of-the-union-dataset\\txt\\Clinton_1995.txt\n",
      "C:\\Users\\F0040RP\\shared\\RR-workshop-data\\state-of-the-union-dataset\\txt\\Clinton_1996.txt\n",
      "C:\\Users\\F0040RP\\shared\\RR-workshop-data\\state-of-the-union-dataset\\txt\\Clinton_1997.txt\n",
      "C:\\Users\\F0040RP\\shared\\RR-workshop-data\\state-of-the-union-dataset\\txt\\Clinton_1998.txt\n",
      "C:\\Users\\F0040RP\\shared\\RR-workshop-data\\state-of-the-union-dataset\\txt\\Clinton_1999.txt\n",
      "C:\\Users\\F0040RP\\shared\\RR-workshop-data\\state-of-the-union-dataset\\txt\\Clinton_2000.txt\n",
      "C:\\Users\\F0040RP\\shared\\RR-workshop-data\\state-of-the-union-dataset\\txt\\Coolidge_1923.txt\n",
      "C:\\Users\\F0040RP\\shared\\RR-workshop-data\\state-of-the-union-dataset\\txt\\Coolidge_1924.txt\n",
      "C:\\Users\\F0040RP\\shared\\RR-workshop-data\\state-of-the-union-dataset\\txt\\Coolidge_1925.txt\n",
      "C:\\Users\\F0040RP\\shared\\RR-workshop-data\\state-of-the-union-dataset\\txt\\Coolidge_1926.txt\n",
      "C:\\Users\\F0040RP\\shared\\RR-workshop-data\\state-of-the-union-dataset\\txt\\Coolidge_1927.txt\n",
      "C:\\Users\\F0040RP\\shared\\RR-workshop-data\\state-of-the-union-dataset\\txt\\Coolidge_1928.txt\n",
      "C:\\Users\\F0040RP\\shared\\RR-workshop-data\\state-of-the-union-dataset\\txt\\Eisenhower_1954.txt\n",
      "C:\\Users\\F0040RP\\shared\\RR-workshop-data\\state-of-the-union-dataset\\txt\\Eisenhower_1955.txt\n",
      "C:\\Users\\F0040RP\\shared\\RR-workshop-data\\state-of-the-union-dataset\\txt\\Eisenhower_1956.txt\n",
      "C:\\Users\\F0040RP\\shared\\RR-workshop-data\\state-of-the-union-dataset\\txt\\Eisenhower_1957.txt\n",
      "C:\\Users\\F0040RP\\shared\\RR-workshop-data\\state-of-the-union-dataset\\txt\\Eisenhower_1958.txt\n",
      "C:\\Users\\F0040RP\\shared\\RR-workshop-data\\state-of-the-union-dataset\\txt\\Eisenhower_1959.txt\n",
      "C:\\Users\\F0040RP\\shared\\RR-workshop-data\\state-of-the-union-dataset\\txt\\Eisenhower_1960.txt\n",
      "C:\\Users\\F0040RP\\shared\\RR-workshop-data\\state-of-the-union-dataset\\txt\\Eisenhower_1961.txt\n",
      "C:\\Users\\F0040RP\\shared\\RR-workshop-data\\state-of-the-union-dataset\\txt\\Fillmore_1850.txt\n",
      "C:\\Users\\F0040RP\\shared\\RR-workshop-data\\state-of-the-union-dataset\\txt\\Fillmore_1851.txt\n",
      "C:\\Users\\F0040RP\\shared\\RR-workshop-data\\state-of-the-union-dataset\\txt\\Fillmore_1852.txt\n",
      "C:\\Users\\F0040RP\\shared\\RR-workshop-data\\state-of-the-union-dataset\\txt\\Ford_1975.txt\n",
      "C:\\Users\\F0040RP\\shared\\RR-workshop-data\\state-of-the-union-dataset\\txt\\Ford_1976.txt\n",
      "C:\\Users\\F0040RP\\shared\\RR-workshop-data\\state-of-the-union-dataset\\txt\\Ford_1977.txt\n",
      "C:\\Users\\F0040RP\\shared\\RR-workshop-data\\state-of-the-union-dataset\\txt\\Grant_1869.txt\n",
      "C:\\Users\\F0040RP\\shared\\RR-workshop-data\\state-of-the-union-dataset\\txt\\Grant_1870.txt\n",
      "C:\\Users\\F0040RP\\shared\\RR-workshop-data\\state-of-the-union-dataset\\txt\\Grant_1871.txt\n",
      "C:\\Users\\F0040RP\\shared\\RR-workshop-data\\state-of-the-union-dataset\\txt\\Grant_1872.txt\n",
      "C:\\Users\\F0040RP\\shared\\RR-workshop-data\\state-of-the-union-dataset\\txt\\Grant_1873.txt\n",
      "C:\\Users\\F0040RP\\shared\\RR-workshop-data\\state-of-the-union-dataset\\txt\\Grant_1874.txt\n",
      "C:\\Users\\F0040RP\\shared\\RR-workshop-data\\state-of-the-union-dataset\\txt\\Grant_1875.txt\n",
      "C:\\Users\\F0040RP\\shared\\RR-workshop-data\\state-of-the-union-dataset\\txt\\Grant_1876.txt\n",
      "C:\\Users\\F0040RP\\shared\\RR-workshop-data\\state-of-the-union-dataset\\txt\\Harding_1921.txt\n",
      "C:\\Users\\F0040RP\\shared\\RR-workshop-data\\state-of-the-union-dataset\\txt\\Harding_1922.txt\n",
      "C:\\Users\\F0040RP\\shared\\RR-workshop-data\\state-of-the-union-dataset\\txt\\Harrison_1889.txt\n",
      "C:\\Users\\F0040RP\\shared\\RR-workshop-data\\state-of-the-union-dataset\\txt\\Harrison_1890.txt\n",
      "C:\\Users\\F0040RP\\shared\\RR-workshop-data\\state-of-the-union-dataset\\txt\\Harrison_1891.txt\n",
      "C:\\Users\\F0040RP\\shared\\RR-workshop-data\\state-of-the-union-dataset\\txt\\Harrison_1892.txt\n",
      "C:\\Users\\F0040RP\\shared\\RR-workshop-data\\state-of-the-union-dataset\\txt\\Hayes_1877.txt\n",
      "C:\\Users\\F0040RP\\shared\\RR-workshop-data\\state-of-the-union-dataset\\txt\\Hayes_1878.txt\n",
      "C:\\Users\\F0040RP\\shared\\RR-workshop-data\\state-of-the-union-dataset\\txt\\Hayes_1879.txt\n",
      "C:\\Users\\F0040RP\\shared\\RR-workshop-data\\state-of-the-union-dataset\\txt\\Hayes_1880.txt\n",
      "C:\\Users\\F0040RP\\shared\\RR-workshop-data\\state-of-the-union-dataset\\txt\\Hoover_1929.txt\n",
      "C:\\Users\\F0040RP\\shared\\RR-workshop-data\\state-of-the-union-dataset\\txt\\Hoover_1930.txt\n",
      "C:\\Users\\F0040RP\\shared\\RR-workshop-data\\state-of-the-union-dataset\\txt\\Hoover_1931.txt\n",
      "C:\\Users\\F0040RP\\shared\\RR-workshop-data\\state-of-the-union-dataset\\txt\\Hoover_1932.txt\n",
      "C:\\Users\\F0040RP\\shared\\RR-workshop-data\\state-of-the-union-dataset\\txt\\Jackson_1829.txt\n",
      "C:\\Users\\F0040RP\\shared\\RR-workshop-data\\state-of-the-union-dataset\\txt\\Jackson_1830.txt\n",
      "C:\\Users\\F0040RP\\shared\\RR-workshop-data\\state-of-the-union-dataset\\txt\\Jackson_1831.txt\n",
      "C:\\Users\\F0040RP\\shared\\RR-workshop-data\\state-of-the-union-dataset\\txt\\Jackson_1832.txt\n",
      "C:\\Users\\F0040RP\\shared\\RR-workshop-data\\state-of-the-union-dataset\\txt\\Jackson_1833.txt\n",
      "C:\\Users\\F0040RP\\shared\\RR-workshop-data\\state-of-the-union-dataset\\txt\\Jackson_1834.txt\n",
      "C:\\Users\\F0040RP\\shared\\RR-workshop-data\\state-of-the-union-dataset\\txt\\Jackson_1835.txt\n",
      "C:\\Users\\F0040RP\\shared\\RR-workshop-data\\state-of-the-union-dataset\\txt\\Jackson_1836.txt\n",
      "C:\\Users\\F0040RP\\shared\\RR-workshop-data\\state-of-the-union-dataset\\txt\\Jefferson_1801.txt\n",
      "C:\\Users\\F0040RP\\shared\\RR-workshop-data\\state-of-the-union-dataset\\txt\\Jefferson_1802.txt\n",
      "C:\\Users\\F0040RP\\shared\\RR-workshop-data\\state-of-the-union-dataset\\txt\\Jefferson_1803.txt\n",
      "C:\\Users\\F0040RP\\shared\\RR-workshop-data\\state-of-the-union-dataset\\txt\\Jefferson_1804.txt\n",
      "C:\\Users\\F0040RP\\shared\\RR-workshop-data\\state-of-the-union-dataset\\txt\\Jefferson_1805.txt\n",
      "C:\\Users\\F0040RP\\shared\\RR-workshop-data\\state-of-the-union-dataset\\txt\\Jefferson_1806.txt\n",
      "C:\\Users\\F0040RP\\shared\\RR-workshop-data\\state-of-the-union-dataset\\txt\\Jefferson_1807.txt\n",
      "C:\\Users\\F0040RP\\shared\\RR-workshop-data\\state-of-the-union-dataset\\txt\\Jefferson_1808.txt\n",
      "C:\\Users\\F0040RP\\shared\\RR-workshop-data\\state-of-the-union-dataset\\txt\\Johnson_1865.txt\n",
      "C:\\Users\\F0040RP\\shared\\RR-workshop-data\\state-of-the-union-dataset\\txt\\Johnson_1866.txt\n",
      "C:\\Users\\F0040RP\\shared\\RR-workshop-data\\state-of-the-union-dataset\\txt\\Johnson_1867.txt\n",
      "C:\\Users\\F0040RP\\shared\\RR-workshop-data\\state-of-the-union-dataset\\txt\\Johnson_1868.txt\n",
      "C:\\Users\\F0040RP\\shared\\RR-workshop-data\\state-of-the-union-dataset\\txt\\Johnson_1964.txt\n",
      "C:\\Users\\F0040RP\\shared\\RR-workshop-data\\state-of-the-union-dataset\\txt\\Johnson_1965.txt\n",
      "C:\\Users\\F0040RP\\shared\\RR-workshop-data\\state-of-the-union-dataset\\txt\\Johnson_1966.txt\n",
      "C:\\Users\\F0040RP\\shared\\RR-workshop-data\\state-of-the-union-dataset\\txt\\Johnson_1967.txt\n",
      "C:\\Users\\F0040RP\\shared\\RR-workshop-data\\state-of-the-union-dataset\\txt\\Johnson_1968.txt\n",
      "C:\\Users\\F0040RP\\shared\\RR-workshop-data\\state-of-the-union-dataset\\txt\\Johnson_1969.txt\n",
      "C:\\Users\\F0040RP\\shared\\RR-workshop-data\\state-of-the-union-dataset\\txt\\Kennedy_1962.txt\n",
      "C:\\Users\\F0040RP\\shared\\RR-workshop-data\\state-of-the-union-dataset\\txt\\Kennedy_1963.txt\n",
      "C:\\Users\\F0040RP\\shared\\RR-workshop-data\\state-of-the-union-dataset\\txt\\Lincoln_1861.txt\n",
      "C:\\Users\\F0040RP\\shared\\RR-workshop-data\\state-of-the-union-dataset\\txt\\Lincoln_1862.txt\n",
      "C:\\Users\\F0040RP\\shared\\RR-workshop-data\\state-of-the-union-dataset\\txt\\Lincoln_1863.txt\n",
      "C:\\Users\\F0040RP\\shared\\RR-workshop-data\\state-of-the-union-dataset\\txt\\Lincoln_1864.txt\n",
      "C:\\Users\\F0040RP\\shared\\RR-workshop-data\\state-of-the-union-dataset\\txt\\Madison_1809.txt\n",
      "C:\\Users\\F0040RP\\shared\\RR-workshop-data\\state-of-the-union-dataset\\txt\\Madison_1810.txt\n",
      "C:\\Users\\F0040RP\\shared\\RR-workshop-data\\state-of-the-union-dataset\\txt\\Madison_1811.txt\n",
      "C:\\Users\\F0040RP\\shared\\RR-workshop-data\\state-of-the-union-dataset\\txt\\Madison_1812.txt\n",
      "C:\\Users\\F0040RP\\shared\\RR-workshop-data\\state-of-the-union-dataset\\txt\\Madison_1813.txt\n",
      "C:\\Users\\F0040RP\\shared\\RR-workshop-data\\state-of-the-union-dataset\\txt\\Madison_1814.txt\n",
      "C:\\Users\\F0040RP\\shared\\RR-workshop-data\\state-of-the-union-dataset\\txt\\Madison_1815.txt\n",
      "C:\\Users\\F0040RP\\shared\\RR-workshop-data\\state-of-the-union-dataset\\txt\\Madison_1816.txt\n",
      "C:\\Users\\F0040RP\\shared\\RR-workshop-data\\state-of-the-union-dataset\\txt\\McKinley_1897.txt\n",
      "C:\\Users\\F0040RP\\shared\\RR-workshop-data\\state-of-the-union-dataset\\txt\\McKinley_1898.txt\n",
      "C:\\Users\\F0040RP\\shared\\RR-workshop-data\\state-of-the-union-dataset\\txt\\McKinley_1899.txt\n",
      "C:\\Users\\F0040RP\\shared\\RR-workshop-data\\state-of-the-union-dataset\\txt\\McKinley_1900.txt\n",
      "C:\\Users\\F0040RP\\shared\\RR-workshop-data\\state-of-the-union-dataset\\txt\\Monroe_1817.txt\n",
      "C:\\Users\\F0040RP\\shared\\RR-workshop-data\\state-of-the-union-dataset\\txt\\Monroe_1818.txt\n",
      "C:\\Users\\F0040RP\\shared\\RR-workshop-data\\state-of-the-union-dataset\\txt\\Monroe_1819.txt\n",
      "C:\\Users\\F0040RP\\shared\\RR-workshop-data\\state-of-the-union-dataset\\txt\\Monroe_1820.txt\n",
      "C:\\Users\\F0040RP\\shared\\RR-workshop-data\\state-of-the-union-dataset\\txt\\Monroe_1821.txt\n",
      "C:\\Users\\F0040RP\\shared\\RR-workshop-data\\state-of-the-union-dataset\\txt\\Monroe_1822.txt\n",
      "C:\\Users\\F0040RP\\shared\\RR-workshop-data\\state-of-the-union-dataset\\txt\\Monroe_1823.txt\n",
      "C:\\Users\\F0040RP\\shared\\RR-workshop-data\\state-of-the-union-dataset\\txt\\Monroe_1824.txt\n",
      "C:\\Users\\F0040RP\\shared\\RR-workshop-data\\state-of-the-union-dataset\\txt\\Nixon_1970.txt\n",
      "C:\\Users\\F0040RP\\shared\\RR-workshop-data\\state-of-the-union-dataset\\txt\\Nixon_1971.txt\n",
      "C:\\Users\\F0040RP\\shared\\RR-workshop-data\\state-of-the-union-dataset\\txt\\Nixon_1972.txt\n",
      "C:\\Users\\F0040RP\\shared\\RR-workshop-data\\state-of-the-union-dataset\\txt\\Nixon_1973.txt\n",
      "C:\\Users\\F0040RP\\shared\\RR-workshop-data\\state-of-the-union-dataset\\txt\\Nixon_1974.txt\n",
      "C:\\Users\\F0040RP\\shared\\RR-workshop-data\\state-of-the-union-dataset\\txt\\Obama_2009.txt\n",
      "C:\\Users\\F0040RP\\shared\\RR-workshop-data\\state-of-the-union-dataset\\txt\\Obama_2010.txt\n",
      "C:\\Users\\F0040RP\\shared\\RR-workshop-data\\state-of-the-union-dataset\\txt\\Obama_2011.txt\n",
      "C:\\Users\\F0040RP\\shared\\RR-workshop-data\\state-of-the-union-dataset\\txt\\Obama_2012.txt\n",
      "C:\\Users\\F0040RP\\shared\\RR-workshop-data\\state-of-the-union-dataset\\txt\\Obama_2013.txt\n",
      "C:\\Users\\F0040RP\\shared\\RR-workshop-data\\state-of-the-union-dataset\\txt\\Obama_2014.txt\n",
      "C:\\Users\\F0040RP\\shared\\RR-workshop-data\\state-of-the-union-dataset\\txt\\Obama_2015.txt\n",
      "C:\\Users\\F0040RP\\shared\\RR-workshop-data\\state-of-the-union-dataset\\txt\\Obama_2016.txt\n",
      "C:\\Users\\F0040RP\\shared\\RR-workshop-data\\state-of-the-union-dataset\\txt\\Pierce_1853.txt\n",
      "C:\\Users\\F0040RP\\shared\\RR-workshop-data\\state-of-the-union-dataset\\txt\\Pierce_1854.txt\n",
      "C:\\Users\\F0040RP\\shared\\RR-workshop-data\\state-of-the-union-dataset\\txt\\Pierce_1855.txt\n",
      "C:\\Users\\F0040RP\\shared\\RR-workshop-data\\state-of-the-union-dataset\\txt\\Pierce_1856.txt\n",
      "C:\\Users\\F0040RP\\shared\\RR-workshop-data\\state-of-the-union-dataset\\txt\\Polk_1845.txt\n",
      "C:\\Users\\F0040RP\\shared\\RR-workshop-data\\state-of-the-union-dataset\\txt\\Polk_1846.txt\n",
      "C:\\Users\\F0040RP\\shared\\RR-workshop-data\\state-of-the-union-dataset\\txt\\Polk_1847.txt\n",
      "C:\\Users\\F0040RP\\shared\\RR-workshop-data\\state-of-the-union-dataset\\txt\\Polk_1848.txt\n",
      "C:\\Users\\F0040RP\\shared\\RR-workshop-data\\state-of-the-union-dataset\\txt\\Reagan_1982.txt\n",
      "C:\\Users\\F0040RP\\shared\\RR-workshop-data\\state-of-the-union-dataset\\txt\\Reagan_1983.txt\n",
      "C:\\Users\\F0040RP\\shared\\RR-workshop-data\\state-of-the-union-dataset\\txt\\Reagan_1984.txt\n",
      "C:\\Users\\F0040RP\\shared\\RR-workshop-data\\state-of-the-union-dataset\\txt\\Reagan_1985.txt\n",
      "C:\\Users\\F0040RP\\shared\\RR-workshop-data\\state-of-the-union-dataset\\txt\\Reagan_1986.txt\n",
      "C:\\Users\\F0040RP\\shared\\RR-workshop-data\\state-of-the-union-dataset\\txt\\Reagan_1987.txt\n",
      "C:\\Users\\F0040RP\\shared\\RR-workshop-data\\state-of-the-union-dataset\\txt\\Reagan_1988.txt\n",
      "C:\\Users\\F0040RP\\shared\\RR-workshop-data\\state-of-the-union-dataset\\txt\\Roosevelt_1901.txt\n",
      "C:\\Users\\F0040RP\\shared\\RR-workshop-data\\state-of-the-union-dataset\\txt\\Roosevelt_1902.txt\n",
      "C:\\Users\\F0040RP\\shared\\RR-workshop-data\\state-of-the-union-dataset\\txt\\Roosevelt_1903.txt\n",
      "C:\\Users\\F0040RP\\shared\\RR-workshop-data\\state-of-the-union-dataset\\txt\\Roosevelt_1904.txt\n",
      "C:\\Users\\F0040RP\\shared\\RR-workshop-data\\state-of-the-union-dataset\\txt\\Roosevelt_1905.txt\n",
      "C:\\Users\\F0040RP\\shared\\RR-workshop-data\\state-of-the-union-dataset\\txt\\Roosevelt_1906.txt\n",
      "C:\\Users\\F0040RP\\shared\\RR-workshop-data\\state-of-the-union-dataset\\txt\\Roosevelt_1907.txt\n",
      "C:\\Users\\F0040RP\\shared\\RR-workshop-data\\state-of-the-union-dataset\\txt\\Roosevelt_1908.txt\n",
      "C:\\Users\\F0040RP\\shared\\RR-workshop-data\\state-of-the-union-dataset\\txt\\Roosevelt_1934.txt\n",
      "C:\\Users\\F0040RP\\shared\\RR-workshop-data\\state-of-the-union-dataset\\txt\\Roosevelt_1935.txt\n",
      "C:\\Users\\F0040RP\\shared\\RR-workshop-data\\state-of-the-union-dataset\\txt\\Roosevelt_1936.txt\n",
      "C:\\Users\\F0040RP\\shared\\RR-workshop-data\\state-of-the-union-dataset\\txt\\Roosevelt_1937.txt\n",
      "C:\\Users\\F0040RP\\shared\\RR-workshop-data\\state-of-the-union-dataset\\txt\\Roosevelt_1938.txt\n",
      "C:\\Users\\F0040RP\\shared\\RR-workshop-data\\state-of-the-union-dataset\\txt\\Roosevelt_1939.txt\n",
      "C:\\Users\\F0040RP\\shared\\RR-workshop-data\\state-of-the-union-dataset\\txt\\Roosevelt_1940.txt\n",
      "C:\\Users\\F0040RP\\shared\\RR-workshop-data\\state-of-the-union-dataset\\txt\\Roosevelt_1941.txt\n",
      "C:\\Users\\F0040RP\\shared\\RR-workshop-data\\state-of-the-union-dataset\\txt\\Roosevelt_1942.txt\n",
      "C:\\Users\\F0040RP\\shared\\RR-workshop-data\\state-of-the-union-dataset\\txt\\Roosevelt_1943.txt\n",
      "C:\\Users\\F0040RP\\shared\\RR-workshop-data\\state-of-the-union-dataset\\txt\\Roosevelt_1944.txt\n",
      "C:\\Users\\F0040RP\\shared\\RR-workshop-data\\state-of-the-union-dataset\\txt\\Roosevelt_1945.txt\n",
      "C:\\Users\\F0040RP\\shared\\RR-workshop-data\\state-of-the-union-dataset\\txt\\Taft_1909.txt\n",
      "C:\\Users\\F0040RP\\shared\\RR-workshop-data\\state-of-the-union-dataset\\txt\\Taft_1910.txt\n",
      "C:\\Users\\F0040RP\\shared\\RR-workshop-data\\state-of-the-union-dataset\\txt\\Taft_1911.txt\n",
      "C:\\Users\\F0040RP\\shared\\RR-workshop-data\\state-of-the-union-dataset\\txt\\Taft_1912.txt\n",
      "C:\\Users\\F0040RP\\shared\\RR-workshop-data\\state-of-the-union-dataset\\txt\\Taylor_1849.txt\n",
      "C:\\Users\\F0040RP\\shared\\RR-workshop-data\\state-of-the-union-dataset\\txt\\Truman_1946.txt\n",
      "C:\\Users\\F0040RP\\shared\\RR-workshop-data\\state-of-the-union-dataset\\txt\\Truman_1947.txt\n",
      "C:\\Users\\F0040RP\\shared\\RR-workshop-data\\state-of-the-union-dataset\\txt\\Truman_1948.txt\n",
      "C:\\Users\\F0040RP\\shared\\RR-workshop-data\\state-of-the-union-dataset\\txt\\Truman_1949.txt\n",
      "C:\\Users\\F0040RP\\shared\\RR-workshop-data\\state-of-the-union-dataset\\txt\\Truman_1950.txt\n",
      "C:\\Users\\F0040RP\\shared\\RR-workshop-data\\state-of-the-union-dataset\\txt\\Truman_1951.txt\n",
      "C:\\Users\\F0040RP\\shared\\RR-workshop-data\\state-of-the-union-dataset\\txt\\Truman_1952.txt\n",
      "C:\\Users\\F0040RP\\shared\\RR-workshop-data\\state-of-the-union-dataset\\txt\\Truman_1953.txt\n",
      "C:\\Users\\F0040RP\\shared\\RR-workshop-data\\state-of-the-union-dataset\\txt\\Trump_2017.txt\n",
      "C:\\Users\\F0040RP\\shared\\RR-workshop-data\\state-of-the-union-dataset\\txt\\Trump_2018.txt\n",
      "C:\\Users\\F0040RP\\shared\\RR-workshop-data\\state-of-the-union-dataset\\txt\\Trump_2019.txt\n",
      "C:\\Users\\F0040RP\\shared\\RR-workshop-data\\state-of-the-union-dataset\\txt\\Trump_2020.txt\n",
      "C:\\Users\\F0040RP\\shared\\RR-workshop-data\\state-of-the-union-dataset\\txt\\Tyler_1841.txt\n",
      "C:\\Users\\F0040RP\\shared\\RR-workshop-data\\state-of-the-union-dataset\\txt\\Tyler_1842.txt\n",
      "C:\\Users\\F0040RP\\shared\\RR-workshop-data\\state-of-the-union-dataset\\txt\\Tyler_1843.txt\n",
      "C:\\Users\\F0040RP\\shared\\RR-workshop-data\\state-of-the-union-dataset\\txt\\Tyler_1844.txt\n",
      "C:\\Users\\F0040RP\\shared\\RR-workshop-data\\state-of-the-union-dataset\\txt\\Washington_1790.txt\n",
      "C:\\Users\\F0040RP\\shared\\RR-workshop-data\\state-of-the-union-dataset\\txt\\Washington_1791.txt\n",
      "C:\\Users\\F0040RP\\shared\\RR-workshop-data\\state-of-the-union-dataset\\txt\\Washington_1792.txt\n",
      "C:\\Users\\F0040RP\\shared\\RR-workshop-data\\state-of-the-union-dataset\\txt\\Washington_1793.txt\n",
      "C:\\Users\\F0040RP\\shared\\RR-workshop-data\\state-of-the-union-dataset\\txt\\Washington_1794.txt\n",
      "C:\\Users\\F0040RP\\shared\\RR-workshop-data\\state-of-the-union-dataset\\txt\\Washington_1795.txt\n",
      "C:\\Users\\F0040RP\\shared\\RR-workshop-data\\state-of-the-union-dataset\\txt\\Washington_1796.txt\n",
      "C:\\Users\\F0040RP\\shared\\RR-workshop-data\\state-of-the-union-dataset\\txt\\Wilson_1913.txt\n",
      "C:\\Users\\F0040RP\\shared\\RR-workshop-data\\state-of-the-union-dataset\\txt\\Wilson_1914.txt\n",
      "C:\\Users\\F0040RP\\shared\\RR-workshop-data\\state-of-the-union-dataset\\txt\\Wilson_1915.txt\n",
      "C:\\Users\\F0040RP\\shared\\RR-workshop-data\\state-of-the-union-dataset\\txt\\Wilson_1916.txt\n",
      "C:\\Users\\F0040RP\\shared\\RR-workshop-data\\state-of-the-union-dataset\\txt\\Wilson_1917.txt\n",
      "C:\\Users\\F0040RP\\shared\\RR-workshop-data\\state-of-the-union-dataset\\txt\\Wilson_1918.txt\n",
      "C:\\Users\\F0040RP\\shared\\RR-workshop-data\\state-of-the-union-dataset\\txt\\Wilson_1919.txt\n",
      "C:\\Users\\F0040RP\\shared\\RR-workshop-data\\state-of-the-union-dataset\\txt\\Wilson_1920.txt\n"
     ]
    }
   ],
   "source": [
    "for path in pathlist:\n",
    "    print(path)     #try path.name, .stem, .suffix, .parts"
   ]
  },
  {
   "cell_type": "markdown",
   "metadata": {},
   "source": [
    "55. In some cases, the names of files contain metadata about the files themselves. In these cases, we can use a for loop to iterate through our files and save some of this metadata."
   ]
  },
  {
   "cell_type": "code",
   "execution_count": 80,
   "metadata": {},
   "outputs": [
    {
     "name": "stdout",
     "output_type": "stream",
     "text": [
      "['Adams', 'Adams', 'Adams', 'Adams', 'Adams', 'Adams', 'Adams', 'Adams', 'Arthur', 'Arthur', 'Arthur', 'Arthur', 'Biden', 'Biden', 'Biden', 'Buchanan', 'Buchanan', 'Buchanan', 'Buchanan', 'Buren', 'Buren', 'Buren', 'Buren', 'Bush', 'Bush', 'Bush', 'Bush', 'Bush', 'Bush', 'Bush', 'Bush', 'Bush', 'Bush', 'Bush', 'Bush', 'Carter', 'Carter', 'Carter', 'Carter', 'Cleveland', 'Cleveland', 'Cleveland', 'Cleveland', 'Cleveland', 'Cleveland', 'Cleveland', 'Cleveland', 'Clinton', 'Clinton', 'Clinton', 'Clinton', 'Clinton', 'Clinton', 'Clinton', 'Clinton', 'Coolidge', 'Coolidge', 'Coolidge', 'Coolidge', 'Coolidge', 'Coolidge', 'Eisenhower', 'Eisenhower', 'Eisenhower', 'Eisenhower', 'Eisenhower', 'Eisenhower', 'Eisenhower', 'Eisenhower', 'Fillmore', 'Fillmore', 'Fillmore', 'Ford', 'Ford', 'Ford', 'Grant', 'Grant', 'Grant', 'Grant', 'Grant', 'Grant', 'Grant', 'Grant', 'Harding', 'Harding', 'Harrison', 'Harrison', 'Harrison', 'Harrison', 'Hayes', 'Hayes', 'Hayes', 'Hayes', 'Hoover', 'Hoover', 'Hoover', 'Hoover', 'Jackson', 'Jackson', 'Jackson', 'Jackson', 'Jackson', 'Jackson', 'Jackson', 'Jackson', 'Jefferson', 'Jefferson', 'Jefferson', 'Jefferson', 'Jefferson', 'Jefferson', 'Jefferson', 'Jefferson', 'Johnson', 'Johnson', 'Johnson', 'Johnson', 'Johnson', 'Johnson', 'Johnson', 'Johnson', 'Johnson', 'Johnson', 'Kennedy', 'Kennedy', 'Lincoln', 'Lincoln', 'Lincoln', 'Lincoln', 'Madison', 'Madison', 'Madison', 'Madison', 'Madison', 'Madison', 'Madison', 'Madison', 'McKinley', 'McKinley', 'McKinley', 'McKinley', 'Monroe', 'Monroe', 'Monroe', 'Monroe', 'Monroe', 'Monroe', 'Monroe', 'Monroe', 'Nixon', 'Nixon', 'Nixon', 'Nixon', 'Nixon', 'Obama', 'Obama', 'Obama', 'Obama', 'Obama', 'Obama', 'Obama', 'Obama', 'Pierce', 'Pierce', 'Pierce', 'Pierce', 'Polk', 'Polk', 'Polk', 'Polk', 'Reagan', 'Reagan', 'Reagan', 'Reagan', 'Reagan', 'Reagan', 'Reagan', 'Roosevelt', 'Roosevelt', 'Roosevelt', 'Roosevelt', 'Roosevelt', 'Roosevelt', 'Roosevelt', 'Roosevelt', 'Roosevelt', 'Roosevelt', 'Roosevelt', 'Roosevelt', 'Roosevelt', 'Roosevelt', 'Roosevelt', 'Roosevelt', 'Roosevelt', 'Roosevelt', 'Roosevelt', 'Roosevelt', 'Taft', 'Taft', 'Taft', 'Taft', 'Taylor', 'Truman', 'Truman', 'Truman', 'Truman', 'Truman', 'Truman', 'Truman', 'Truman', 'Trump', 'Trump', 'Trump', 'Trump', 'Tyler', 'Tyler', 'Tyler', 'Tyler', 'Washington', 'Washington', 'Washington', 'Washington', 'Washington', 'Washington', 'Washington', 'Wilson', 'Wilson', 'Wilson', 'Wilson', 'Wilson', 'Wilson', 'Wilson', 'Wilson']\n"
     ]
    }
   ],
   "source": [
    "presidents = []\n",
    "for path in pathlist:\n",
    "    file_stem = path.stem\n",
    "    stem_parts = file_stem.split(\"_\")\n",
    "    pres_name = stem_parts[0]\n",
    "    year = stem_parts[1]\n",
    "    presidents.append(pres_name)\n",
    "print(presidents)\n",
    "\n"
   ]
  },
  {
   "cell_type": "code",
   "execution_count": 81,
   "metadata": {},
   "outputs": [
    {
     "data": {
      "text/plain": [
       "{'Adams',\n",
       " 'Arthur',\n",
       " 'Biden',\n",
       " 'Buchanan',\n",
       " 'Buren',\n",
       " 'Bush',\n",
       " 'Carter',\n",
       " 'Cleveland',\n",
       " 'Clinton',\n",
       " 'Coolidge',\n",
       " 'Eisenhower',\n",
       " 'Fillmore',\n",
       " 'Ford',\n",
       " 'Grant',\n",
       " 'Harding',\n",
       " 'Harrison',\n",
       " 'Hayes',\n",
       " 'Hoover',\n",
       " 'Jackson',\n",
       " 'Jefferson',\n",
       " 'Johnson',\n",
       " 'Kennedy',\n",
       " 'Lincoln',\n",
       " 'Madison',\n",
       " 'McKinley',\n",
       " 'Monroe',\n",
       " 'Nixon',\n",
       " 'Obama',\n",
       " 'Pierce',\n",
       " 'Polk',\n",
       " 'Reagan',\n",
       " 'Roosevelt',\n",
       " 'Taft',\n",
       " 'Taylor',\n",
       " 'Truman',\n",
       " 'Trump',\n",
       " 'Tyler',\n",
       " 'Washington',\n",
       " 'Wilson'}"
      ]
     },
     "execution_count": 81,
     "metadata": {},
     "output_type": "execute_result"
    }
   ],
   "source": [
    "set(presidents)"
   ]
  },
  {
   "cell_type": "markdown",
   "metadata": {},
   "source": [
    "56. For lists that include repeat values, we can use the **collections** module's **Counter()** subclass for counting the frequency of each item in a list."
   ]
  },
  {
   "cell_type": "code",
   "execution_count": 82,
   "metadata": {},
   "outputs": [
    {
     "data": {
      "text/plain": [
       "Counter({'Roosevelt': 20,\n",
       "         'Bush': 12,\n",
       "         'Johnson': 10,\n",
       "         'Adams': 8,\n",
       "         'Cleveland': 8,\n",
       "         'Clinton': 8,\n",
       "         'Eisenhower': 8,\n",
       "         'Grant': 8,\n",
       "         'Jackson': 8,\n",
       "         'Jefferson': 8,\n",
       "         'Madison': 8,\n",
       "         'Monroe': 8,\n",
       "         'Obama': 8,\n",
       "         'Truman': 8,\n",
       "         'Wilson': 8,\n",
       "         'Reagan': 7,\n",
       "         'Washington': 7,\n",
       "         'Coolidge': 6,\n",
       "         'Nixon': 5,\n",
       "         'Arthur': 4,\n",
       "         'Buchanan': 4,\n",
       "         'Buren': 4,\n",
       "         'Carter': 4,\n",
       "         'Harrison': 4,\n",
       "         'Hayes': 4,\n",
       "         'Hoover': 4,\n",
       "         'Lincoln': 4,\n",
       "         'McKinley': 4,\n",
       "         'Pierce': 4,\n",
       "         'Polk': 4,\n",
       "         'Taft': 4,\n",
       "         'Trump': 4,\n",
       "         'Tyler': 4,\n",
       "         'Biden': 3,\n",
       "         'Fillmore': 3,\n",
       "         'Ford': 3,\n",
       "         'Harding': 2,\n",
       "         'Kennedy': 2,\n",
       "         'Taylor': 1})"
      ]
     },
     "execution_count": 82,
     "metadata": {},
     "output_type": "execute_result"
    }
   ],
   "source": [
    "import collections\n",
    "collections.Counter(presidents)"
   ]
  },
  {
   "cell_type": "markdown",
   "metadata": {},
   "source": [
    "## VII. Reading in Text Files\n",
    "\n",
    "57. To read in a text file, we will want to:\n",
    "+ identify the file path to one text and save it as `path_name`\n",
    "+ open this file path as `f`\n",
    "    - we will open the file within a `with` statement. This will mean the file is closed immediately once the interpreter has moved beyond the indented portion of the code. This will help ensure we don't accidentally corrupt the file.\n",
    "+ read the file using the **.read()** method and save it as `txt1`\n",
    "\n",
    "The result should look something like this:\n",
    "\n",
    "```\n",
    "path_name = Path(\"path/to/textfile/filename\")\n",
    "with open(path_name, encoding = 'utf-8') as f:\n",
    "    txt1 = f.read()\n",
    "```"
   ]
  },
  {
   "cell_type": "code",
   "execution_count": 83,
   "metadata": {},
   "outputs": [
    {
     "name": "stdout",
     "output_type": "stream",
     "text": [
      "Adams_1797.txt\n"
     ]
    }
   ],
   "source": [
    "path1 = pathlist[0]\n",
    "#with open(Path(sotudir,\"Bush_2002.txt\"), encoding='utf-8') as f:\n",
    "with open(path1, encoding = 'utf-8') as f:\n",
    "    txt1 = f.read()\n",
    "\n",
    "print(path1.name)"
   ]
  },
  {
   "cell_type": "markdown",
   "metadata": {},
   "source": [
    "58. Try slicing the `txt1` text string you just created. For example, retrieve the first and last 100 characters of the string."
   ]
  },
  {
   "cell_type": "code",
   "execution_count": 84,
   "metadata": {},
   "outputs": [
    {
     "name": "stdout",
     "output_type": "stream",
     "text": [
      "12440\n"
     ]
    }
   ],
   "source": [
    "print(len(txt1)) "
   ]
  },
  {
   "cell_type": "code",
   "execution_count": 85,
   "metadata": {},
   "outputs": [
    {
     "data": {
      "text/plain": [
       "'Gentlemen of the Senate and Gentlemen of the House of Representatives:\\n\\nI was for some time apprehen'"
      ]
     },
     "execution_count": 85,
     "metadata": {},
     "output_type": "execute_result"
    }
   ],
   "source": [
    "txt1[0:100]"
   ]
  },
  {
   "cell_type": "code",
   "execution_count": 86,
   "metadata": {},
   "outputs": [
    {
     "data": {
      "text/plain": [
       "'Gentlemen of the Senate and Gentlemen of the House of Representatives:\\n\\nI was for some time apprehen'"
      ]
     },
     "execution_count": 86,
     "metadata": {},
     "output_type": "execute_result"
    }
   ],
   "source": [
    "txt1[:100] "
   ]
  },
  {
   "cell_type": "code",
   "execution_count": 87,
   "metadata": {},
   "outputs": [
    {
     "data": {
      "text/plain": [
       "'sive that it would be necessary, on account of\\nthe contagious sickness which afflicted the city of Philadelphia, to\\nconvene the National Legislature at some other place. This measure it was\\ndesirable '"
      ]
     },
     "execution_count": 87,
     "metadata": {},
     "output_type": "execute_result"
    }
   ],
   "source": [
    "txt1[100:300]"
   ]
  },
  {
   "cell_type": "code",
   "execution_count": 88,
   "metadata": {},
   "outputs": [
    {
     "data": {
      "text/plain": [
       "' measures you may rely on my zealous and hearty concurrence.'"
      ]
     },
     "execution_count": 88,
     "metadata": {},
     "output_type": "execute_result"
    }
   ],
   "source": [
    "txt1[-60:]"
   ]
  },
  {
   "cell_type": "code",
   "execution_count": null,
   "metadata": {},
   "outputs": [],
   "source": []
  },
  {
   "cell_type": "markdown",
   "metadata": {},
   "source": [
    "<div class=\"alert alert-info\" role=\"alert\" style=\"color:blue\">\n",
    "    <p><b>59b. Exercises</b>:</p> \n",
    "    <p>Open a text (of your own choosing) and save it into the variable \"txt2\".</p>\n",
    "</div>"
   ]
  },
  {
   "cell_type": "code",
   "execution_count": 89,
   "metadata": {},
   "outputs": [],
   "source": [
    "with open(Path(textdir,\"Roosevelt_1944.txt\"), encoding='utf-8') as f:\n",
    "    txt2 = f.read()"
   ]
  },
  {
   "cell_type": "markdown",
   "metadata": {},
   "source": [
    "<div class=\"alert alert-info\" role=\"alert\" style=\"color:blue\"><h3>Exercises for Part VI</h3>\n",
    "    \n",
    "<p>60. Add a coding cell below and print out the first and last 200 characters in your selected <b>txt2</b> text. Can you identify any major themes from the opening and closing words of this address? If not, expand the number of characters you are examining.</p></div>"
   ]
  },
  {
   "cell_type": "code",
   "execution_count": 90,
   "metadata": {},
   "outputs": [
    {
     "name": "stdout",
     "output_type": "stream",
     "text": [
      "To the Congress:\n",
      "\n",
      "This Nation in the past two years has become an active partner in the\n",
      "world's greatest war against human slavery.\n",
      "\n",
      "We have joined with like-minded people in order to defend ourselves\n"
     ]
    },
    {
     "data": {
      "text/plain": [
       "'nd his Government.\\n\\nEach and every one of us has a solemn obligation under God to serve this\\nNation in its most critical hour--to keep this Nation great--to make this\\nNation greater in a better world.'"
      ]
     },
     "execution_count": 90,
     "metadata": {},
     "output_type": "execute_result"
    }
   ],
   "source": [
    "print(txt2[:200])\n",
    "txt2[-200:]"
   ]
  },
  {
   "cell_type": "code",
   "execution_count": null,
   "metadata": {},
   "outputs": [],
   "source": []
  },
  {
   "cell_type": "markdown",
   "metadata": {},
   "source": [
    "## VIII. Applying Functions to Files\n",
    "\n",
    "61. The function below reads in a file, places some metadata about each text into a series of lists, and then returns the shortest *n* texts.\n"
   ]
  },
  {
   "cell_type": "code",
   "execution_count": 91,
   "metadata": {},
   "outputs": [],
   "source": [
    "def get_shortest_texts(path, n = 5):\n",
    "    '''\n",
    "    This function\n",
    "    + takes a folder path, \n",
    "    + reads in all text files found within the folder\n",
    "    + calculates the character length of each text\n",
    "    + and then identifies and returns the n shortest texts in the collection\n",
    "    '''\n",
    "    text_info_list = []\n",
    "    pathlist = sorted(path.glob(\"*.txt\")) \n",
    "    for path in pathlist:\n",
    "        with open(path) as f:\n",
    "            txt = f.read()\n",
    "        filestem = path.stem\n",
    "        text_len = len(txt)\n",
    "        text_info_list.append((text_len, filestem))\n",
    "    sorted_list = sorted(text_info_list)\n",
    "    return(sorted_list[:n])\n",
    "\n",
    "        "
   ]
  },
  {
   "cell_type": "code",
   "execution_count": 92,
   "metadata": {},
   "outputs": [
    {
     "name": "stdout",
     "output_type": "stream",
     "text": [
      "[(6767, 'Washington_1790'), (8349, 'Adams_1800'), (9204, 'Adams_1799'), (9809, 'Nixon_1973'), (11014, 'Madison_1809'), (11629, 'Washington_1793'), (12257, 'Washington_1795'), (12440, 'Adams_1797')]\n"
     ]
    }
   ],
   "source": [
    "short_texts = get_shortest_texts(textdir, n = 8)\n",
    "print(short_texts)"
   ]
  },
  {
   "cell_type": "code",
   "execution_count": null,
   "metadata": {},
   "outputs": [],
   "source": []
  }
 ],
 "metadata": {
  "kernelspec": {
   "display_name": ".venv",
   "language": "python",
   "name": "python3"
  },
  "language_info": {
   "codemirror_mode": {
    "name": "ipython",
    "version": 3
   },
   "file_extension": ".py",
   "mimetype": "text/x-python",
   "name": "python",
   "nbconvert_exporter": "python",
   "pygments_lexer": "ipython3",
   "version": "3.11.4"
  }
 },
 "nbformat": 4,
 "nbformat_minor": 2
}
