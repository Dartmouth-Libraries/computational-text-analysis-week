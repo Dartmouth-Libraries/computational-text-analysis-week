{
 "cells": [
  {
   "cell_type": "markdown",
   "metadata": {},
   "source": [
    "# Intro to Python Notebook 2: Working with Texts (and other data)\n",
    "\n",
    "**A Reproducible Research Workshop**\n",
    "\n",
    "(A Collaboration between Dartmouth Library and Research Computing)\n",
    "\n",
    "[_Click here to view or register for our current list of workshops_](http://dartgo.org/RRADworkshops)\n",
    "\n",
    "**Instructors: Jeremy Mikecz, Lora Leligdon, and Simon Stone**\n",
    "\n",
    "_This notebook created by_:\n",
    "- Version 1.0: Jeremy Mikecz, Research Data Services (Dartmouth Library) with revisions by Mansa Krishna (Earth Science) - (_much thanks Mansa!_)\n",
    "\n",
    "<!--\n",
    "- Some of the inspiration for the code and information in this notebook was taken from https://www.w3schools.com/python/python_intro.asp -- This is a great resource if you want to learn more about Python!-->\n",
    "\n",
    "This is **Notebook 2** of 3 for the **Introduction to Text Analysis in Python** workshop:\n",
    "\n",
    "- Notebook 1: The Basics - getting started with Python\n",
    "- **Notebook 2: Working with Texts (and other data) - importing, reviewing, and modifying texts and other data**\n",
    "- Notebook 3: Dataframes - importing texts and other data, placing this data into a dataframe, and then modifying, analyzing, visualizing, and exporting this data\n",
    "\n",
    "In this lesson, you will learn how to:\n",
    "\n",
    "1. import texts and other data files from your computer\n",
    "2. place data in lists and modify and analyze those lists\n",
    "3. iterate through lists and an entire directory of files\n",
    "4. write functions to create reproducible code\n",
    "<!--1. import multiple text and data files from local folders\n",
    "5. extract data from these files and read this data into data tables (known as \"dataframes\" in Python)-->\n",
    "\n",
    "**Table of Contents**\n",
    "\n",
    "- I. Built-In Functions and Methods\n",
    "- II. Python Libraries\n",
    "- III. Working with Lists\n",
    "- IV. Looping through Lists\n",
    "- V. Writing Functions\n",
    "- VI. Working with Files\n",
    "- VII. Reading in Text Files\n",
    "- VIII. Applying Functions to Files\n",
    "\n",
    "<!--\n",
    "+ II. Working with Files\n",
    "+ III. Writing Functions\n",
    "+ IV. Working with Lists\n",
    "+ V. Looping through Lists\n",
    "+ VI. Looping through Files-->\n"
   ]
  },
  {
   "cell_type": "markdown",
   "metadata": {},
   "source": [
    "## I. Python Built-In Functions and Methods\n",
    "\n",
    "For more on functions, we can refer to a more detailed lesson provided by [**Constellate's** Python 4 lesson](https://lab.constellate.org/perfusion-stearns-eliot/notebooks/tdm-notebooks-2023-04-03T23%3A17%3A07.601Z/python-basics-4.ipynb):\n",
    "\n",
    "**Functions**\n",
    "\n",
    "```\n",
    "You can identify a function by the fact that it ends with a set of parentheses () where arguments can be passed into the function. Depending on the function (and your goals for using it), a function may accept no arguments, a single argument, or many arguments. For example, when we use the print() function, a string (or a variable containing a string) is passed as an argument.\n",
    "\n",
    "Functions are a convenient shorthand, like a mini-program, that makes our code more modular. We don't need to know all the details of how the print() function works in order to use it. Functions are sometimes called \"black boxes\", in that we can put an argument into the box and a return value comes out. We don't need to know the inner details of the \"black box\" to use it. (Of course, as you advance your programming skills, you may become curious about how certain functions work. And if you work with sensitive data, you may need to peer in the black box to ensure the security and accuracy of the output.)\n",
    "```\n",
    "\n",
    "### Ia. Built-in functions\n",
    "\n",
    "With Python alone, a programmer can perform some basic operations using simple functions introduced in Notebook 1, such as **print()**, **len()**, **max()**, **min()**, **sorted()**. To call a built-in function, you simply write the name of the function followed by any arguments you want to pass in placed within parentheses:\n",
    "\n",
    "```\n",
    "name_of_function(argument1, argument2, ...)\n",
    "```\n",
    "\n",
    "Arguments (aka. \"parameters\") are often, but not always optional.\n",
    "\n",
    "As you may recall, to print (output) some information, you would call the **print()** function passing in a text string you want to print.\n",
    "\n",
    "1. Try entering some of the following commands in the code cells below. Compare the results:\n",
    "\n",
    "```\n",
    "print()\n",
    "print(\"Good morning! How are you?\")\n",
    "your_name = \"Bob\"\n",
    "print(\"Hello\", your_name)\n",
    "print(\"Hello\", your_name, \"!\")\n",
    "print(\"Hello \", your_name, \"!\", sep = \"\")\n",
    "\n",
    "country_code = \"+1\"\n",
    "area_code = \"555\"\n",
    "phone_num = \"555-0123\"\n",
    "print(country_code, area_code, phone_num, sep = \"-\")\n",
    "```\n"
   ]
  },
  {
   "cell_type": "code",
   "execution_count": null,
   "metadata": {},
   "outputs": [],
   "source": []
  },
  {
   "cell_type": "code",
   "execution_count": null,
   "metadata": {},
   "outputs": [],
   "source": []
  },
  {
   "cell_type": "code",
   "execution_count": null,
   "metadata": {},
   "outputs": [],
   "source": []
  },
  {
   "cell_type": "code",
   "execution_count": null,
   "metadata": {},
   "outputs": [],
   "source": []
  },
  {
   "cell_type": "code",
   "execution_count": null,
   "metadata": {},
   "outputs": [],
   "source": []
  },
  {
   "cell_type": "code",
   "execution_count": null,
   "metadata": {},
   "outputs": [],
   "source": []
  },
  {
   "cell_type": "markdown",
   "metadata": {},
   "source": [
    "To learn more about a particular function we can access its documentation using:\n",
    "\n",
    "```\n",
    "?function_name\n",
    "```\n",
    "\n",
    "For example:\n"
   ]
  },
  {
   "cell_type": "code",
   "execution_count": null,
   "metadata": {},
   "outputs": [],
   "source": [
    "?print"
   ]
  },
  {
   "cell_type": "markdown",
   "metadata": {},
   "source": [
    "### Ib. Methods\n",
    "\n",
    "Methods perform in similar ways to functions. The key difference is that:\n",
    "\n",
    "- functions are independent and can be called by their name only\n",
    "- methods act on objects of a particular class. In plain terms, some methods work only on text strings. Others work only on integers or dataframes.\n",
    "\n",
    "Thus, the syntax for calling a method is:\n",
    "\n",
    "```\n",
    "object_name.method_name()\n",
    "```\n",
    "\n",
    "Examples of [common methods for text strings](https://docs.python.org/3/library/stdtypes.html#text-sequence-type-str) include:\n",
    "\n",
    "- str.capitalize()\n",
    "- str.encode()\n",
    "- str.endswith()\n",
    "- str.startswith()\n",
    "- str.lower()\n",
    "- str.islower()\n",
    "- str.upper()\n",
    "- str.isupper()\n",
    "- str.strip()\n",
    "- str.replace()\n",
    "- str.split()\n",
    "\n",
    "Note: \"str\" above refers to either a raw text string such as `\"hello!\"` or a variable that contains a string such as `question = \"what is happening?\"`. To test if an object is a string (str), use the **type()** function, such as:\n",
    "\n",
    "```\n",
    "type(123)\n",
    "type(\"Hello\")\n",
    "type(\"123\")\n",
    "```\n",
    "\n",
    "2. Try typing these commands in the cell below.\n"
   ]
  },
  {
   "cell_type": "code",
   "execution_count": null,
   "metadata": {},
   "outputs": [],
   "source": []
  },
  {
   "cell_type": "markdown",
   "metadata": {},
   "source": [
    "3. Let's see what some of these string methods do:\n"
   ]
  },
  {
   "cell_type": "code",
   "execution_count": null,
   "metadata": {},
   "outputs": [],
   "source": [
    "sent = \"  Two roads diverged in a wood and I - I took the one less traveled by, and that has made all the difference.   \""
   ]
  },
  {
   "cell_type": "code",
   "execution_count": null,
   "metadata": {},
   "outputs": [],
   "source": [
    "# try applying some of the string methods listed above to the sentence 'sent'\n"
   ]
  },
  {
   "cell_type": "code",
   "execution_count": null,
   "metadata": {},
   "outputs": [],
   "source": []
  },
  {
   "cell_type": "code",
   "execution_count": null,
   "metadata": {},
   "outputs": [],
   "source": []
  },
  {
   "cell_type": "code",
   "execution_count": null,
   "metadata": {},
   "outputs": [],
   "source": []
  },
  {
   "cell_type": "code",
   "execution_count": null,
   "metadata": {},
   "outputs": [],
   "source": []
  },
  {
   "cell_type": "code",
   "execution_count": null,
   "metadata": {},
   "outputs": [],
   "source": [
    "sent.strip().endswith(\".\")  # you can chain multiple methods together. Note: Python applies the method attached to the object first and then moves to the 2nd, 3rd, etc. methods. \n",
    "## So, in this case it first applies the .strip() method to our sentence and then applies the .endswith() to the results returned by strip"
   ]
  },
  {
   "cell_type": "code",
   "execution_count": null,
   "metadata": {},
   "outputs": [],
   "source": [
    "#another example of chained methods\n",
    "sent = sent.strip()\n",
    "sent.replace(\"two\", \"three\").replace(\"one\", \"two\")"
   ]
  },
  {
   "cell_type": "markdown",
   "metadata": {},
   "source": [
    "4. We can also apply built-in functions to a string object. We outputed information above using the print() function. We can also use the **len()** [length] function.\n"
   ]
  },
  {
   "cell_type": "code",
   "execution_count": null,
   "metadata": {},
   "outputs": [],
   "source": []
  },
  {
   "cell_type": "markdown",
   "metadata": {},
   "source": [
    "We will examine some other methods below in the section on lists.\n"
   ]
  },
  {
   "cell_type": "markdown",
   "metadata": {},
   "source": [
    "## II. Python Libraries\n",
    "\n",
    "Beyond the basic functionality provided by Python's built-in functions and methods, if we want to do more advanced or specialized things we need to install and import Python **Libraries** also known as **packages**.\n",
    "\n",
    "A **Python library** is a collection of files (known as **modules**) that each contain **functions** and/or **methods** to complete a set of related tasks.\n",
    "\n",
    "_Confused?_\n",
    "\n",
    "_This can get confusing as some large libraries have multiple sub-packages each with many different modules. In other cases a library consists of a single module._ **_The important thing to know is that you need to import each library or module you want to use._**\n",
    "\n",
    "For more on Python libraries, we can refer to a more detailed lesson provided by [**Constellate's** Python 4 lesson](https://lab.constellate.org/perfusion-stearns-eliot/notebooks/tdm-notebooks-2023-04-03T23%3A17%3A07.601Z/python-basics-4.ipynb):\n",
    "\n",
    "```\n",
    "While Python comes with many functions, there are thousands more that others have written. Adding them all to Python would create mass confusion, since many people could use the same name for functions that do different things. The solution then is that functions are stored in modules that can be imported for use. A module is a Python file (extension \".py\") that contains the definitions for the functions written in Python. These modules (individual Python files) can then be collected into even larger groups called packages and libraries. Depending on how many functions you need for the program you are writing, you may import a single module, a package of modules, or a whole library.\n",
    "```\n",
    "\n",
    "Some commonly used modules are found in [Python's Standard Library](https://docs.python.org/3/library/) - _these are installed with Python and require no separate installation._\n",
    "\n",
    "Other libraries need to be installed first and then imported.\n",
    "\n",
    "### IIb. Working with core Python Libraries\n",
    "\n",
    "5. First, we will import the [**math module**](https://docs.python.org/3/library/math.html).\n",
    "\n",
    "The syntax for importing a module or library is:\n",
    "\n",
    "```\n",
    "import module_name\n",
    "```\n"
   ]
  },
  {
   "cell_type": "code",
   "execution_count": null,
   "metadata": {},
   "outputs": [],
   "source": [
    "import math"
   ]
  },
  {
   "cell_type": "markdown",
   "metadata": {},
   "source": [
    "6. Try experimenting with some functions from the math module (see the [documentation here](https://docs.python.org/3/library/math.html))\n"
   ]
  },
  {
   "cell_type": "code",
   "execution_count": null,
   "metadata": {},
   "outputs": [],
   "source": []
  },
  {
   "cell_type": "code",
   "execution_count": null,
   "metadata": {},
   "outputs": [],
   "source": []
  },
  {
   "cell_type": "code",
   "execution_count": null,
   "metadata": {},
   "outputs": [],
   "source": []
  },
  {
   "cell_type": "code",
   "execution_count": null,
   "metadata": {},
   "outputs": [],
   "source": []
  },
  {
   "cell_type": "markdown",
   "metadata": {},
   "source": [
    "7. There are a variety of Python libraries and modules that help us work with texts. One interesting module that comes with the Python Standard Library is [**difflib**](https://docs.python.org/3/library/difflib.html). It allows us to compare the difference between sequences of text.\n",
    "\n",
    "Examine the code cells below. They apply the **ndiff** function from the difflib library to two lists of words. Examine the results:\n"
   ]
  },
  {
   "cell_type": "code",
   "execution_count": null,
   "metadata": {},
   "outputs": [],
   "source": [
    "import difflib\n",
    "\n",
    "sent1 = \"What in the world is going on over there?\".split()\n",
    "sent2 = \"What the heck is goin' on down there?\".split()"
   ]
  },
  {
   "cell_type": "code",
   "execution_count": null,
   "metadata": {},
   "outputs": [],
   "source": [
    "from difflib import ndiff\n",
    "\n",
    "diff = ndiff(sent1, sent2)\n",
    "print(\"\\n\".join(diff))"
   ]
  },
  {
   "cell_type": "markdown",
   "metadata": {},
   "source": [
    "## III. Working with Lists\n",
    "\n",
    "There are two basic Python data structures for storing ordered sequences of information. These are **lists** and **tuples**.\n",
    "\n",
    "- **Lists** are enclosed by `[]` and each item is separated by a comma.\n",
    "- Lists are _mutable_, meaning they can be modified (items can be added, modified, deleted)\n",
    "- **Tuples** are enclosed by `()` and each item is separated by a comma.\n",
    "- Tuples are _immutable_, meaning that, once created, they cannot be modified.\n",
    "\n",
    "```\n",
    "a_list_of_numbers = [4, 6, 2]\n",
    "a_tuple_of_numbers = (33, 17, 42, 2)\n",
    "```\n",
    "\n",
    "You can read more about [the differences between tuples and lists here](https://builtin.com/software-engineering-perspectives/python-tuples-vs-lists). Below, however, we focus on lists.\n"
   ]
  },
  {
   "cell_type": "markdown",
   "metadata": {},
   "source": [
    "### IIIa. Creating Lists\n",
    "\n",
    "Storing data in individual variables makes sense when you have a few unique values.\n",
    "\n",
    "However, operating on many individual variables would be tedious and time-consuming.\n",
    "\n",
    "Instead, we can store multiple values under one variable using lists. Say, for example, you want to store quiz scores for a class or multiple race results for a single track athlete. You could store them in a list.\n",
    "\n",
    "````\n",
    "**Scores - Quiz 1**\n",
    "73.5\n",
    "86.2\n",
    "81.9\n",
    "90.1\n",
    "67.8\n",
    "88.0\n",
    "```/\n",
    "````\n"
   ]
  },
  {
   "cell_type": "markdown",
   "metadata": {},
   "source": [
    "8. So the list of scores for the first quiz could be stored by:\n"
   ]
  },
  {
   "cell_type": "code",
   "execution_count": null,
   "metadata": {},
   "outputs": [],
   "source": [
    "# Run this cell by pressing Ctrl+Enter or pressing the play button while selecting this cell.\n",
    "quiz1 = [73.5, 86.2, 81.9, 90.1, 57.8, 88.0]"
   ]
  },
  {
   "cell_type": "markdown",
   "metadata": {},
   "source": [
    "<div class=\"alert alert-info\" role=\"alert\" style=\"color:blue\"><h3 style=\"color:blue;\">Exercises for Part III</h3>\n",
    "    \n",
    "<p style=\"color:blue;\">15. Create a list of at least five of your favorite numbers (or numbers that recall a significant event, person, or stage of your life). Save to the variable **fav_numbers**.</p>\n",
    "</div>\n"
   ]
  },
  {
   "cell_type": "code",
   "execution_count": null,
   "metadata": {},
   "outputs": [],
   "source": []
  },
  {
   "cell_type": "markdown",
   "metadata": {},
   "source": [
    "<div class=\"alert alert-info\" role=\"alert\" style=\"color:blue\"><p style=\"color:blue;\">16. Create a list of at least five people that have inspired you. Save to the variable **inspirational_people**.</p>\n",
    "\n",
    "<p><i>Note:</i> All character strings must be contained within quotes, such as: </p>\n",
    "    \n",
    "<code>namelist = [\"Aly\", \"Bob\", \"Charlie\"]</code>\n",
    "</div>\n"
   ]
  },
  {
   "cell_type": "code",
   "execution_count": null,
   "metadata": {},
   "outputs": [],
   "source": []
  },
  {
   "cell_type": "markdown",
   "metadata": {},
   "source": [
    "<div class=\"alert alert-info\" role=\"alert\" style=\"color:blue\"><p style=\"color:blue;\">17. Now, print out each of these lists.</p></div>\n"
   ]
  },
  {
   "cell_type": "code",
   "execution_count": null,
   "metadata": {},
   "outputs": [],
   "source": []
  },
  {
   "cell_type": "markdown",
   "metadata": {},
   "source": [
    "<div class=\"alert alert-info\" role=\"alert\" style=\"color:blue\"><p>18. Print out the length of each of these lists using the **len()** function.</p>\n",
    "</div>\n"
   ]
  },
  {
   "cell_type": "code",
   "execution_count": null,
   "metadata": {},
   "outputs": [],
   "source": []
  },
  {
   "cell_type": "markdown",
   "metadata": {},
   "source": [
    "<div class=\"alert alert-info\" role=\"alert\" style=\"color:blue\"><p style=\"color:blue;\">19. Print out the maximum value from each list.</p>\n",
    "</div>\n"
   ]
  },
  {
   "cell_type": "code",
   "execution_count": null,
   "metadata": {},
   "outputs": [],
   "source": []
  },
  {
   "cell_type": "markdown",
   "metadata": {},
   "source": [
    "19b. _As we already learned, **len()** works on characters strings as well as lists._ But, it counts character strings differently. Run the following code and then calculate the length of each variable. What do you notice?\n"
   ]
  },
  {
   "cell_type": "code",
   "execution_count": null,
   "metadata": {},
   "outputs": [],
   "source": [
    "sent = \"This is a sentence.\"\n",
    "words = sent.split()\n",
    "print(words)"
   ]
  },
  {
   "cell_type": "code",
   "execution_count": null,
   "metadata": {},
   "outputs": [],
   "source": [
    "# calculate the length of \"sent\" and \"words\".\n",
    "print(len(sent))\n",
    "print(len(words))"
   ]
  },
  {
   "cell_type": "markdown",
   "metadata": {},
   "source": [
    "### IIIb. List Indexes and Slices\n"
   ]
  },
  {
   "cell_type": "markdown",
   "metadata": {},
   "source": [
    "We can retrieve portions of the list using indexes and slices.\n",
    "\n",
    "One important note: in Python the first item in a series is always considered number 0.\n",
    "\n",
    "20. Thus, to retrieve the first item in our list (that is, the first quiz score), you would simply run:\n"
   ]
  },
  {
   "cell_type": "code",
   "execution_count": null,
   "metadata": {},
   "outputs": [],
   "source": [
    "quiz1[0]"
   ]
  },
  {
   "cell_type": "markdown",
   "metadata": {},
   "source": [
    "<div class=\"alert alert-info\" role=\"alert\" style=\"color:blue\">\n",
    "    <p>21. Using the same format, now try retrieving the 3rd person from your list of inspirational people.</p>\n",
    "</div>\n"
   ]
  },
  {
   "cell_type": "code",
   "execution_count": null,
   "metadata": {},
   "outputs": [],
   "source": []
  },
  {
   "cell_type": "markdown",
   "metadata": {},
   "source": [
    "Now imagine you have a long list. You can identify the last item in a list by using the index [-1]. For example:\n",
    "\n",
    "```\n",
    "name-of-list[-1]\n",
    "```\n",
    "\n",
    "<div class=\"alert alert-info\" role=\"alert\" style=\"color:blue\">\n",
    "    <p><b>22. Code Together</b>: Try that below with our list of quiz scores.</p>\n",
    "</div>\n"
   ]
  },
  {
   "cell_type": "code",
   "execution_count": null,
   "metadata": {},
   "outputs": [],
   "source": []
  },
  {
   "cell_type": "markdown",
   "metadata": {},
   "source": [
    "<div class=\"alert alert-info\" role=\"alert\" style=\"color:blue\">\n",
    "    <p>23. Indexing beyond the end of the list will produce an \"IndexError\". Try, for example, retrieving the 100th item in our list of quiz scores.</p>\n",
    "</div>\n"
   ]
  },
  {
   "cell_type": "code",
   "execution_count": null,
   "metadata": {},
   "outputs": [],
   "source": []
  },
  {
   "cell_type": "markdown",
   "metadata": {},
   "source": [
    "To retrieve multiple, consecutive items from a list, we can use **slices**.\n",
    "\n",
    "The format is as follows:\n",
    "\n",
    "```\n",
    "name-of-list[start:end]\n",
    "\n",
    "```\n",
    "\n",
    "List slices begin with the start number but end one number before the end number.\n",
    "\n",
    "So, **\"start\"** is the index of the first item of the list (starting with zero) and\n",
    "**\"end\"** is the index of the last item in the list + 1.\n",
    "\n",
    "24. Run the cell below\n"
   ]
  },
  {
   "cell_type": "code",
   "execution_count": null,
   "metadata": {},
   "outputs": [],
   "source": [
    "quiz1[0:2]"
   ]
  },
  {
   "cell_type": "markdown",
   "metadata": {},
   "source": [
    "<div class=\"alert alert-info\" role=\"alert\" style=\"color:blue\">\n",
    "    <h3> Exercise</h3>\n",
    "    <p>25. Using this format, retrieve the second through fourth item in our list. Compare the results to our original list. If you did it wrong, adjust the indices you are using.</p>\n",
    "</div>\n"
   ]
  },
  {
   "cell_type": "code",
   "execution_count": null,
   "metadata": {},
   "outputs": [],
   "source": [
    "# remember that incrementing starts at 0!\n"
   ]
  },
  {
   "cell_type": "markdown",
   "metadata": {},
   "source": [
    "### IIIc. Lists with Operators, Functions, and list methods\n"
   ]
  },
  {
   "cell_type": "markdown",
   "metadata": {},
   "source": [
    "26. Create two lists of integers. Try applying different operands to the lists `+ - * / **`.\n"
   ]
  },
  {
   "cell_type": "code",
   "execution_count": null,
   "metadata": {},
   "outputs": [],
   "source": []
  },
  {
   "cell_type": "code",
   "execution_count": null,
   "metadata": {},
   "outputs": [],
   "source": []
  },
  {
   "cell_type": "code",
   "execution_count": null,
   "metadata": {},
   "outputs": [],
   "source": []
  },
  {
   "cell_type": "code",
   "execution_count": null,
   "metadata": {},
   "outputs": [],
   "source": []
  },
  {
   "cell_type": "code",
   "execution_count": null,
   "metadata": {},
   "outputs": [],
   "source": []
  },
  {
   "cell_type": "markdown",
   "metadata": {},
   "source": [
    "27. Like most things in Python, there is almost always multiple ways to perform a particular task. For example, to sort a list, you may either use the **sorted()** function (`sorted(listname)`) or the **.sort()** method (`listname.sort()`). The main difference is that:\n",
    "\n",
    "- the **.sort()** method permanently sorts the values of the list\n",
    "- while the **sorted()** function just temporarily outputs the new, sorted version of the list (unless you save it over the old list name or under a new list name)\n"
   ]
  },
  {
   "cell_type": "code",
   "execution_count": null,
   "metadata": {},
   "outputs": [],
   "source": []
  },
  {
   "cell_type": "code",
   "execution_count": null,
   "metadata": {},
   "outputs": [],
   "source": []
  },
  {
   "cell_type": "code",
   "execution_count": null,
   "metadata": {},
   "outputs": [],
   "source": []
  },
  {
   "cell_type": "markdown",
   "metadata": {},
   "source": [
    "<div class=\"alert alert-info\" role=\"alert\" style=\"color:blue\">\n",
    "    <h3> Exercise</h3>\n",
    "    <p>27b. Sort your list of inspirational people. Make sure to save the new sorted list. Then sort it in reverse and save it to a separate list.</p>\n",
    "</div>\n"
   ]
  },
  {
   "cell_type": "code",
   "execution_count": null,
   "metadata": {},
   "outputs": [],
   "source": []
  },
  {
   "cell_type": "markdown",
   "metadata": {},
   "source": [
    "### IIId. Modifying a List\n",
    "\n",
    "There are multiple ways to modify a list. These include following methods:\n",
    "\n",
    "- **.append()**\n",
    "- **.extend()**\n",
    "- **.pop()**\n",
    "\n",
    "28. Try applying these methods to some of the lists we have already created. Remember the format is:\n",
    "\n",
    "```\n",
    "list_name.list-method(parameters)\n",
    "```\n"
   ]
  },
  {
   "cell_type": "code",
   "execution_count": null,
   "metadata": {},
   "outputs": [],
   "source": []
  },
  {
   "cell_type": "code",
   "execution_count": null,
   "metadata": {},
   "outputs": [],
   "source": []
  },
  {
   "cell_type": "code",
   "execution_count": null,
   "metadata": {},
   "outputs": [],
   "source": []
  },
  {
   "cell_type": "markdown",
   "metadata": {},
   "source": [
    "Often, there are multiple ways to accomplished the same thing. For example:\n"
   ]
  },
  {
   "cell_type": "code",
   "execution_count": null,
   "metadata": {},
   "outputs": [],
   "source": []
  },
  {
   "cell_type": "code",
   "execution_count": null,
   "metadata": {},
   "outputs": [],
   "source": []
  },
  {
   "cell_type": "markdown",
   "metadata": {},
   "source": [
    "<div class=\"alert alert-info\" role=\"alert\" style=\"color:blue\"><h3 style=\"color:blue;\">Exercises for Part IIId</h3>\n",
    "    \n",
    "<p style=\"color:blue;\">29. Create a list of some of your favorite musicians, actors, or writers (at least 4).</p>\n",
    "</div>\n"
   ]
  },
  {
   "cell_type": "code",
   "execution_count": null,
   "metadata": {},
   "outputs": [],
   "source": []
  },
  {
   "cell_type": "markdown",
   "metadata": {},
   "source": [
    "<div class=\"alert alert-info\" role=\"alert\" style=\"color:blue\"><p style=\"color:blue;\">30. Add that list to your list of inspirational people. Print out this new list.</p></div>\n"
   ]
  },
  {
   "cell_type": "code",
   "execution_count": null,
   "metadata": {},
   "outputs": [],
   "source": []
  },
  {
   "cell_type": "markdown",
   "metadata": {},
   "source": [
    "<div class=\"alert alert-info\" role=\"alert\" style=\"color:blue\"><p style=\"color:blue;\">31. Calculate the number of people in your inspirational_people list. Then replace the 3rd to last person with another important person to you.</p>\n",
    "\n",
    "<p>For example, if a student retook their 4th quiz you could replace it with:</p>\n",
    "<code>quiz_scores[3] = 88</code>\n",
    "</div>\n"
   ]
  },
  {
   "cell_type": "code",
   "execution_count": null,
   "metadata": {},
   "outputs": [],
   "source": []
  },
  {
   "cell_type": "code",
   "execution_count": null,
   "metadata": {},
   "outputs": [],
   "source": []
  },
  {
   "cell_type": "markdown",
   "metadata": {},
   "source": [
    "33. Run the following code. What does the **set()** function do?\n"
   ]
  },
  {
   "cell_type": "code",
   "execution_count": null,
   "metadata": {},
   "outputs": [],
   "source": [
    "numbers = [\n",
    "    12,\n",
    "    4,\n",
    "    5,\n",
    "    2,\n",
    "    3,\n",
    "    2,\n",
    "    2,\n",
    "    4,\n",
    "    7,\n",
    "    8,\n",
    "    9,\n",
    "    2,\n",
    "    3,\n",
    "    1,\n",
    "    2,\n",
    "    1,\n",
    "    1,\n",
    "    2,\n",
    "    1,\n",
    "    4,\n",
    "    67,\n",
    "    3,\n",
    "    5,\n",
    "    3,\n",
    "    5,\n",
    "    7,\n",
    "    4,\n",
    "    1,\n",
    "    3,\n",
    "    2,\n",
    "    4,\n",
    "    1,\n",
    "    7,\n",
    "    2,\n",
    "    16,\n",
    "    23,\n",
    "    4,\n",
    "    5,\n",
    "]\n",
    "print(set(numbers))"
   ]
  },
  {
   "cell_type": "markdown",
   "metadata": {},
   "source": [
    "<div class=\"alert alert-info\" role=\"alert\" style=\"color:blue\"><h3 style=\"color:blue;\">Exercises for Part IIId (continued)</h3>\n",
    "    \n",
    "<p style=\"color:blue;\">35. Print out a list of your inspirational people, sorted in descending order.</p></div>\n"
   ]
  },
  {
   "cell_type": "code",
   "execution_count": null,
   "metadata": {},
   "outputs": [],
   "source": []
  },
  {
   "cell_type": "markdown",
   "metadata": {},
   "source": [
    "<div class=\"alert alert-info\" role=\"alert\" style=\"color:blue\"><p style=\"color:blue;\">37. Apply the **min()** and **max()** functions to your list of inspirational_people. What happens?</p></div>\n"
   ]
  },
  {
   "cell_type": "code",
   "execution_count": null,
   "metadata": {},
   "outputs": [],
   "source": []
  },
  {
   "cell_type": "markdown",
   "metadata": {},
   "source": [
    "## IV. Looping through Lists\n",
    "\n",
    "Often we want to examine or modify each individual item in a list. An easy way to iterate over a list is using a **for loop**. The general structure of a for loop is:\n",
    "\n",
    "```\n",
    "for item in named_list:\n",
    "    [instructions for what to do with each item]\n",
    "```\n",
    "\n",
    "In such for loops, named_list must be an already established list. \"item\", however, is an arbitrary variable name we are assigning to each item in the list.\n",
    "\n",
    "38. Run the simple for loop below:\n"
   ]
  },
  {
   "cell_type": "code",
   "execution_count": null,
   "metadata": {},
   "outputs": [],
   "source": [
    "student_names = [\"Thor\", \"Black Widow\", \"Loki\", \"Iron Man\"]\n",
    "for (\n",
    "    name\n",
    ") in (\n",
    "    student_names\n",
    "):  # note: student_names is an already defined list; *name* is assigned here to each individual item in this list\n",
    "    print(name)"
   ]
  },
  {
   "cell_type": "markdown",
   "metadata": {},
   "source": [
    "39. We can use for loops to modify items in a list.\n",
    "\n",
    "For example, see what happens when we apply the **.lower()** method to each item in our student_names_sorted list.\n"
   ]
  },
  {
   "cell_type": "code",
   "execution_count": null,
   "metadata": {},
   "outputs": [],
   "source": [
    "sorted_names = sorted(student_names)\n",
    "for name in sorted_names:\n",
    "    print(name.lower())"
   ]
  },
  {
   "cell_type": "markdown",
   "metadata": {},
   "source": [
    "<div class=\"alert alert-block alert-info\">\n",
    "\n",
    "**Iterables in Python:**\n",
    "\n",
    "There are many more kinds of objects you can use in a `for`-loop than just a `list`. These objects are also called _iterables_ because you can interate over its contents. To be an iterable, an object needs to have some way to determine the _next_ element. Try using some other objects (e.g., of type `str`, `set`, or `dict`) in the `for`-loop! What would you expect to happen?\n",
    "\n",
    "</div>\n"
   ]
  },
  {
   "cell_type": "markdown",
   "metadata": {},
   "source": [
    "<div class=\"alert alert-info\" role=\"alert\" style=\"color:blue\"><h3 style=\"color:blue;\">Exercises for Part IV </h3>\n",
    "    \n",
    "<p style=\"color:blue;\">40. Can you guess how to convert all student names into uppercase? Try to do so below:</p>\n",
    "</div>\n"
   ]
  },
  {
   "cell_type": "code",
   "execution_count": null,
   "metadata": {},
   "outputs": [],
   "source": []
  },
  {
   "cell_type": "markdown",
   "metadata": {},
   "source": [
    "41. To save these variations, we need to save them to a new list. We can do so using the following formula:\n",
    "\n",
    "```\n",
    "new_list = []  #creates a new, empty list\n",
    "for item in existing_list:\n",
    "    new_item = [modify original item]\n",
    "    new_list.append(new_item)\n",
    "```\n"
   ]
  },
  {
   "cell_type": "code",
   "execution_count": null,
   "metadata": {},
   "outputs": [],
   "source": []
  },
  {
   "cell_type": "markdown",
   "metadata": {},
   "source": [
    "42. Print out this new list:\n"
   ]
  },
  {
   "cell_type": "code",
   "execution_count": null,
   "metadata": {},
   "outputs": [],
   "source": []
  },
  {
   "cell_type": "markdown",
   "metadata": {},
   "source": [
    "### IVb. List Comprehensions\n",
    "\n",
    "We can do the same thing, but more concisely, with a **list comprehension**. The formula for a list comprehension is:\n",
    "\n",
    "```\n",
    "new_list = [new_item for item in existing_list]\n",
    "\n",
    "```\n",
    "\n",
    "43. An example is below, this time using the **.swapcase()** method for strings:\n"
   ]
  },
  {
   "cell_type": "code",
   "execution_count": null,
   "metadata": {},
   "outputs": [],
   "source": [
    "student_names_swapped = [name.swapcase() for name in sorted_names]\n",
    "print(student_names_swapped)"
   ]
  },
  {
   "cell_type": "markdown",
   "metadata": {},
   "source": [
    "<div class=\"alert alert-info\" role=\"alert\" style=\"color:blue\"><h3 style=\"color:blue;\">Exercises for Part IV (continued)</h3>\n",
    "    \n",
    "<p style=\"color:blue;\">44. Create a new list of your inspirational people, but converted to upper case.</p>\n",
    "</div>\n"
   ]
  },
  {
   "cell_type": "code",
   "execution_count": null,
   "metadata": {},
   "outputs": [],
   "source": [
    "# we can do this using a traditional for loop\n"
   ]
  },
  {
   "cell_type": "code",
   "execution_count": null,
   "metadata": {},
   "outputs": [],
   "source": [
    "# or we can use a list comprehension\n"
   ]
  },
  {
   "cell_type": "markdown",
   "metadata": {},
   "source": []
  },
  {
   "cell_type": "markdown",
   "metadata": {},
   "source": [
    "## V. Python Basics: Writing Functions\n",
    "\n",
    "**FUNCTIONS:** Next, we would like to create some new columns with lists of tokens that are lower-cased and with stopwords removed. To do so, it is helpful to write a function that does this for a single text. Then, we can apply that function across the entire corpus of SOTU addresses stored in this dataframe.\n",
    "\n",
    "We have already used a variety of core Python functions such as **sum()**, **len()**, and **print()**. We have also called on many functions defined in auxiliary Python libraries or packages: such as the **word_tokenize()** and **concordance** functions from the **nltk** library we imported.\n",
    "\n",
    "Sometimes, however, we will want to create our own functions.\n",
    "\n",
    "A function is a piece of code that only runs when it is called (this will make a bit more sense after we see an example). We can pass parameters (data) into a function, which will perform operations on them.\n",
    "\n",
    "In Python, we use the `def` keyword to define a function.\n",
    "\n",
    "```python\n",
    "def functionName(argumentsToPassIn):\n",
    "    function instructions\n",
    "    return(resultsOfFunction)\n",
    "```\n",
    "\n",
    "47. Most but not all functions return something using the return command. Here is a super simple function that outputs a phrase, but does not return anything.\n"
   ]
  },
  {
   "cell_type": "code",
   "execution_count": null,
   "metadata": {},
   "outputs": [],
   "source": [
    "# First, create a function\n",
    "def print_hello():\n",
    "    print(\"Hello!\")"
   ]
  },
  {
   "cell_type": "code",
   "execution_count": null,
   "metadata": {},
   "outputs": [],
   "source": [
    "# Next, call the function\n",
    "print_hello()"
   ]
  },
  {
   "cell_type": "code",
   "execution_count": null,
   "metadata": {},
   "outputs": [],
   "source": [
    "# Now, let's try adding some arguments/parameters to our functions\n"
   ]
  },
  {
   "cell_type": "markdown",
   "metadata": {},
   "source": [
    "48. **A SIMPLE FUNCTION:** So, for example, if we had a list of names and we wanted to create a function to retrieve the initial of each, we could use the following function:\n"
   ]
  },
  {
   "cell_type": "code",
   "execution_count": null,
   "metadata": {},
   "outputs": [],
   "source": [
    "import re\n",
    "\n",
    "def Initials(fullname):\n",
    "    caps = re.findall(\n",
    "        \"([A-Z])\", fullname\n",
    "    )  # this uses the findall function from the re package to find all capitalized letters\n",
    "    inits = \"\".join(\n",
    "        caps\n",
    "    )  # takes our list of capitalized letters stored in \"caps\" and concatenates it\n",
    "    return inits\n",
    "\n",
    "\n",
    "fullname = \"Jeremy M. Mikecz\"  # replace w/ your name\n",
    "Initials(fullname)"
   ]
  },
  {
   "cell_type": "markdown",
   "metadata": {},
   "source": [
    "49. We can now apply this function to quickly return the initials from a long list of names.\n"
   ]
  },
  {
   "cell_type": "code",
   "execution_count": null,
   "metadata": {},
   "outputs": [],
   "source": [
    "actorlist = [\n",
    "    \"Christoph Waltz\",\n",
    "    \"Tom Hardy\",\n",
    "    \"Doug Walker\",\n",
    "    \"Daryl Sabara\",\n",
    "    \"J.K. Simmons\",\n",
    "    \"Brad Garrett\",\n",
    "    \"Chris Hemsworth\",\n",
    "    \"Alan Rickman\",\n",
    "    \"Henry Cavill\",\n",
    "    \"Kevin Spacey\",\n",
    "    \"Giancarlo Giannini\",\n",
    "    \"Johnny Depp\",\n",
    "    \"Johnny Depp\",\n",
    "    \"Henry Cavill\",\n",
    "    \"Peter Dinklage\",\n",
    "    \"Chris Hemsworth\",\n",
    "    \"Johnny Depp\",\n",
    "    \"Will Smith\",\n",
    "    \"Aidan Turner\",\n",
    "    \"Emma Stone\",\n",
    "    \"Mark Addy\",\n",
    "    \"Aidan Turner\",\n",
    "    \"Christopher Lee\",\n",
    "    \"Naomi Watts\",\n",
    "    \"Leonardo DiCaprio\",\n",
    "    \"Robert Downey Jr.\",\n",
    "    \"Liam Neeson\",\n",
    "    \"Bryce Dallas Howard\",\n",
    "    \"Albert Finney\",\n",
    "    \"J.K. Simmons\",\n",
    "    \"Robert Downey Jr.\",\n",
    "    \"Johnny Depp\",\n",
    "    \"Hugh Jackman\",\n",
    "    \"Steve Buscemi\",\n",
    "    \"Glenn Morshower\",\n",
    "    \"Bingbing Li\",\n",
    "    \"Tim Holmes\",\n",
    "    \"Emma Stone\",\n",
    "    \"Jeff Bridges\",\n",
    "    \"Joe Mantegna\",\n",
    "    \"Ryan Reynolds\",\n",
    "    \"Tom Hanks\",\n",
    "    \"Christian Bale\",\n",
    "    \"Jason Statham\",\n",
    "    \"Peter Capaldi\",\n",
    "    \"Jennifer Lawrence\",\n",
    "    \"Benedict Cumberbatch\",\n",
    "    \"Eddie Marsan\",\n",
    "    \"Leonardo DiCaprio\",\n",
    "    \"Jake Gyllenhaal\",\n",
    "    \"Charlie Hunnam\",\n",
    "    \"Glenn Morshower\",\n",
    "    \"Harrison Ford\",\n",
    "    \"A.J. Buckley\",\n",
    "    \"Kelly Macdonald\",\n",
    "    \"Sofia Boutella\",\n",
    "    \"John Ratzenberger\",\n",
    "    \"Tzi Ma\",\n",
    "    \"Oliver Platt\",\n",
    "    \"Robin Wright\",\n",
    "    \"Channing Tatum\",\n",
    "    \"Christoph Waltz\",\n",
    "    \"Jim Broadbent\",\n",
    "    \"Jennifer Lawrence\",\n",
    "    \"Christian Bale\",\n",
    "    \"John Ratzenberger\",\n",
    "    \"Amy Poehler\",\n",
    "    \"Robert Downey Jr.\",\n",
    "    \"ChloÃ« Grace Moretz\",\n",
    "    \"Will Smith\",\n",
    "    \"Jet Li\",\n",
    "    \"Will Smith\",\n",
    "    \"Jimmy Bennett\",\n",
    "    \"Tom Cruise\",\n",
    "    \"Jeanne Tripplehorn\",\n",
    "    \"Joseph Gordon-Levitt\",\n",
    "    \"Amy Poehler\",\n",
    "    \"Scarlett Johansson\"\n",
    "]"
   ]
  },
  {
   "cell_type": "markdown",
   "metadata": {},
   "source": [
    "<div class=\"alert alert-info\" role=\"alert\" style=\"color:blue\"><h3>Exercises</h3>\n",
    "    <p>50. Apply the Initials function to each name in our actorlist using either a for loop or a list comprehension.</p>\n",
    "</div>\n"
   ]
  },
  {
   "cell_type": "code",
   "execution_count": null,
   "metadata": {},
   "outputs": [],
   "source": []
  },
  {
   "cell_type": "code",
   "execution_count": null,
   "metadata": {},
   "outputs": [],
   "source": []
  },
  {
   "cell_type": "markdown",
   "metadata": {},
   "source": [
    "## VI. Working with Files\n",
    "\n",
    "An essential skill in Python is to be able to navigate through files on your computer to either read in existing files into Python or to output new files. Fortunately, you now have experience with the pre-requisite skills for navigating through and importing files:\n",
    "\n",
    "- importing Python libraries\n",
    "- applying functions\n",
    "- looping through lists\n",
    "\n",
    "To enable navigating through files on your computer, we will use the **pathlib** library.\n",
    "\n",
    "51. Let's import it now.\n"
   ]
  },
  {
   "cell_type": "code",
   "execution_count": null,
   "metadata": {},
   "outputs": [],
   "source": [
    "from pathlib import Path"
   ]
  },
  {
   "cell_type": "markdown",
   "metadata": {},
   "source": [
    "To review the information about an object we can type `?Object_name` and to get a list of methods for that object: `dir(Object_name)`"
   ]
  },
  {
   "cell_type": "code",
   "execution_count": null,
   "metadata": {},
   "outputs": [],
   "source": []
  },
  {
   "cell_type": "code",
   "execution_count": null,
   "metadata": {},
   "outputs": [],
   "source": []
  },
  {
   "cell_type": "markdown",
   "metadata": {},
   "source": [
    "52. Examine what the following functions do. Hint: **cwd()** means \"current working directory.\"\n"
   ]
  },
  {
   "cell_type": "code",
   "execution_count": null,
   "metadata": {},
   "outputs": [],
   "source": [
    "print(Path.cwd())\n",
    "print(Path.cwd().parent)\n",
    "print(Path.cwd().parent.parent)"
   ]
  },
  {
   "cell_type": "markdown",
   "metadata": {},
   "source": [
    "53. We can use pathlib's **Path()** function to store a filepath to another folder (outside the current working directory).\n",
    "\n",
    "```\n",
    "pathdirname = Path(\"path/to/folder\")\n",
    "```\n"
   ]
  },
  {
   "cell_type": "code",
   "execution_count": null,
   "metadata": {},
   "outputs": [],
   "source": []
  },
  {
   "cell_type": "markdown",
   "metadata": {},
   "source": [
    "54. We can then place all .txt files in a list and print out that list.\n"
   ]
  },
  {
   "cell_type": "code",
   "execution_count": null,
   "metadata": {},
   "outputs": [],
   "source": []
  },
  {
   "cell_type": "code",
   "execution_count": null,
   "metadata": {},
   "outputs": [],
   "source": []
  },
  {
   "cell_type": "code",
   "execution_count": null,
   "metadata": {},
   "outputs": [],
   "source": []
  },
  {
   "cell_type": "markdown",
   "metadata": {},
   "source": [
    "55. In some cases, the names of files contain metadata about the files themselves. In these cases, we can use a for loop to iterate through our files and save some of this metadata.\n"
   ]
  },
  {
   "cell_type": "code",
   "execution_count": null,
   "metadata": {},
   "outputs": [],
   "source": [
    "presidents = []\n",
    "for path in pathlist:\n",
    "    file_stem = path.stem\n",
    "    stem_parts = file_stem.split(\"_\")\n",
    "    pres_name = stem_parts[0]\n",
    "    year = stem_parts[1]\n",
    "    presidents.append(pres_name)\n",
    "print(presidents)"
   ]
  },
  {
   "cell_type": "code",
   "execution_count": null,
   "metadata": {},
   "outputs": [],
   "source": []
  },
  {
   "cell_type": "markdown",
   "metadata": {},
   "source": [
    "56. For lists that include repeat values, we can use the **collections** module's **Counter()** subclass for counting the frequency of each item in a list.\n"
   ]
  },
  {
   "cell_type": "code",
   "execution_count": null,
   "metadata": {},
   "outputs": [],
   "source": []
  },
  {
   "cell_type": "markdown",
   "metadata": {},
   "source": [
    "## VII. Reading in Text Files\n",
    "\n",
    "57. To read in a text file, we will want to:\n",
    "\n",
    "- identify the file path to one text and save it as `path_name`\n",
    "- open this file path as `f`\n",
    "  - we will open the file within a `with` statement. This will mean the file is closed immediately once the interpreter has moved beyond the indented portion of the code. This will help ensure we don't accidentally corrupt the file.\n",
    "- read the file using the **.read()** method and save it as `txt1`\n",
    "\n",
    "The result should look something like this:\n",
    "\n",
    "```\n",
    "path_name = Path(\"path/to/textfile/filename\")\n",
    "with open(path_name, encoding = 'utf-8') as f:\n",
    "    txt1 = f.read()\n",
    "```\n"
   ]
  },
  {
   "cell_type": "code",
   "execution_count": null,
   "metadata": {},
   "outputs": [],
   "source": []
  },
  {
   "cell_type": "markdown",
   "metadata": {},
   "source": [
    "58. Try slicing the `txt1` text string you just created. For example, retrieve the first and last 100 characters of the string.\n"
   ]
  },
  {
   "cell_type": "code",
   "execution_count": null,
   "metadata": {},
   "outputs": [],
   "source": []
  },
  {
   "cell_type": "code",
   "execution_count": null,
   "metadata": {},
   "outputs": [],
   "source": []
  },
  {
   "cell_type": "code",
   "execution_count": null,
   "metadata": {},
   "outputs": [],
   "source": []
  },
  {
   "cell_type": "code",
   "execution_count": null,
   "metadata": {},
   "outputs": [],
   "source": []
  },
  {
   "cell_type": "code",
   "execution_count": null,
   "metadata": {},
   "outputs": [],
   "source": []
  },
  {
   "cell_type": "code",
   "execution_count": null,
   "metadata": {},
   "outputs": [],
   "source": []
  },
  {
   "cell_type": "markdown",
   "metadata": {},
   "source": [
    "<div class=\"alert alert-info\" role=\"alert\" style=\"color:blue\">\n",
    "    <p><b>59b. Exercises</b>:</p> \n",
    "    <p>Open a text (of your own choosing) and save it into the variable \"txt2\".</p>\n",
    "</div>\n"
   ]
  },
  {
   "cell_type": "code",
   "execution_count": null,
   "metadata": {},
   "outputs": [],
   "source": []
  },
  {
   "cell_type": "markdown",
   "metadata": {},
   "source": [
    "<div class=\"alert alert-info\" role=\"alert\" style=\"color:blue\"><h3>Exercises for Part VI</h3>\n",
    "    \n",
    "<p>60. Add a coding cell below and print out the first and last 200 characters in your selected <b>txt2</b> text. Can you identify any major themes from the opening and closing words of this address? If not, expand the number of characters you are examining.</p></div>\n"
   ]
  },
  {
   "cell_type": "code",
   "execution_count": null,
   "metadata": {},
   "outputs": [],
   "source": []
  },
  {
   "cell_type": "code",
   "execution_count": null,
   "metadata": {},
   "outputs": [],
   "source": []
  },
  {
   "cell_type": "markdown",
   "metadata": {},
   "source": [
    "## VIII. Applying Functions to Files\n",
    "\n",
    "61. The function below reads in a file, places some metadata about each text into a series of lists, and then returns the shortest _n_ texts.\n"
   ]
  },
  {
   "cell_type": "code",
   "execution_count": null,
   "metadata": {},
   "outputs": [],
   "source": [
    "def get_shortest_texts(path, n=5):\n",
    "    \"\"\"\n",
    "    This function\n",
    "    + takes a folder path,\n",
    "    + reads in all text files found within the folder\n",
    "    + calculates the character length of each text\n",
    "    + and then identifies and returns the n shortest texts in the collection\n",
    "    \"\"\"\n",
    "    text_info_list = []\n",
    "    pathlist = sorted(path.glob(\"*.txt\"))\n",
    "    for path in pathlist:\n",
    "        with open(path) as f:\n",
    "            txt = f.read()\n",
    "        filestem = path.stem\n",
    "        text_len = len(txt)\n",
    "        text_info_list.append((text_len, filestem))\n",
    "    sorted_list = sorted(text_info_list)\n",
    "    return sorted_list[:n]"
   ]
  },
  {
   "cell_type": "code",
   "execution_count": null,
   "metadata": {},
   "outputs": [],
   "source": [
    "short_texts = get_shortest_texts(textdir, n=8)\n",
    "print(short_texts)"
   ]
  },
  {
   "cell_type": "code",
   "execution_count": null,
   "metadata": {},
   "outputs": [],
   "source": []
  }
 ],
 "metadata": {
  "kernelspec": {
   "display_name": ".venv",
   "language": "python",
   "name": "python3"
  },
  "language_info": {
   "codemirror_mode": {
    "name": "ipython",
    "version": 3
   },
   "file_extension": ".py",
   "mimetype": "text/x-python",
   "name": "python",
   "nbconvert_exporter": "python",
   "pygments_lexer": "ipython3",
   "version": "3.11.4"
  }
 },
 "nbformat": 4,
 "nbformat_minor": 2
}
