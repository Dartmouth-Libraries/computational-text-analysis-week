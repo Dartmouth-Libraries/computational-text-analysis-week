{
 "cells": [
  {
   "cell_type": "markdown",
   "metadata": {},
   "source": [
    "# Intro to Python: The Basics\n",
    "\n",
    "A Reproducible Research Workshop\n",
    "\n",
    "(A Collaboration between Dartmouth Library and Research Computing)\n",
    "\n",
    "[_Click here to view or register for our current list of workshops_](http://dartgo.org/RRADworkshops)\n",
    "\n",
    "_Created by_:\n",
    "\n",
    "- Version 1.0: Jeremy Mikecz, Research Data Services (Dartmouth Library)\n",
    "- Version 2.0: revised, rewritten, and updated by Mansa Krishna (Earth Science) - (\\*much thanks Mansa!)\n",
    "- Some of the inspiration for the code and information in this notebook was taken from https://www.w3schools.com/python/python_intro.asp -- This is a great resource if you want to learn more about Python!\n",
    "\n",
    "We will be learning how to code with Python by using Jupyter Notebooks hosted on Dartmouth College's Jupyter Hub. Confused?\n",
    "\n",
    "- **Python** is the programming language we will be using. It is a general purpose, high-level programming language meaning it does lots of different things and is designed to be readable by humans. You can run Python in many ways: from a command terminal, from a script called in the command terminal, from an _Integrated Development Environment_ software like PyCharm or Spyder, or from interactive notebooks like Jupyter Notebooks: speaking of which...\n",
    "- **Jupyter Notebooks** allow you to mix code, instructions and explanations meant for humans, plots/graphs, and the output of your code all in the same document. Thus, Jupyter Notebooks are ideal for teaching and collaboration. However, running Jupyter Notebooks requires locally installing Python and all the different Python Libraries / Packages you will need for your code. Fortunately, there are no-install options for running Python on cloud environments:\n",
    "- Dartmouth's **Jupyter Hub** provides a cloud-based environment where we can run Python code, thus saving us the hassle of installing a full Python environment on our own computers. \\*Much thanks to Simon Stone and the folks at Research Computing for setting this up for us.\n",
    "\n",
    "You can access Dartmouth's Jupyter Hub (and, if you are reading this you probably already have) by going to jhub.dartmouth.edu. This course's notebooks are found in RR-workshops/infrastructure/intro-to-python.\n"
   ]
  },
  {
   "cell_type": "markdown",
   "metadata": {},
   "source": [
    "## I. Saving your Notebook\n",
    "\n",
    "1. Before you make any changes to this notebook, please save your own instance of this notebook by selecting File --> Save As and then save it by adding your name at the end of your filename like this:\n",
    "\n",
    "```\n",
    "\"path/to/folder/Basics_standalone_your-name.ipynb\"\n",
    "```\n"
   ]
  },
  {
   "cell_type": "markdown",
   "metadata": {},
   "source": [
    "## II. Working with Jupyter Notebooks\n",
    "\n",
    "Jupyter Notebooks contain two types of cells:\n",
    "\n",
    "- **Text / Markdown Cells**, where you add information intended for your fellow humans. This can be instruction, explanation, or just background information about the code you are running or data you are analyzing.\n",
    "- **Code cells**, where you write your code to be read and run by your computer.\n"
   ]
  },
  {
   "cell_type": "markdown",
   "metadata": {},
   "source": [
    "### IIa. Text Cells\n",
    "\n",
    "You can format the style of texts cells in two main ways:\n",
    "\n",
    "- through markdown, such as **(double-click on this text cell to see the full markdown)**:\n",
    "\n",
    "# This is a first-level header\n",
    "\n",
    "## Header 2\n",
    "\n",
    "### Header 3\n",
    "\n",
    "**Bold text is wrapped by two asterisks**, and _italics by one_.\n",
    "\n",
    "`Quote blocks are found between grave accents / back quotation marks`\n",
    "\n",
    "For more on using Markdown with Jupyter see the [Markdown/Jupyter Cheatsheet](https://www.ibm.com/docs/en/watson-studio-local/1.2.3?topic=notebooks-markdown-jupyter-cheatsheet) {_<-- and this is a link by the way, view this cell in edit more - by clicking on it - to see how to insert links_}\n",
    "\n",
    "- You can also format text cells using traditional html, such as:\n",
    "\n",
    "<h2 style=\"color:purple; font-size: 100; background-color:pink\">Alt Header</h2>\n",
    "\n",
    "<p style = \"color:gray; font-size: 10px\">paragraph</p>\n",
    "\n",
    "[save]\n",
    "\n",
    "1. Create a text cell below. You can do so by pressing the \"+ Markdown\" button at the top of this notebook or clicking on the keyboard shortcut ESC + B. _For more keyboard shortcuts, see **????**._ Then practice with typing different styles of texts, including headers, bold text, italics, hyperlinks, and - if you feel comfortable, perhaps even some html.\n"
   ]
  },
  {
   "cell_type": "markdown",
   "metadata": {},
   "source": [
    "### IIb. Code Cells\n",
    "\n",
    "2. Run the code cell below by pressing the play button to the left side of the cell or placing your cursor in the cell and selecting CTRL + ENTER. Feel free to modify the text inside the print command and examine the results.\n"
   ]
  },
  {
   "cell_type": "code",
   "execution_count": null,
   "metadata": {},
   "outputs": [],
   "source": [
    "print(\"Hello World!\")"
   ]
  },
  {
   "cell_type": "markdown",
   "metadata": {},
   "source": [
    "### IIc. Python Comments\n",
    "\n",
    "3. Comments start with `#` and Python will ignore them in a code cell. Comments make it easier for us to understand what our own code is doing! Insert your own comment below.\n"
   ]
  },
  {
   "cell_type": "code",
   "execution_count": null,
   "metadata": {},
   "outputs": [],
   "source": [
    "# This is a comment!\n",
    "print(\"Hello World!\")"
   ]
  },
  {
   "cell_type": "markdown",
   "metadata": {},
   "source": [
    "## III. Operations\n",
    "\n",
    "You can perform some basic calculations directly in Python!!! (without assigning any variables or other information to memory.)\n",
    "\n",
    "4. Run the following code cells (click them and press Ctrl+Enter) and see what the different operands do (+, -, *, \\*\\*, /, //, %). *Experiment with replacing some of the values used in these operations and examine the results.\\*\n"
   ]
  },
  {
   "cell_type": "code",
   "execution_count": null,
   "metadata": {},
   "outputs": [],
   "source": [
    "# Multiplication between two numbers\n",
    "7 * 3"
   ]
  },
  {
   "cell_type": "code",
   "execution_count": null,
   "metadata": {},
   "outputs": [],
   "source": [
    "# Division between two numbers\n",
    "7 / 3"
   ]
  },
  {
   "cell_type": "code",
   "execution_count": null,
   "metadata": {},
   "outputs": [],
   "source": [
    "# Integer division between two numbers\n",
    "7 // 3"
   ]
  },
  {
   "cell_type": "code",
   "execution_count": null,
   "metadata": {},
   "outputs": [],
   "source": [
    "# Modulo operator: finds the remainder of the division between two numbers\n",
    "7 % 3"
   ]
  },
  {
   "cell_type": "code",
   "execution_count": null,
   "metadata": {},
   "outputs": [],
   "source": [
    "# Addition between two numbers\n",
    "7 + 3"
   ]
  },
  {
   "cell_type": "code",
   "execution_count": null,
   "metadata": {},
   "outputs": [],
   "source": [
    "# Subtraction between two numbers\n",
    "7 - 3"
   ]
  },
  {
   "cell_type": "code",
   "execution_count": null,
   "metadata": {},
   "outputs": [],
   "source": [
    "# raise the first number to the power of the second number\n",
    "7**3"
   ]
  },
  {
   "cell_type": "code",
   "execution_count": null,
   "metadata": {},
   "outputs": [],
   "source": [
    "# These operands don't just work for numbers, we can add/join two strings together, like so:\n",
    "# Strings syntax - between quotation marks\n",
    "\"Good\" + \" Morning!\""
   ]
  },
  {
   "cell_type": "code",
   "execution_count": null,
   "metadata": {},
   "outputs": [],
   "source": [
    "# Even though these are 7 and 3, they are in quotes so\n",
    "# the interpreter will consider them as strings!\n",
    "# The addition of these strings will simply join them together!\n",
    "\"7\" + \"3\""
   ]
  },
  {
   "cell_type": "code",
   "execution_count": null,
   "metadata": {},
   "outputs": [],
   "source": [
    "# In programming, you often need to know whether a statement\n",
    "# or expression is True or False.\n",
    "# When comparing two values, Python will return a 'Boolean' answer\n",
    "7 > 3"
   ]
  },
  {
   "cell_type": "code",
   "execution_count": null,
   "metadata": {},
   "outputs": [],
   "source": [
    "7 < 3"
   ]
  },
  {
   "cell_type": "markdown",
   "metadata": {},
   "source": [
    "To check if two items are equal you will need to use 2 equal signs (\"==\") to distinguish from assignments (\"=\").\n",
    "\n",
    "For example:\n",
    "\n",
    "```\n",
    "x = 7\n",
    "```\n",
    "\n",
    "assigns the value 7 to the variable x, whereas\n",
    "\n",
    "`x == 7`\n",
    "\n",
    "checks to see if x equals 7.\n"
   ]
  },
  {
   "cell_type": "code",
   "execution_count": null,
   "metadata": {},
   "outputs": [],
   "source": [
    "3 == 3"
   ]
  },
  {
   "cell_type": "code",
   "execution_count": null,
   "metadata": {},
   "outputs": [],
   "source": [
    "# Notice the order of operations!\n",
    "# Note that '>=' stands for greater than or equal to\n",
    "# but '>' is strictly greater than.\n",
    "3 * 8 >= 24"
   ]
  },
  {
   "cell_type": "code",
   "execution_count": null,
   "metadata": {},
   "outputs": [],
   "source": [
    "3 * 8 <= 24"
   ]
  },
  {
   "cell_type": "code",
   "execution_count": null,
   "metadata": {},
   "outputs": [],
   "source": [
    "# We can also use the 'and', 'or' and 'not' operators!\n",
    "(3 * 8) == 23 and (4 * 6) == 23"
   ]
  },
  {
   "cell_type": "code",
   "execution_count": null,
   "metadata": {},
   "outputs": [],
   "source": [
    "(3 * 8) == 23 or (4 * 6) == 23"
   ]
  },
  {
   "cell_type": "code",
   "execution_count": null,
   "metadata": {},
   "outputs": [],
   "source": [
    "\"eo\" not in \"hello\""
   ]
  },
  {
   "cell_type": "markdown",
   "metadata": {},
   "source": [
    "For more information on Python operators: https://www.w3schools.com/python/python_operators.asp\n"
   ]
  },
  {
   "cell_type": "markdown",
   "metadata": {},
   "source": [
    "## IV. Variables\n",
    "\n",
    "5. More commonly, you will want to store values (whether numbers, text, or more complex data structures) in variables. The general syntax for doing so is:\n",
    "\n",
    "```\n",
    "[variable_name] = [value]\n",
    "```\n",
    "\n",
    "Simply put, variables are created when you assign values to them!\n",
    "\n",
    "Some general rules for variable names in Python:\n",
    "\n",
    "- variable names should begin with letters (not numbers or other special characters) or - in special cases - underscores (\"\\_\")\n",
    "- do not include whitespace in variable names, instead use underscores (i.e. \"variable_name\")\n",
    "- do not use [Python's **reserved words**](https://realpython.com/lessons/reserved-keywords/) as variable names (i.e. \"True\", \"False\", \"class\", etc.)\n",
    "- variable names are case sensitive, so the variable \"Age\" is distinct from \"age\"\n"
   ]
  },
  {
   "cell_type": "code",
   "execution_count": null,
   "metadata": {},
   "outputs": [],
   "source": [
    "# create a variable called 'num' and assign it a value of 99\n",
    "num = 99"
   ]
  },
  {
   "cell_type": "markdown",
   "metadata": {},
   "source": [
    "6. Notice, above, when we assign a variable, nothing is outputed. Python simply stores the value 99 to the variable name \"num\". To output the value(s) of \"num\" we can use the **print()** function.\n"
   ]
  },
  {
   "cell_type": "code",
   "execution_count": null,
   "metadata": {},
   "outputs": [],
   "source": [
    "print(num)"
   ]
  },
  {
   "cell_type": "markdown",
   "metadata": {},
   "source": [
    "7. We can then perform mathematical calculations using variables (assuming variables are numbers).\n"
   ]
  },
  {
   "cell_type": "code",
   "execution_count": null,
   "metadata": {},
   "outputs": [],
   "source": [
    "# let's multiply num by 3!\n",
    "print(num * 3)"
   ]
  },
  {
   "cell_type": "code",
   "execution_count": null,
   "metadata": {},
   "outputs": [],
   "source": [
    "# Another example!\n",
    "first_name = \"Jeremy\"\n",
    "age = 43"
   ]
  },
  {
   "cell_type": "code",
   "execution_count": null,
   "metadata": {},
   "outputs": [],
   "source": [
    "print(first_name, \"is\", age, \"years old.\")"
   ]
  },
  {
   "cell_type": "markdown",
   "metadata": {},
   "source": [
    "8. Variables must be created before they are used.\n"
   ]
  },
  {
   "cell_type": "code",
   "execution_count": null,
   "metadata": {},
   "outputs": [],
   "source": [
    "# print(last_name)   #to get this to work, we first must define the variable \"last_name\""
   ]
  },
  {
   "cell_type": "markdown",
   "metadata": {},
   "source": [
    "Type in your own last name below, run the cell, and then try re-running the cell above. Has the error message disappeared?\n"
   ]
  },
  {
   "cell_type": "code",
   "execution_count": null,
   "metadata": {},
   "outputs": [],
   "source": [
    "last_name = \"Mikecz\"  # replace w/ your own last name"
   ]
  },
  {
   "cell_type": "markdown",
   "metadata": {},
   "source": [
    "## V. Data Types\n",
    "\n",
    "It is important to know the types of data stored in a variable. Variables store different types of data, each data type can do different things! Python has several default or in-built data types! The following are just a feq examples of data types. You can find more information here: https://www.w3schools.com/python/python_datatypes.asp\n",
    "\n",
    "- Text type : `str` or strings\n",
    "- Numeric type : `int` or integer, `float` or decimal\n",
    "- Sequence type : `list`, `tuple`, `range`\n",
    "- Mapping type : `dict` or dictionary\n",
    "- Set type : `set`\n",
    "- Boolean type : `bool`\n",
    "- Binary type : `bytes`\n",
    "- None type : `NoneType`\n",
    "\n",
    "9. We can use the **type()** function to identify the data type of a variable. For example:\n"
   ]
  },
  {
   "cell_type": "code",
   "execution_count": null,
   "metadata": {},
   "outputs": [],
   "source": [
    "x = 23.4\n",
    "type(x)"
   ]
  },
  {
   "cell_type": "markdown",
   "metadata": {},
   "source": [
    "10. Note: when you store a numerical value within quotes, Python recognizes it as a string (\"str\") rather than a number (either an \"int\" or a \"float\")\n"
   ]
  },
  {
   "cell_type": "code",
   "execution_count": null,
   "metadata": {},
   "outputs": [],
   "source": [
    "y = \"23.4\"\n",
    "type(y)"
   ]
  },
  {
   "cell_type": "markdown",
   "metadata": {},
   "source": [
    "11. One of the following two cells will produce an error. Can you guess which one? Then run both and see if you were correct.\n"
   ]
  },
  {
   "cell_type": "code",
   "execution_count": null,
   "metadata": {},
   "outputs": [],
   "source": [
    "x + 3"
   ]
  },
  {
   "cell_type": "code",
   "execution_count": null,
   "metadata": {},
   "outputs": [],
   "source": [
    "# try running the code below:\n",
    "# y + 3"
   ]
  },
  {
   "cell_type": "markdown",
   "metadata": {},
   "source": [
    "12. What about the following two cells. Which do you expect to produce an error?\n"
   ]
  },
  {
   "cell_type": "code",
   "execution_count": null,
   "metadata": {},
   "outputs": [],
   "source": [
    "# \"The temperature is \" + x + \"degrees today.\""
   ]
  },
  {
   "cell_type": "code",
   "execution_count": null,
   "metadata": {},
   "outputs": [],
   "source": [
    "\"The temperature is \" + y + \" degrees today.\""
   ]
  },
  {
   "cell_type": "markdown",
   "metadata": {},
   "source": [
    "13. So, you may have noticed we can add (\"+\") numbers (floats or integers) to other numbers. We can also add strings to other strings (\"+\" concatenates strings). Thus, we can avoid the TypeError above by converting x into a string so we are concatening strings to strings.\n"
   ]
  },
  {
   "cell_type": "code",
   "execution_count": null,
   "metadata": {},
   "outputs": [],
   "source": [
    "x = str(x)\n",
    "\"The temperature is \" + x + \" degrees today.\""
   ]
  },
  {
   "cell_type": "markdown",
   "metadata": {},
   "source": [
    "14. In the above code applying the **str()** function to x (which was assigned the float 23.4), converts x to a string (\"23.4\"). Functions for converting data from one type to another include:\n",
    "\n",
    "- **str()** converts a value into a string\n",
    "- **int()** converts a numerical value into an integer\n",
    "- **float()** converts a numerical value into a float (a number with decimal points)\n",
    "\n",
    "Note: you cannot convert alphabetical characters to integers and floats, but you can convert ints and floats to strings.\n"
   ]
  },
  {
   "cell_type": "code",
   "execution_count": null,
   "metadata": {},
   "outputs": [],
   "source": [
    "print(float(28))\n",
    "print(int(24.63))\n",
    "print(str(x))"
   ]
  },
  {
   "cell_type": "markdown",
   "metadata": {},
   "source": [
    "<div class=\"alert alert-block alert-info\">\n",
    "\n",
    "**Objects in Python:**\n",
    "\n",
    "Before we dive deeper into more complex elements of Python, we should briefly mention the important concept of _objects_ in programming.\n",
    "\n",
    "An _object_ in this context is some sort of structure that has one ore more specific _properties_, which define its _state_. An object also often defines special functions that can interact with these properties called _methods_.\n",
    "\n",
    "Which properties a particular _object_ has is defined by its _class_, which you can think of as a blueprint for the object. Every object of the same class will have the same methods and properties, but the properties might have different values.\n",
    "\n",
    "Every class defines an initialization method that can be used to create a new object of this class. This is called _instantiation_ of an object: The object is an instance of this class.\n",
    "\n",
    "Almost everything in Python is (also) an object! For example, when we type the following code:\n",
    "\n",
    "```{python}\n",
    "x = 3\n",
    "```\n",
    "\n",
    "We are instantiating an object of the class `int`! This is not immediately obvious, because we are using a kind of short-hand by typing in the literal value of this integer. But Python converts this short-hand into the following:\n",
    "\n",
    "```{python}\n",
    "x = int(3)\n",
    "```\n",
    "\n",
    "Here, we are calling the initialization function of the `int` class, passing the value `3` to it, and receive back an object of the class (a.k.a type) `int`!\n",
    "\n",
    "This may seem awfully abstract for now! We will encounter many examples of objects and their methods in this workshop series that will hopefully illustrate the usefulness of these concepts.\n",
    "\n",
    "</div>\n"
   ]
  },
  {
   "cell_type": "markdown",
   "metadata": {},
   "source": [
    "## VI. Built-In Functions\n",
    "\n",
    "15. The basic syntax to use a built-in or default function is as follows:\n",
    "\n",
    "```\n",
    "function_name(input, arguments)\n",
    "```\n"
   ]
  },
  {
   "cell_type": "code",
   "execution_count": null,
   "metadata": {},
   "outputs": [],
   "source": [
    "# The print function is an example of a built in function\n",
    "print(\"Hello\", \"World\", sep=\";\")"
   ]
  },
  {
   "cell_type": "code",
   "execution_count": null,
   "metadata": {},
   "outputs": [],
   "source": [
    "# The round function is another example of a built in function\n",
    "round(58.29831, 2)"
   ]
  },
  {
   "cell_type": "markdown",
   "metadata": {},
   "source": [
    "For more information on built-in functions: https://www.w3schools.com/python/python_ref_functions.asp\n"
   ]
  },
  {
   "cell_type": "markdown",
   "metadata": {},
   "source": [
    "## VII. Conditionals\n",
    "\n",
    "Python supports mathematical logical conditions. Suppose we have variables/values `x` and `y`. The following are some examples of logical statements.\n",
    "\n",
    "- Equal: `x == y`\n",
    "- Not equal: `x != y`\n",
    "- Strictly lesser than: `x < y`\n",
    "- Strictly greater than: `x > y`\n",
    "- Lesser than or equal: `x <= y`\n",
    "- Greater than or equal: `x >= y`\n",
    "\n",
    "These conditions may be used in several ways; a common use of these are in '`if` statements'. See the following example.\n"
   ]
  },
  {
   "cell_type": "code",
   "execution_count": null,
   "metadata": {},
   "outputs": [],
   "source": [
    "x = 20  # assigning variable x a particular value"
   ]
  },
  {
   "cell_type": "code",
   "execution_count": null,
   "metadata": {},
   "outputs": [],
   "source": [
    "if x > 15:\n",
    "    print(\"This number is greater than 15\")\n",
    "else:\n",
    "    print(\"This number is less than or equal to fifteen\")"
   ]
  },
  {
   "cell_type": "code",
   "execution_count": null,
   "metadata": {},
   "outputs": [],
   "source": [
    "if x > 15:\n",
    "    print(\"This number is greater than 15\")\n",
    "elif x >= 10:  # elif == else if\n",
    "    print(\"This number is between 10 and 14\")\n",
    "else:\n",
    "    print(\"This number is less than 10\")"
   ]
  },
  {
   "cell_type": "markdown",
   "metadata": {},
   "source": [
    "## VIII. Let's try combining what we've learned so far\n"
   ]
  },
  {
   "cell_type": "code",
   "execution_count": null,
   "metadata": {},
   "outputs": [],
   "source": [
    "print(\"Enter your name:\")\n",
    "name = input()\n",
    "\n",
    "\n",
    "print(\"Hello, \" + name)"
   ]
  },
  {
   "cell_type": "code",
   "execution_count": null,
   "metadata": {},
   "outputs": [],
   "source": [
    "print(\"What is your age?\")\n",
    "age = input()  # this takes in a string type!\n",
    "if int(age) < 21:\n",
    "    print(\n",
    "        f\"Sorry we cannot serve someone who is {age} years old.\"\n",
    "    )  # adding the f before a string creates a formatted string, which allow us to add variables between {}\n",
    "else:\n",
    "    print(f\"Hey, you look young for {age}. What would you like?\")"
   ]
  },
  {
   "cell_type": "markdown",
   "metadata": {},
   "source": [
    "## IX. A Note on Working with Files and Libraries\n",
    "\n",
    "### IXa. Libraries, Modules, and Functions\n",
    "\n",
    "With Python alone, a programmer can perform some basic operations using simple functions like **print()**, **len()**, **max()**, **min()**, **sorted()** as well as some methods applied directly to particular data types (like **.lower()** and **.upper()** for strings).\n",
    "\n",
    "However, to do more advanced or specialized things we need to install and import Python **Libraries** also known as **packages**.\n",
    "\n",
    "A **Python library** is a collection of files (known as **modules**) that each contain **functions** to complete a set of related tasks.\n",
    "\n",
    "_Confused?_\n",
    "\n",
    "_This can get confusing as some large libraries have multiple sub-packages each with many different modules. In other cases a library consists of a single module._ **_The important thing to know is that you need to import each library or module you want to use._**/\n",
    "\n",
    "Some commonly used modules are found in [Python's Standard Library](https://docs.python.org/3/library/).\n",
    "\n",
    "### IXb. Working with Libraries\n",
    "\n",
    "For more on functions, we can refer to a more detailed lesson provided by [**Constellate's** Python 4 lesson](https://lab.constellate.org/perfusion-stearns-eliot/notebooks/tdm-notebooks-2023-04-03T23%3A17%3A07.601Z/python-basics-4.ipynb):\n",
    "\n",
    "```\n",
    "**Functions**\n",
    "\n",
    "You can identify a function by the fact that it ends with a set of parentheses () where arguments can be passed into the function. Depending on the function (and your goals for using it), a function may accept no arguments, a single argument, or many arguments. For example, when we use the print() function, a string (or a variable containing a string) is passed as an argument.\n",
    "\n",
    "Functions are a convenient shorthand, like a mini-program, that makes our code more modular. We don't need to know all the details of how the print() function works in order to use it. Functions are sometimes called \"black boxes\", in that we can put an argument into the box and a return value comes out. We don't need to know the inner details of the \"black box\" to use it. (Of course, as you advance your programming skills, you may become curious about how certain functions work. And if you work with sensitive data, you may need to peer in the black box to ensure the security and accuracy of the output.)\n",
    "\n",
    "**Libraries & Modules**\n",
    "\n",
    "While Python comes with many functions, there are thousands more that others have written. Adding them all to Python would create mass confusion, since many people could use the same name for functions that do different things. The solution then is that functions are stored in modules that can be imported for use. A module is a Python file (extension \".py\") that contains the definitions for the functions written in Python. These modules (individual Python files) can then be collected into even larger groups called packages and libraries. Depending on how many functions you need for the program you are writing, you may import a single module, a package of modules, or a whole library.\n",
    "```\n",
    "\n",
    "First, we will import the [**math module**](https://docs.python.org/3/library/math.html).\n",
    "\n",
    "The syntax for importing a module is:\n",
    "\n",
    "```\n",
    "import module_name\n",
    "```\n"
   ]
  },
  {
   "cell_type": "code",
   "execution_count": null,
   "metadata": {},
   "outputs": [],
   "source": [
    "import math"
   ]
  },
  {
   "cell_type": "markdown",
   "metadata": {},
   "source": [
    "By importing the math module, for example, we have access to a wide range of mathematical functions (see the [math module documentation here](https://docs.python.org/3/library/math.html)).\n",
    "\n",
    "For example, we can calculate the square root of a large number (by using the **math** module's **sqrt** function) or identify the value of pi (as well as more advanced mathematical operations).\n"
   ]
  },
  {
   "cell_type": "code",
   "execution_count": null,
   "metadata": {},
   "outputs": [],
   "source": [
    "print(math.pi)"
   ]
  },
  {
   "cell_type": "markdown",
   "metadata": {},
   "source": [
    "Use the **help()** function to learn more about the math module.\n"
   ]
  },
  {
   "cell_type": "code",
   "execution_count": null,
   "metadata": {},
   "outputs": [],
   "source": [
    "help(math)"
   ]
  },
  {
   "cell_type": "markdown",
   "metadata": {},
   "source": [
    "## X. Working with Files\n",
    "\n",
    "An essential skill in Python is to be able to navigate through files on your computer to either read in existing files into Python or to output new files.\n",
    "\n",
    "To enable navigating through files on your computer, we will use the **os** and **pathlib** libraries.\n",
    "\n",
    "Let's import them now.\n"
   ]
  },
  {
   "cell_type": "code",
   "execution_count": null,
   "metadata": {},
   "outputs": [],
   "source": [
    "# import os\n",
    "from pathlib import Path"
   ]
  },
  {
   "cell_type": "code",
   "execution_count": null,
   "metadata": {},
   "outputs": [],
   "source": [
    "# Examine what the following functions do. Hint: **cwd()** means \"current working directory.\"\n",
    "print(Path.cwd())\n",
    "print(Path.cwd().parent)\n",
    "print(Path.cwd().parent.parent)"
   ]
  },
  {
   "cell_type": "code",
   "execution_count": null,
   "metadata": {},
   "outputs": [],
   "source": [
    "# Open dataset of texts\n",
    "sotudir = Path(\"~/shared/RR-workshop-data/state-of-the-union-dataset/txt\").expanduser()\n",
    "print(sotudir)\n",
    "\n",
    "# We can then print out all files ending in the \".txt\" extension using:\n",
    "pathlist = sorted(sotudir.glob(\"*.txt\"))\n",
    "print(pathlist)"
   ]
  },
  {
   "cell_type": "markdown",
   "metadata": {},
   "source": [
    "For each path in the pathlist, we can extract only the name of the file (rather than the whole path) using the .name method. For more on pathlib functions and methods see [pathlib documentation](https://docs.python.org/3/library/pathlib.html).\n"
   ]
  }
 ],
 "metadata": {
  "kernelspec": {
   "display_name": "Python 3 (ipykernel)",
   "language": "python",
   "name": "python3"
  },
  "language_info": {
   "codemirror_mode": {
    "name": "ipython",
    "version": 3
   },
   "file_extension": ".py",
   "mimetype": "text/x-python",
   "name": "python",
   "nbconvert_exporter": "python",
   "pygments_lexer": "ipython3",
   "version": "3.11.4"
  },
  "vscode": {
   "interpreter": {
    "hash": "92ccb6e3f8e1ba46ac70611fe300a00d231540f34c9f821035b67580ebdf166e"
   }
  }
 },
 "nbformat": 4,
 "nbformat_minor": 2
}
