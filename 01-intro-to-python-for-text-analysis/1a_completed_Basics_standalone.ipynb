{
 "cells": [
  {
   "cell_type": "markdown",
   "metadata": {},
   "source": [
    "# Intro to Python: The Basics\n",
    "\n",
    "A Reproducible Research Workshop\n",
    "\n",
    "(A Collaboration between Dartmouth Library and Research Computing)\n",
    "\n",
    "[*Click here to view or register for our current list of workshops*](http://dartgo.org/RRADworkshops)\n",
    "\n",
    "*Created by*:\n",
    "+ Version 1.0: Jeremy Mikecz, Research Data Services (Dartmouth Library)\n",
    "+ Version 2.0: revised, rewritten, and updated by Mansa Krishna (Earth Science) - (*much thanks Mansa!)\n",
    "+ Some of the inspiration for the code and information in this notebook was taken from https://www.w3schools.com/python/python_intro.asp -- This is a great resource if you want to learn more about Python!\n",
    "\n",
    "We will be learning how to code with Python by using Jupyter Notebooks hosted on Dartmouth College's Jupyter Hub. Confused? \n",
    "\n",
    "+ **Python** is the programming language we will be using. It is a general purpose, high-level programming language meaning it does lots of different things and is designed to be readable by humans. You can run Python in many ways: from a command terminal, from a script called in the command terminal, from an *Integrated Development Environment* software like PyCharm or Spyder, or from interactive notebooks like Jupyter Notebooks: speaking of which...\n",
    "+ **Jupyter Notebooks** allow you to mix code, instructions and explanations meant for humans, plots/graphs, and the output of your code all in the same document. Thus, Jupyter Notebooks are ideal for teaching and collaboration. However, running Jupyter Notebooks requires locally installing Python and all the different Python Libraries / Packages you will need for your code. Fortunately, there are no-install options for running Python on cloud environments:\n",
    "+ Dartmouth's **Jupyter Hub** provides a cloud-based environment where we can run Python code, thus saving us the hassle of installing a full Python environment on our own computers. *Much thanks to Simon Stone and the folks at Research Computing for setting this up for us.\n",
    "\n",
    "You can access Dartmouth's Jupyter Hub (and, if you are reading this you probably already have) by going to jhub.dartmouth.edu. This course's notebooks are found in RR-workshops/infrastructure/intro-to-python.\n",
    "\n"
   ]
  },
  {
   "cell_type": "markdown",
   "metadata": {},
   "source": [
    "## I. Saving your Notebook\n",
    "\n",
    "1. Before you make any changes to this notebook, please save your own instance of this notebook by selecting File --> Save As and then save it by adding your name at the end of your filename like this: \n",
    "\n",
    "```\n",
    "\"path/to/folder/Basics_standalone_your-name.ipynb\"\n",
    "```"
   ]
  },
  {
   "cell_type": "markdown",
   "metadata": {},
   "source": [
    "## II. Working with Jupyter Notebooks\n",
    "\n",
    "Jupyter Notebooks contain two types of cells:\n",
    "\n",
    "+ **Text / Markdown Cells**, where you add information intended for your fellow humans. This can be instruction, explanation, or just background information about the code you are running or data you are analyzing.\n",
    "+ **Code cells**, where you write your code to be read and run by your computer.\n",
    "\n"
   ]
  },
  {
   "cell_type": "markdown",
   "metadata": {},
   "source": [
    "### IIa. Text Cells\n",
    "\n",
    "You can format the style of texts cells in two main ways: \n",
    "\n",
    "+ through markdown, such as **(double-click on this text cell to see the full markdown)**:\n",
    "\n",
    "# This is a first-level header \n",
    "\n",
    "## Header 2\n",
    "\n",
    "### Header 3\n",
    "\n",
    "**Bold text is wrapped by two asterisks**, and *italics by one*.\n",
    "\n",
    "`\n",
    "Quote blocks are found between grave accents / back quotation marks\n",
    "`\n",
    "\n",
    "For more on using Markdown with Jupyter see the [Markdown/Jupyter Cheatsheet](https://www.ibm.com/docs/en/watson-studio-local/1.2.3?topic=notebooks-markdown-jupyter-cheatsheet) {*<-- and this is a link by the way, view this cell in edit more - by clicking on it - to see how to insert links*}\n",
    "\n",
    "+ You can also format text cells using traditional html, such as:\n",
    "\n",
    "<h2 style=\"color:purple; font-size: 100; background-color:pink\">Alt Header</h2>\n",
    "\n",
    "<p style = \"color:gray; font-size: 10px\">paragraph</p>\n",
    "\n",
    "[save]\n",
    "\n",
    "1. Create a text cell below. You can do so by pressing the \"+ Markdown\" button at the top of this notebook or clicking on the keyboard shortcut ESC + B. *For more keyboard shortcuts, see **????**.* Then practice with typing different styles of texts, including headers, bold text, italics, hyperlinks, and - if you feel comfortable, perhaps even some html."
   ]
  },
  {
   "cell_type": "markdown",
   "metadata": {},
   "source": [
    "### IIb. Code Cells\n",
    "\n",
    "2. Run the code cell below by pressing the play button to the left side of the cell or placing your cursor in the cell and selecting CTRL + ENTER. Feel free to modify the text inside the print command and examine the results."
   ]
  },
  {
   "cell_type": "code",
   "execution_count": 57,
   "metadata": {},
   "outputs": [
    {
     "name": "stdout",
     "output_type": "stream",
     "text": [
      "Hello World!\n"
     ]
    }
   ],
   "source": [
    "print(\"Hello World!\")"
   ]
  },
  {
   "cell_type": "markdown",
   "metadata": {},
   "source": [
    "### IIc. Python Comments\n",
    "\n",
    "3. Comments start with `#` and Python will ignore them in a code cell. Comments make it easier for us to understand what our own code is doing! Insert your own comment below."
   ]
  },
  {
   "cell_type": "code",
   "execution_count": 58,
   "metadata": {},
   "outputs": [
    {
     "name": "stdout",
     "output_type": "stream",
     "text": [
      "Hello World!\n"
     ]
    }
   ],
   "source": [
    "# This is a comment!\n",
    "print(\"Hello World!\")"
   ]
  },
  {
   "cell_type": "markdown",
   "metadata": {},
   "source": [
    "## III. Operations\n",
    "\n",
    "You can perform some basic calculations directly in Python!!! (without assigning any variables or other information to memory.) \n",
    "\n",
    "4. Run the following code cells (click them and press Ctrl+Enter) and see what the different operands do (+, -, *, **, /, //, %). *Experiment with replacing some of the values used in these operations and examine the results.*"
   ]
  },
  {
   "cell_type": "code",
   "execution_count": 59,
   "metadata": {},
   "outputs": [
    {
     "data": {
      "text/plain": [
       "21"
      ]
     },
     "execution_count": 59,
     "metadata": {},
     "output_type": "execute_result"
    }
   ],
   "source": [
    "# Multiplication between two numbers \n",
    "7*3"
   ]
  },
  {
   "cell_type": "code",
   "execution_count": 60,
   "metadata": {},
   "outputs": [
    {
     "data": {
      "text/plain": [
       "2.3333333333333335"
      ]
     },
     "execution_count": 60,
     "metadata": {},
     "output_type": "execute_result"
    }
   ],
   "source": [
    "# Division between two numbers \n",
    "7/3"
   ]
  },
  {
   "cell_type": "code",
   "execution_count": 61,
   "metadata": {},
   "outputs": [
    {
     "data": {
      "text/plain": [
       "2"
      ]
     },
     "execution_count": 61,
     "metadata": {},
     "output_type": "execute_result"
    }
   ],
   "source": [
    "# Integer division between two numbers \n",
    "7//3"
   ]
  },
  {
   "cell_type": "code",
   "execution_count": 62,
   "metadata": {},
   "outputs": [
    {
     "data": {
      "text/plain": [
       "1"
      ]
     },
     "execution_count": 62,
     "metadata": {},
     "output_type": "execute_result"
    }
   ],
   "source": [
    "# Modulo operator: finds the remainder of the division between two numbers \n",
    "7%3"
   ]
  },
  {
   "cell_type": "code",
   "execution_count": 63,
   "metadata": {},
   "outputs": [
    {
     "data": {
      "text/plain": [
       "10"
      ]
     },
     "execution_count": 63,
     "metadata": {},
     "output_type": "execute_result"
    }
   ],
   "source": [
    "# Addition between two numbers \n",
    "7+3"
   ]
  },
  {
   "cell_type": "code",
   "execution_count": 64,
   "metadata": {},
   "outputs": [
    {
     "data": {
      "text/plain": [
       "4"
      ]
     },
     "execution_count": 64,
     "metadata": {},
     "output_type": "execute_result"
    }
   ],
   "source": [
    "# Subtraction between two numbers \n",
    "7-3"
   ]
  },
  {
   "cell_type": "code",
   "execution_count": 65,
   "metadata": {},
   "outputs": [
    {
     "data": {
      "text/plain": [
       "343"
      ]
     },
     "execution_count": 65,
     "metadata": {},
     "output_type": "execute_result"
    }
   ],
   "source": [
    "# raise the first number to the power of the second number\n",
    "7**3"
   ]
  },
  {
   "cell_type": "code",
   "execution_count": 66,
   "metadata": {},
   "outputs": [
    {
     "data": {
      "text/plain": [
       "'Good Morning!'"
      ]
     },
     "execution_count": 66,
     "metadata": {},
     "output_type": "execute_result"
    }
   ],
   "source": [
    "# These operands don't just work for numbers, we can add/join two strings together, like so:\n",
    "# Strings syntax - between quotation marks\n",
    "\"Good\" + \" Morning!\""
   ]
  },
  {
   "cell_type": "code",
   "execution_count": 67,
   "metadata": {},
   "outputs": [
    {
     "data": {
      "text/plain": [
       "'73'"
      ]
     },
     "execution_count": 67,
     "metadata": {},
     "output_type": "execute_result"
    }
   ],
   "source": [
    "# Even though these are 7 and 3, they are in quotes so\n",
    "# the interpreter will consider them as strings!\n",
    "# The addition of these strings will simply join them together!\n",
    "\"7\" + \"3\""
   ]
  },
  {
   "cell_type": "code",
   "execution_count": 68,
   "metadata": {},
   "outputs": [
    {
     "data": {
      "text/plain": [
       "True"
      ]
     },
     "execution_count": 68,
     "metadata": {},
     "output_type": "execute_result"
    }
   ],
   "source": [
    "# In programming, you often need to know whether a statement \n",
    "# or expression is True or False. \n",
    "# When comparing two values, Python will return a 'Boolean' answer\n",
    "7 > 3"
   ]
  },
  {
   "cell_type": "code",
   "execution_count": 69,
   "metadata": {},
   "outputs": [
    {
     "data": {
      "text/plain": [
       "False"
      ]
     },
     "execution_count": 69,
     "metadata": {},
     "output_type": "execute_result"
    }
   ],
   "source": [
    "7 < 3 "
   ]
  },
  {
   "cell_type": "markdown",
   "metadata": {},
   "source": [
    "To check if two items are equal you will need to use 2 equal signs (\"==\") to distinguish from assignments (\"=\").\n",
    "\n",
    "For example:\n",
    "\n",
    "```\n",
    "x = 7\n",
    "```\n",
    "assigns the value 7 to the variable x, whereas\n",
    "\n",
    "`\n",
    "x == 7\n",
    "`\n",
    "\n",
    "checks to see if x equals 7."
   ]
  },
  {
   "cell_type": "code",
   "execution_count": 70,
   "metadata": {},
   "outputs": [
    {
     "data": {
      "text/plain": [
       "True"
      ]
     },
     "execution_count": 70,
     "metadata": {},
     "output_type": "execute_result"
    }
   ],
   "source": [
    "3 == 3"
   ]
  },
  {
   "cell_type": "code",
   "execution_count": 71,
   "metadata": {},
   "outputs": [
    {
     "data": {
      "text/plain": [
       "True"
      ]
     },
     "execution_count": 71,
     "metadata": {},
     "output_type": "execute_result"
    }
   ],
   "source": [
    "# Notice the order of operations!\n",
    "# Note that '>=' stands for greater than or equal to\n",
    "# but '>' is strictly greater than. \n",
    "3 * 8 >= 24"
   ]
  },
  {
   "cell_type": "code",
   "execution_count": 72,
   "metadata": {},
   "outputs": [
    {
     "data": {
      "text/plain": [
       "True"
      ]
     },
     "execution_count": 72,
     "metadata": {},
     "output_type": "execute_result"
    }
   ],
   "source": [
    "3 * 8 <= 24"
   ]
  },
  {
   "cell_type": "code",
   "execution_count": 73,
   "metadata": {},
   "outputs": [
    {
     "data": {
      "text/plain": [
       "False"
      ]
     },
     "execution_count": 73,
     "metadata": {},
     "output_type": "execute_result"
    }
   ],
   "source": [
    "# We can also use the 'and', 'or' and 'not' operators!\n",
    "(3 * 8) == 23 and (4 * 6) == 23"
   ]
  },
  {
   "cell_type": "code",
   "execution_count": 74,
   "metadata": {},
   "outputs": [
    {
     "data": {
      "text/plain": [
       "False"
      ]
     },
     "execution_count": 74,
     "metadata": {},
     "output_type": "execute_result"
    }
   ],
   "source": [
    "(3 * 8) == 23 or (4 * 6) == 23"
   ]
  },
  {
   "cell_type": "code",
   "execution_count": 75,
   "metadata": {},
   "outputs": [
    {
     "data": {
      "text/plain": [
       "True"
      ]
     },
     "execution_count": 75,
     "metadata": {},
     "output_type": "execute_result"
    }
   ],
   "source": [
    "'eo' not in 'hello'"
   ]
  },
  {
   "cell_type": "markdown",
   "metadata": {},
   "source": [
    "For more information on Python operators: https://www.w3schools.com/python/python_operators.asp"
   ]
  },
  {
   "cell_type": "markdown",
   "metadata": {},
   "source": [
    "## IV. Variables\n",
    "\n",
    "5. More commonly, you will want to store values (whether numbers, text, or more complex data structures) in variables. The general syntax for doing so is:\n",
    "\n",
    "```\n",
    "[variable_name] = [value]\n",
    "```\n",
    "Simply put, variables are created when you assign values to them!\n",
    "\n",
    "Some general rules for variable names in Python:\n",
    "+ variable names should begin with letters (not numbers or other special characters) or - in special cases - underscores (\"_\")\n",
    "+ do not include whitespace in variable names, instead use underscores (i.e. \"variable_name\")\n",
    "+ do not use [Python's **reserved words**](https://realpython.com/lessons/reserved-keywords/) as variable names (i.e. \"True\", \"False\", \"class\", etc.)\n",
    "+ variable names are case sensitive, so the variable \"Age\" is distinct from \"age\""
   ]
  },
  {
   "cell_type": "code",
   "execution_count": 76,
   "metadata": {},
   "outputs": [],
   "source": [
    "# create a variable called 'num' and assign it a value of 99\n",
    "num = 99"
   ]
  },
  {
   "cell_type": "markdown",
   "metadata": {},
   "source": [
    "6. Notice, above, when we assign a variable, nothing is outputed. Python simply stores the value 99 to the variable name \"num\". To output the value(s) of \"num\" we can use the **print()** function."
   ]
  },
  {
   "cell_type": "code",
   "execution_count": 77,
   "metadata": {},
   "outputs": [
    {
     "name": "stdout",
     "output_type": "stream",
     "text": [
      "99\n"
     ]
    }
   ],
   "source": [
    "print(num)"
   ]
  },
  {
   "cell_type": "markdown",
   "metadata": {},
   "source": [
    "7. We can then perform mathematical calculations using variables (assuming variables are numbers)."
   ]
  },
  {
   "cell_type": "code",
   "execution_count": 78,
   "metadata": {},
   "outputs": [
    {
     "name": "stdout",
     "output_type": "stream",
     "text": [
      "297\n"
     ]
    }
   ],
   "source": [
    "# let's multiply num by 3!\n",
    "print(num * 3)"
   ]
  },
  {
   "cell_type": "code",
   "execution_count": 79,
   "metadata": {},
   "outputs": [],
   "source": [
    "# Another example!\n",
    "first_name = \"Jeremy\"\n",
    "age = 43"
   ]
  },
  {
   "cell_type": "code",
   "execution_count": 80,
   "metadata": {},
   "outputs": [
    {
     "name": "stdout",
     "output_type": "stream",
     "text": [
      "Jeremy is 43 years old.\n"
     ]
    }
   ],
   "source": [
    "print(first_name, \"is\", age, \"years old.\")"
   ]
  },
  {
   "cell_type": "markdown",
   "metadata": {},
   "source": [
    "8. Variables must be created before they are used."
   ]
  },
  {
   "cell_type": "code",
   "execution_count": 81,
   "metadata": {},
   "outputs": [],
   "source": [
    "#print(last_name)   #to get this to work, we first must define the variable \"last_name\""
   ]
  },
  {
   "cell_type": "markdown",
   "metadata": {},
   "source": [
    "Type in your own last name below, run the cell, and then try re-running the cell above. Has the error message disappeared?"
   ]
  },
  {
   "cell_type": "code",
   "execution_count": 82,
   "metadata": {},
   "outputs": [],
   "source": [
    "last_name = \"Mikecz\"   #replace w/ your own last name"
   ]
  },
  {
   "cell_type": "markdown",
   "metadata": {},
   "source": [
    "## V. Data Types\n",
    "\n",
    "It is important to know the types of data stored in a variable. Variables store different types of data, each data type can do different things! Python has several default or in-built data types! The following are just a feq examples of data types. You can find more information here: https://www.w3schools.com/python/python_datatypes.asp\n",
    "\n",
    "- Text type : `str` or strings\n",
    "- Numeric type : `int` or integer, `float` or decimal\n",
    "- Sequence type : `list`, `tuple`, `range`\n",
    "- Mapping type : `dict` or dictionary\n",
    "- Set type : `set`\n",
    "- Boolean type : `bool`\n",
    "- Binary type : `bytes`\n",
    "- None type : `NoneType`\n",
    "\n",
    "9. We can use the **type()** function to identify the data type of a variable. For example:"
   ]
  },
  {
   "cell_type": "code",
   "execution_count": 83,
   "metadata": {},
   "outputs": [
    {
     "data": {
      "text/plain": [
       "float"
      ]
     },
     "execution_count": 83,
     "metadata": {},
     "output_type": "execute_result"
    }
   ],
   "source": [
    "x = 23.4\n",
    "type(x)"
   ]
  },
  {
   "cell_type": "markdown",
   "metadata": {},
   "source": [
    "10. Note: when you store a numerical value within quotes, Python recognizes it as a string (\"str\") rather than a number (either an \"int\" or a \"float\")"
   ]
  },
  {
   "cell_type": "code",
   "execution_count": 84,
   "metadata": {},
   "outputs": [
    {
     "data": {
      "text/plain": [
       "str"
      ]
     },
     "execution_count": 84,
     "metadata": {},
     "output_type": "execute_result"
    }
   ],
   "source": [
    "y = \"23.4\"\n",
    "type(y)"
   ]
  },
  {
   "cell_type": "markdown",
   "metadata": {},
   "source": [
    "11. One of the following two cells will produce an error. Can you guess which one? Then run both and see if you were correct."
   ]
  },
  {
   "cell_type": "code",
   "execution_count": 85,
   "metadata": {},
   "outputs": [
    {
     "data": {
      "text/plain": [
       "26.4"
      ]
     },
     "execution_count": 85,
     "metadata": {},
     "output_type": "execute_result"
    }
   ],
   "source": [
    "x + 3"
   ]
  },
  {
   "cell_type": "code",
   "execution_count": 86,
   "metadata": {},
   "outputs": [],
   "source": [
    "#try running the code below:\n",
    "#y + 3"
   ]
  },
  {
   "cell_type": "markdown",
   "metadata": {},
   "source": [
    "12. What about the following two cells. Which do you expect to produce an error?"
   ]
  },
  {
   "cell_type": "code",
   "execution_count": 87,
   "metadata": {},
   "outputs": [],
   "source": [
    "#\"The temperature is \" + x + \"degrees today.\""
   ]
  },
  {
   "cell_type": "code",
   "execution_count": 88,
   "metadata": {},
   "outputs": [
    {
     "data": {
      "text/plain": [
       "'The temperature is 23.4 degrees today.'"
      ]
     },
     "execution_count": 88,
     "metadata": {},
     "output_type": "execute_result"
    }
   ],
   "source": [
    "\"The temperature is \" + y + \" degrees today.\""
   ]
  },
  {
   "cell_type": "markdown",
   "metadata": {},
   "source": [
    "13. So, you may have noticed we can add (\"+\") numbers (floats or integers) to other numbers. We can also add strings to other strings (\"+\" concatenates strings). Thus, we can avoid the TypeError above by converting x into a string so we are concatening strings to strings."
   ]
  },
  {
   "cell_type": "code",
   "execution_count": 89,
   "metadata": {},
   "outputs": [
    {
     "data": {
      "text/plain": [
       "'The temperature is 23.4 degrees today.'"
      ]
     },
     "execution_count": 89,
     "metadata": {},
     "output_type": "execute_result"
    }
   ],
   "source": [
    "x = str(x)\n",
    "\"The temperature is \" + x + \" degrees today.\""
   ]
  },
  {
   "cell_type": "markdown",
   "metadata": {},
   "source": [
    "14. In the above code applying the **str()** function to x (which was assigned the float 23.4), converts x to a string (\"23.4\"). Functions for converting data from one type to another include:\n",
    "\n",
    "+ **str()** converts a value into a string\n",
    "+ **int()** converts a numerical value into an integer\n",
    "+ **float()** converts a numerical value into a float (a number with decimal points)\n",
    "\n",
    "Note: you cannot convert alphabetical characters to integers and floats, but you can convert ints and floats to strings."
   ]
  },
  {
   "cell_type": "code",
   "execution_count": 90,
   "metadata": {},
   "outputs": [
    {
     "name": "stdout",
     "output_type": "stream",
     "text": [
      "28.0\n",
      "24\n",
      "23.4\n"
     ]
    }
   ],
   "source": [
    "print(float(28))\n",
    "print(int(24.63))\n",
    "print(str(x))"
   ]
  },
  {
   "cell_type": "markdown",
   "metadata": {},
   "source": [
    "## VI. Built-In Functions\n",
    "\n",
    "15. The basic syntax to use a built-in or default function is as follows: \n",
    "```\n",
    "function_name(input, arguments)\n",
    "```"
   ]
  },
  {
   "cell_type": "code",
   "execution_count": 91,
   "metadata": {},
   "outputs": [
    {
     "name": "stdout",
     "output_type": "stream",
     "text": [
      "Hello;World\n"
     ]
    }
   ],
   "source": [
    "# The print function is an example of a built in function\n",
    "print(\"Hello\", \"World\", sep = \";\")"
   ]
  },
  {
   "cell_type": "code",
   "execution_count": 92,
   "metadata": {},
   "outputs": [
    {
     "data": {
      "text/plain": [
       "58.3"
      ]
     },
     "execution_count": 92,
     "metadata": {},
     "output_type": "execute_result"
    }
   ],
   "source": [
    "# The round function is another example of a built in function\n",
    "round(58.29831,2)"
   ]
  },
  {
   "cell_type": "markdown",
   "metadata": {},
   "source": [
    "For more information on built-in functions: https://www.w3schools.com/python/python_ref_functions.asp"
   ]
  },
  {
   "cell_type": "markdown",
   "metadata": {},
   "source": [
    "## VII. Conditionals\n",
    "\n",
    "Python supports mathematical logical conditions. Suppose we have variables/values `x` and `y`. The following are some examples of logical statements. \n",
    "\n",
    "- Equal: `x == y`\n",
    "- Not equal: `x != y`\n",
    "- Strictly lesser than: `x < y`\n",
    "- Strictly greater than: `x > y`\n",
    "- Lesser than or equal: `x <= y`\n",
    "- Greater than or equal: `x >= y`\n",
    "\n",
    "These conditions may be used in several ways; a common use of these are in '`if` statements'. See the following example. "
   ]
  },
  {
   "cell_type": "code",
   "execution_count": 93,
   "metadata": {},
   "outputs": [],
   "source": [
    "x = 20 # assigning variable x a particular value"
   ]
  },
  {
   "cell_type": "code",
   "execution_count": 94,
   "metadata": {},
   "outputs": [
    {
     "name": "stdout",
     "output_type": "stream",
     "text": [
      "This number is greater than 15\n"
     ]
    }
   ],
   "source": [
    "if x > 15:\n",
    "    print(\"This number is greater than 15\")\n",
    "else:\n",
    "    print(\"This number is less than or equal to fifteen\")"
   ]
  },
  {
   "cell_type": "code",
   "execution_count": 95,
   "metadata": {},
   "outputs": [
    {
     "name": "stdout",
     "output_type": "stream",
     "text": [
      "This number is greater than 15\n"
     ]
    }
   ],
   "source": [
    "if x > 15:\n",
    "    print(\"This number is greater than 15\")\n",
    "elif x >= 10: # elif == else if\n",
    "    print(\"This number is between 10 and 14\")\n",
    "else:\n",
    "    print(\"This number is less than 10\")"
   ]
  },
  {
   "cell_type": "markdown",
   "metadata": {},
   "source": [
    "## VIII. Let's try combining what we've learned so far"
   ]
  },
  {
   "cell_type": "code",
   "execution_count": 96,
   "metadata": {},
   "outputs": [
    {
     "name": "stdout",
     "output_type": "stream",
     "text": [
      "Enter your name:\n",
      "Hello, Bob\n"
     ]
    }
   ],
   "source": [
    "print('Enter your name:')\n",
    "name = input()\n",
    "\n",
    "\n",
    "print('Hello, ' + name) "
   ]
  },
  {
   "cell_type": "code",
   "execution_count": 97,
   "metadata": {},
   "outputs": [
    {
     "name": "stdout",
     "output_type": "stream",
     "text": [
      "What is your age?\n",
      "Sorry we cannot serve someone who is 19 years old.\n"
     ]
    }
   ],
   "source": [
    "print('What is your age?')\n",
    "age = input() # this takes in a string type!\n",
    "if int(age) < 21:\n",
    "    print(f\"Sorry we cannot serve someone who is {age} years old.\")            #adding the f before a string creates a formatted string, which allow us to add variables between {}\n",
    "else:\n",
    "    print(f'Hey, you look young for {age}. What would you like?')"
   ]
  },
  {
   "cell_type": "markdown",
   "metadata": {},
   "source": [
    "## IX. A Note on Working with Files and Libraries\n",
    "\n",
    "### IXa. Libraries, Modules, and Functions\n",
    "\n",
    "With Python alone, a programmer can perform some basic operations using simple functions like **print()**, **len()**, **max()**, **min()**, **sorted()** as well as some methods applied directly to particular data types (like **.lower()** and **.upper()** for strings).\n",
    "\n",
    "However, to do more advanced or specialized things we need to install and import Python **Libraries** also known as **packages**. \n",
    "\n",
    "A **Python library** is a collection of files (known as **modules**) that each contain **functions** to complete a set of related tasks. \n",
    "\n",
    "*Confused?* \n",
    "\n",
    "*This can get confusing as some large libraries have multiple sub-packages each with many different modules. In other cases a library consists of a single module.* ***The important thing to know is that you need to import each library or module you want to use.***/\n",
    "\n",
    "Some commonly used modules are found in [Python's Standard Library](https://docs.python.org/3/library/). \n",
    "\n",
    "### IXb. Working with Libraries\n",
    "\n",
    "For more on functions, we can refer to a more detailed lesson provided by [**Constellate's** Python 4 lesson](https://lab.constellate.org/perfusion-stearns-eliot/notebooks/tdm-notebooks-2023-04-03T23%3A17%3A07.601Z/python-basics-4.ipynb):\n",
    "\n",
    "```\n",
    "**Functions**\n",
    "\n",
    "You can identify a function by the fact that it ends with a set of parentheses () where arguments can be passed into the function. Depending on the function (and your goals for using it), a function may accept no arguments, a single argument, or many arguments. For example, when we use the print() function, a string (or a variable containing a string) is passed as an argument.\n",
    "\n",
    "Functions are a convenient shorthand, like a mini-program, that makes our code more modular. We don't need to know all the details of how the print() function works in order to use it. Functions are sometimes called \"black boxes\", in that we can put an argument into the box and a return value comes out. We don't need to know the inner details of the \"black box\" to use it. (Of course, as you advance your programming skills, you may become curious about how certain functions work. And if you work with sensitive data, you may need to peer in the black box to ensure the security and accuracy of the output.)\n",
    "\n",
    "**Libraries & Modules**\n",
    "\n",
    "While Python comes with many functions, there are thousands more that others have written. Adding them all to Python would create mass confusion, since many people could use the same name for functions that do different things. The solution then is that functions are stored in modules that can be imported for use. A module is a Python file (extension \".py\") that contains the definitions for the functions written in Python. These modules (individual Python files) can then be collected into even larger groups called packages and libraries. Depending on how many functions you need for the program you are writing, you may import a single module, a package of modules, or a whole library.\n",
    "```\n",
    "\n",
    "First, we will import the [**math module**](https://docs.python.org/3/library/math.html).\n",
    "\n",
    "The syntax for importing a module is:\n",
    "\n",
    "```\n",
    "import module_name\n",
    "```"
   ]
  },
  {
   "cell_type": "code",
   "execution_count": 98,
   "metadata": {},
   "outputs": [],
   "source": [
    "import math"
   ]
  },
  {
   "cell_type": "markdown",
   "metadata": {},
   "source": [
    "By importing the math module, for example, we have access to a wide range of mathematical functions (see the [math module documentation here](https://docs.python.org/3/library/math.html)). \n",
    "\n",
    "For example, we can calculate the square root of a large number (by using the **math** module's **sqrt** function) or identify the value of pi (as well as more advanced mathematical operations)."
   ]
  },
  {
   "cell_type": "code",
   "execution_count": 99,
   "metadata": {},
   "outputs": [
    {
     "name": "stdout",
     "output_type": "stream",
     "text": [
      "3.141592653589793\n"
     ]
    }
   ],
   "source": [
    "print(math.pi)"
   ]
  },
  {
   "cell_type": "markdown",
   "metadata": {},
   "source": [
    "Use the **help()** function to learn more about the math module."
   ]
  },
  {
   "cell_type": "code",
   "execution_count": 100,
   "metadata": {},
   "outputs": [
    {
     "name": "stdout",
     "output_type": "stream",
     "text": [
      "Help on built-in module math:\n",
      "\n",
      "NAME\n",
      "    math\n",
      "\n",
      "DESCRIPTION\n",
      "    This module provides access to the mathematical functions\n",
      "    defined by the C standard.\n",
      "\n",
      "FUNCTIONS\n",
      "    acos(x, /)\n",
      "        Return the arc cosine (measured in radians) of x.\n",
      "        \n",
      "        The result is between 0 and pi.\n",
      "    \n",
      "    acosh(x, /)\n",
      "        Return the inverse hyperbolic cosine of x.\n",
      "    \n",
      "    asin(x, /)\n",
      "        Return the arc sine (measured in radians) of x.\n",
      "        \n",
      "        The result is between -pi/2 and pi/2.\n",
      "    \n",
      "    asinh(x, /)\n",
      "        Return the inverse hyperbolic sine of x.\n",
      "    \n",
      "    atan(x, /)\n",
      "        Return the arc tangent (measured in radians) of x.\n",
      "        \n",
      "        The result is between -pi/2 and pi/2.\n",
      "    \n",
      "    atan2(y, x, /)\n",
      "        Return the arc tangent (measured in radians) of y/x.\n",
      "        \n",
      "        Unlike atan(y/x), the signs of both x and y are considered.\n",
      "    \n",
      "    atanh(x, /)\n",
      "        Return the inverse hyperbolic tangent of x.\n",
      "    \n",
      "    cbrt(x, /)\n",
      "        Return the cube root of x.\n",
      "    \n",
      "    ceil(x, /)\n",
      "        Return the ceiling of x as an Integral.\n",
      "        \n",
      "        This is the smallest integer >= x.\n",
      "    \n",
      "    comb(n, k, /)\n",
      "        Number of ways to choose k items from n items without repetition and without order.\n",
      "        \n",
      "        Evaluates to n! / (k! * (n - k)!) when k <= n and evaluates\n",
      "        to zero when k > n.\n",
      "        \n",
      "        Also called the binomial coefficient because it is equivalent\n",
      "        to the coefficient of k-th term in polynomial expansion of the\n",
      "        expression (1 + x)**n.\n",
      "        \n",
      "        Raises TypeError if either of the arguments are not integers.\n",
      "        Raises ValueError if either of the arguments are negative.\n",
      "    \n",
      "    copysign(x, y, /)\n",
      "        Return a float with the magnitude (absolute value) of x but the sign of y.\n",
      "        \n",
      "        On platforms that support signed zeros, copysign(1.0, -0.0)\n",
      "        returns -1.0.\n",
      "    \n",
      "    cos(x, /)\n",
      "        Return the cosine of x (measured in radians).\n",
      "    \n",
      "    cosh(x, /)\n",
      "        Return the hyperbolic cosine of x.\n",
      "    \n",
      "    degrees(x, /)\n",
      "        Convert angle x from radians to degrees.\n",
      "    \n",
      "    dist(p, q, /)\n",
      "        Return the Euclidean distance between two points p and q.\n",
      "        \n",
      "        The points should be specified as sequences (or iterables) of\n",
      "        coordinates.  Both inputs must have the same dimension.\n",
      "        \n",
      "        Roughly equivalent to:\n",
      "            sqrt(sum((px - qx) ** 2.0 for px, qx in zip(p, q)))\n",
      "    \n",
      "    erf(x, /)\n",
      "        Error function at x.\n",
      "    \n",
      "    erfc(x, /)\n",
      "        Complementary error function at x.\n",
      "    \n",
      "    exp(x, /)\n",
      "        Return e raised to the power of x.\n",
      "    \n",
      "    exp2(x, /)\n",
      "        Return 2 raised to the power of x.\n",
      "    \n",
      "    expm1(x, /)\n",
      "        Return exp(x)-1.\n",
      "        \n",
      "        This function avoids the loss of precision involved in the direct evaluation of exp(x)-1 for small x.\n",
      "    \n",
      "    fabs(x, /)\n",
      "        Return the absolute value of the float x.\n",
      "    \n",
      "    factorial(n, /)\n",
      "        Find n!.\n",
      "        \n",
      "        Raise a ValueError if x is negative or non-integral.\n",
      "    \n",
      "    floor(x, /)\n",
      "        Return the floor of x as an Integral.\n",
      "        \n",
      "        This is the largest integer <= x.\n",
      "    \n",
      "    fmod(x, y, /)\n",
      "        Return fmod(x, y), according to platform C.\n",
      "        \n",
      "        x % y may differ.\n",
      "    \n",
      "    frexp(x, /)\n",
      "        Return the mantissa and exponent of x, as pair (m, e).\n",
      "        \n",
      "        m is a float and e is an int, such that x = m * 2.**e.\n",
      "        If x is 0, m and e are both 0.  Else 0.5 <= abs(m) < 1.0.\n",
      "    \n",
      "    fsum(seq, /)\n",
      "        Return an accurate floating point sum of values in the iterable seq.\n",
      "        \n",
      "        Assumes IEEE-754 floating point arithmetic.\n",
      "    \n",
      "    gamma(x, /)\n",
      "        Gamma function at x.\n",
      "    \n",
      "    gcd(*integers)\n",
      "        Greatest Common Divisor.\n",
      "    \n",
      "    hypot(...)\n",
      "        hypot(*coordinates) -> value\n",
      "        \n",
      "        Multidimensional Euclidean distance from the origin to a point.\n",
      "        \n",
      "        Roughly equivalent to:\n",
      "            sqrt(sum(x**2 for x in coordinates))\n",
      "        \n",
      "        For a two dimensional point (x, y), gives the hypotenuse\n",
      "        using the Pythagorean theorem:  sqrt(x*x + y*y).\n",
      "        \n",
      "        For example, the hypotenuse of a 3/4/5 right triangle is:\n",
      "        \n",
      "            >>> hypot(3.0, 4.0)\n",
      "            5.0\n",
      "    \n",
      "    isclose(a, b, *, rel_tol=1e-09, abs_tol=0.0)\n",
      "        Determine whether two floating point numbers are close in value.\n",
      "        \n",
      "          rel_tol\n",
      "            maximum difference for being considered \"close\", relative to the\n",
      "            magnitude of the input values\n",
      "          abs_tol\n",
      "            maximum difference for being considered \"close\", regardless of the\n",
      "            magnitude of the input values\n",
      "        \n",
      "        Return True if a is close in value to b, and False otherwise.\n",
      "        \n",
      "        For the values to be considered close, the difference between them\n",
      "        must be smaller than at least one of the tolerances.\n",
      "        \n",
      "        -inf, inf and NaN behave similarly to the IEEE 754 Standard.  That\n",
      "        is, NaN is not close to anything, even itself.  inf and -inf are\n",
      "        only close to themselves.\n",
      "    \n",
      "    isfinite(x, /)\n",
      "        Return True if x is neither an infinity nor a NaN, and False otherwise.\n",
      "    \n",
      "    isinf(x, /)\n",
      "        Return True if x is a positive or negative infinity, and False otherwise.\n",
      "    \n",
      "    isnan(x, /)\n",
      "        Return True if x is a NaN (not a number), and False otherwise.\n",
      "    \n",
      "    isqrt(n, /)\n",
      "        Return the integer part of the square root of the input.\n",
      "    \n",
      "    lcm(*integers)\n",
      "        Least Common Multiple.\n",
      "    \n",
      "    ldexp(x, i, /)\n",
      "        Return x * (2**i).\n",
      "        \n",
      "        This is essentially the inverse of frexp().\n",
      "    \n",
      "    lgamma(x, /)\n",
      "        Natural logarithm of absolute value of Gamma function at x.\n",
      "    \n",
      "    log(...)\n",
      "        log(x, [base=math.e])\n",
      "        Return the logarithm of x to the given base.\n",
      "        \n",
      "        If the base not specified, returns the natural logarithm (base e) of x.\n",
      "    \n",
      "    log10(x, /)\n",
      "        Return the base 10 logarithm of x.\n",
      "    \n",
      "    log1p(x, /)\n",
      "        Return the natural logarithm of 1+x (base e).\n",
      "        \n",
      "        The result is computed in a way which is accurate for x near zero.\n",
      "    \n",
      "    log2(x, /)\n",
      "        Return the base 2 logarithm of x.\n",
      "    \n",
      "    modf(x, /)\n",
      "        Return the fractional and integer parts of x.\n",
      "        \n",
      "        Both results carry the sign of x and are floats.\n",
      "    \n",
      "    nextafter(x, y, /)\n",
      "        Return the next floating-point value after x towards y.\n",
      "    \n",
      "    perm(n, k=None, /)\n",
      "        Number of ways to choose k items from n items without repetition and with order.\n",
      "        \n",
      "        Evaluates to n! / (n - k)! when k <= n and evaluates\n",
      "        to zero when k > n.\n",
      "        \n",
      "        If k is not specified or is None, then k defaults to n\n",
      "        and the function returns n!.\n",
      "        \n",
      "        Raises TypeError if either of the arguments are not integers.\n",
      "        Raises ValueError if either of the arguments are negative.\n",
      "    \n",
      "    pow(x, y, /)\n",
      "        Return x**y (x to the power of y).\n",
      "    \n",
      "    prod(iterable, /, *, start=1)\n",
      "        Calculate the product of all the elements in the input iterable.\n",
      "        \n",
      "        The default start value for the product is 1.\n",
      "        \n",
      "        When the iterable is empty, return the start value.  This function is\n",
      "        intended specifically for use with numeric values and may reject\n",
      "        non-numeric types.\n",
      "    \n",
      "    radians(x, /)\n",
      "        Convert angle x from degrees to radians.\n",
      "    \n",
      "    remainder(x, y, /)\n",
      "        Difference between x and the closest integer multiple of y.\n",
      "        \n",
      "        Return x - n*y where n*y is the closest integer multiple of y.\n",
      "        In the case where x is exactly halfway between two multiples of\n",
      "        y, the nearest even value of n is used. The result is always exact.\n",
      "    \n",
      "    sin(x, /)\n",
      "        Return the sine of x (measured in radians).\n",
      "    \n",
      "    sinh(x, /)\n",
      "        Return the hyperbolic sine of x.\n",
      "    \n",
      "    sqrt(x, /)\n",
      "        Return the square root of x.\n",
      "    \n",
      "    tan(x, /)\n",
      "        Return the tangent of x (measured in radians).\n",
      "    \n",
      "    tanh(x, /)\n",
      "        Return the hyperbolic tangent of x.\n",
      "    \n",
      "    trunc(x, /)\n",
      "        Truncates the Real x to the nearest Integral toward 0.\n",
      "        \n",
      "        Uses the __trunc__ magic method.\n",
      "    \n",
      "    ulp(x, /)\n",
      "        Return the value of the least significant bit of the float x.\n",
      "\n",
      "DATA\n",
      "    e = 2.718281828459045\n",
      "    inf = inf\n",
      "    nan = nan\n",
      "    pi = 3.141592653589793\n",
      "    tau = 6.283185307179586\n",
      "\n",
      "FILE\n",
      "    (built-in)\n",
      "\n",
      "\n"
     ]
    }
   ],
   "source": [
    "help(math)"
   ]
  },
  {
   "cell_type": "markdown",
   "metadata": {},
   "source": [
    "## X. Working with Files\n",
    "\n",
    "An essential skill in Python is to be able to navigate through files on your computer to either read in existing files into Python or to output new files. \n",
    "\n",
    "To enable navigating through files on your computer, we will use the **os** and **pathlib** libraries. \n",
    "\n",
    "Let's import them now."
   ]
  },
  {
   "cell_type": "code",
   "execution_count": 101,
   "metadata": {},
   "outputs": [],
   "source": [
    "# import os\n",
    "from pathlib import Path"
   ]
  },
  {
   "cell_type": "code",
   "execution_count": 102,
   "metadata": {},
   "outputs": [
    {
     "name": "stdout",
     "output_type": "stream",
     "text": [
      "c:\\Users\\F0040RP\\Documents\\DartLib_RDS\\intro-to-python\n",
      "c:\\Users\\F0040RP\\Documents\\DartLib_RDS\n",
      "c:\\Users\\F0040RP\\Documents\n"
     ]
    }
   ],
   "source": [
    "# Examine what the following functions do. Hint: **cwd()** means \"current working directory.\"\n",
    "print(Path.cwd())\n",
    "print(Path.cwd().parent)\n",
    "print(Path.cwd().parent.parent)"
   ]
  },
  {
   "cell_type": "code",
   "execution_count": 103,
   "metadata": {},
   "outputs": [
    {
     "name": "stdout",
     "output_type": "stream",
     "text": [
      "C:\\Users\\F0040RP\\shared\\RR-workshop-data\\state-of-the-union-dataset\\txt\n",
      "[WindowsPath('C:/Users/F0040RP/shared/RR-workshop-data/state-of-the-union-dataset/txt/Adams_1797.txt'), WindowsPath('C:/Users/F0040RP/shared/RR-workshop-data/state-of-the-union-dataset/txt/Adams_1798.txt'), WindowsPath('C:/Users/F0040RP/shared/RR-workshop-data/state-of-the-union-dataset/txt/Adams_1799.txt'), WindowsPath('C:/Users/F0040RP/shared/RR-workshop-data/state-of-the-union-dataset/txt/Adams_1800.txt'), WindowsPath('C:/Users/F0040RP/shared/RR-workshop-data/state-of-the-union-dataset/txt/Adams_1825.txt'), WindowsPath('C:/Users/F0040RP/shared/RR-workshop-data/state-of-the-union-dataset/txt/Adams_1826.txt'), WindowsPath('C:/Users/F0040RP/shared/RR-workshop-data/state-of-the-union-dataset/txt/Adams_1827.txt'), WindowsPath('C:/Users/F0040RP/shared/RR-workshop-data/state-of-the-union-dataset/txt/Adams_1828.txt'), WindowsPath('C:/Users/F0040RP/shared/RR-workshop-data/state-of-the-union-dataset/txt/Arthur_1881.txt'), WindowsPath('C:/Users/F0040RP/shared/RR-workshop-data/state-of-the-union-dataset/txt/Arthur_1882.txt'), WindowsPath('C:/Users/F0040RP/shared/RR-workshop-data/state-of-the-union-dataset/txt/Arthur_1883.txt'), WindowsPath('C:/Users/F0040RP/shared/RR-workshop-data/state-of-the-union-dataset/txt/Arthur_1884.txt'), WindowsPath('C:/Users/F0040RP/shared/RR-workshop-data/state-of-the-union-dataset/txt/Biden_2021.txt'), WindowsPath('C:/Users/F0040RP/shared/RR-workshop-data/state-of-the-union-dataset/txt/Biden_2022.txt'), WindowsPath('C:/Users/F0040RP/shared/RR-workshop-data/state-of-the-union-dataset/txt/Biden_2023.txt'), WindowsPath('C:/Users/F0040RP/shared/RR-workshop-data/state-of-the-union-dataset/txt/Buchanan_1857.txt'), WindowsPath('C:/Users/F0040RP/shared/RR-workshop-data/state-of-the-union-dataset/txt/Buchanan_1858.txt'), WindowsPath('C:/Users/F0040RP/shared/RR-workshop-data/state-of-the-union-dataset/txt/Buchanan_1859.txt'), WindowsPath('C:/Users/F0040RP/shared/RR-workshop-data/state-of-the-union-dataset/txt/Buchanan_1860.txt'), WindowsPath('C:/Users/F0040RP/shared/RR-workshop-data/state-of-the-union-dataset/txt/Buren_1837.txt'), WindowsPath('C:/Users/F0040RP/shared/RR-workshop-data/state-of-the-union-dataset/txt/Buren_1838.txt'), WindowsPath('C:/Users/F0040RP/shared/RR-workshop-data/state-of-the-union-dataset/txt/Buren_1839.txt'), WindowsPath('C:/Users/F0040RP/shared/RR-workshop-data/state-of-the-union-dataset/txt/Buren_1840.txt'), WindowsPath('C:/Users/F0040RP/shared/RR-workshop-data/state-of-the-union-dataset/txt/Bush_1989.txt'), WindowsPath('C:/Users/F0040RP/shared/RR-workshop-data/state-of-the-union-dataset/txt/Bush_1990.txt'), WindowsPath('C:/Users/F0040RP/shared/RR-workshop-data/state-of-the-union-dataset/txt/Bush_1991.txt'), WindowsPath('C:/Users/F0040RP/shared/RR-workshop-data/state-of-the-union-dataset/txt/Bush_1992.txt'), WindowsPath('C:/Users/F0040RP/shared/RR-workshop-data/state-of-the-union-dataset/txt/Bush_2001.txt'), WindowsPath('C:/Users/F0040RP/shared/RR-workshop-data/state-of-the-union-dataset/txt/Bush_2002.txt'), WindowsPath('C:/Users/F0040RP/shared/RR-workshop-data/state-of-the-union-dataset/txt/Bush_2003.txt'), WindowsPath('C:/Users/F0040RP/shared/RR-workshop-data/state-of-the-union-dataset/txt/Bush_2004.txt'), WindowsPath('C:/Users/F0040RP/shared/RR-workshop-data/state-of-the-union-dataset/txt/Bush_2005.txt'), WindowsPath('C:/Users/F0040RP/shared/RR-workshop-data/state-of-the-union-dataset/txt/Bush_2006.txt'), WindowsPath('C:/Users/F0040RP/shared/RR-workshop-data/state-of-the-union-dataset/txt/Bush_2007.txt'), WindowsPath('C:/Users/F0040RP/shared/RR-workshop-data/state-of-the-union-dataset/txt/Bush_2008.txt'), WindowsPath('C:/Users/F0040RP/shared/RR-workshop-data/state-of-the-union-dataset/txt/Carter_1978.txt'), WindowsPath('C:/Users/F0040RP/shared/RR-workshop-data/state-of-the-union-dataset/txt/Carter_1979.txt'), WindowsPath('C:/Users/F0040RP/shared/RR-workshop-data/state-of-the-union-dataset/txt/Carter_1980.txt'), WindowsPath('C:/Users/F0040RP/shared/RR-workshop-data/state-of-the-union-dataset/txt/Carter_1981.txt'), WindowsPath('C:/Users/F0040RP/shared/RR-workshop-data/state-of-the-union-dataset/txt/Cleveland_1885.txt'), WindowsPath('C:/Users/F0040RP/shared/RR-workshop-data/state-of-the-union-dataset/txt/Cleveland_1886.txt'), WindowsPath('C:/Users/F0040RP/shared/RR-workshop-data/state-of-the-union-dataset/txt/Cleveland_1887.txt'), WindowsPath('C:/Users/F0040RP/shared/RR-workshop-data/state-of-the-union-dataset/txt/Cleveland_1888.txt'), WindowsPath('C:/Users/F0040RP/shared/RR-workshop-data/state-of-the-union-dataset/txt/Cleveland_1893.txt'), WindowsPath('C:/Users/F0040RP/shared/RR-workshop-data/state-of-the-union-dataset/txt/Cleveland_1894.txt'), WindowsPath('C:/Users/F0040RP/shared/RR-workshop-data/state-of-the-union-dataset/txt/Cleveland_1895.txt'), WindowsPath('C:/Users/F0040RP/shared/RR-workshop-data/state-of-the-union-dataset/txt/Cleveland_1896.txt'), WindowsPath('C:/Users/F0040RP/shared/RR-workshop-data/state-of-the-union-dataset/txt/Clinton_1993.txt'), WindowsPath('C:/Users/F0040RP/shared/RR-workshop-data/state-of-the-union-dataset/txt/Clinton_1994.txt'), WindowsPath('C:/Users/F0040RP/shared/RR-workshop-data/state-of-the-union-dataset/txt/Clinton_1995.txt'), WindowsPath('C:/Users/F0040RP/shared/RR-workshop-data/state-of-the-union-dataset/txt/Clinton_1996.txt'), WindowsPath('C:/Users/F0040RP/shared/RR-workshop-data/state-of-the-union-dataset/txt/Clinton_1997.txt'), WindowsPath('C:/Users/F0040RP/shared/RR-workshop-data/state-of-the-union-dataset/txt/Clinton_1998.txt'), WindowsPath('C:/Users/F0040RP/shared/RR-workshop-data/state-of-the-union-dataset/txt/Clinton_1999.txt'), WindowsPath('C:/Users/F0040RP/shared/RR-workshop-data/state-of-the-union-dataset/txt/Clinton_2000.txt'), WindowsPath('C:/Users/F0040RP/shared/RR-workshop-data/state-of-the-union-dataset/txt/Coolidge_1923.txt'), WindowsPath('C:/Users/F0040RP/shared/RR-workshop-data/state-of-the-union-dataset/txt/Coolidge_1924.txt'), WindowsPath('C:/Users/F0040RP/shared/RR-workshop-data/state-of-the-union-dataset/txt/Coolidge_1925.txt'), WindowsPath('C:/Users/F0040RP/shared/RR-workshop-data/state-of-the-union-dataset/txt/Coolidge_1926.txt'), WindowsPath('C:/Users/F0040RP/shared/RR-workshop-data/state-of-the-union-dataset/txt/Coolidge_1927.txt'), WindowsPath('C:/Users/F0040RP/shared/RR-workshop-data/state-of-the-union-dataset/txt/Coolidge_1928.txt'), WindowsPath('C:/Users/F0040RP/shared/RR-workshop-data/state-of-the-union-dataset/txt/Eisenhower_1954.txt'), WindowsPath('C:/Users/F0040RP/shared/RR-workshop-data/state-of-the-union-dataset/txt/Eisenhower_1955.txt'), WindowsPath('C:/Users/F0040RP/shared/RR-workshop-data/state-of-the-union-dataset/txt/Eisenhower_1956.txt'), WindowsPath('C:/Users/F0040RP/shared/RR-workshop-data/state-of-the-union-dataset/txt/Eisenhower_1957.txt'), WindowsPath('C:/Users/F0040RP/shared/RR-workshop-data/state-of-the-union-dataset/txt/Eisenhower_1958.txt'), WindowsPath('C:/Users/F0040RP/shared/RR-workshop-data/state-of-the-union-dataset/txt/Eisenhower_1959.txt'), WindowsPath('C:/Users/F0040RP/shared/RR-workshop-data/state-of-the-union-dataset/txt/Eisenhower_1960.txt'), WindowsPath('C:/Users/F0040RP/shared/RR-workshop-data/state-of-the-union-dataset/txt/Eisenhower_1961.txt'), WindowsPath('C:/Users/F0040RP/shared/RR-workshop-data/state-of-the-union-dataset/txt/Fillmore_1850.txt'), WindowsPath('C:/Users/F0040RP/shared/RR-workshop-data/state-of-the-union-dataset/txt/Fillmore_1851.txt'), WindowsPath('C:/Users/F0040RP/shared/RR-workshop-data/state-of-the-union-dataset/txt/Fillmore_1852.txt'), WindowsPath('C:/Users/F0040RP/shared/RR-workshop-data/state-of-the-union-dataset/txt/Ford_1975.txt'), WindowsPath('C:/Users/F0040RP/shared/RR-workshop-data/state-of-the-union-dataset/txt/Ford_1976.txt'), WindowsPath('C:/Users/F0040RP/shared/RR-workshop-data/state-of-the-union-dataset/txt/Ford_1977.txt'), WindowsPath('C:/Users/F0040RP/shared/RR-workshop-data/state-of-the-union-dataset/txt/Grant_1869.txt'), WindowsPath('C:/Users/F0040RP/shared/RR-workshop-data/state-of-the-union-dataset/txt/Grant_1870.txt'), WindowsPath('C:/Users/F0040RP/shared/RR-workshop-data/state-of-the-union-dataset/txt/Grant_1871.txt'), WindowsPath('C:/Users/F0040RP/shared/RR-workshop-data/state-of-the-union-dataset/txt/Grant_1872.txt'), WindowsPath('C:/Users/F0040RP/shared/RR-workshop-data/state-of-the-union-dataset/txt/Grant_1873.txt'), WindowsPath('C:/Users/F0040RP/shared/RR-workshop-data/state-of-the-union-dataset/txt/Grant_1874.txt'), WindowsPath('C:/Users/F0040RP/shared/RR-workshop-data/state-of-the-union-dataset/txt/Grant_1875.txt'), WindowsPath('C:/Users/F0040RP/shared/RR-workshop-data/state-of-the-union-dataset/txt/Grant_1876.txt'), WindowsPath('C:/Users/F0040RP/shared/RR-workshop-data/state-of-the-union-dataset/txt/Harding_1921.txt'), WindowsPath('C:/Users/F0040RP/shared/RR-workshop-data/state-of-the-union-dataset/txt/Harding_1922.txt'), WindowsPath('C:/Users/F0040RP/shared/RR-workshop-data/state-of-the-union-dataset/txt/Harrison_1889.txt'), WindowsPath('C:/Users/F0040RP/shared/RR-workshop-data/state-of-the-union-dataset/txt/Harrison_1890.txt'), WindowsPath('C:/Users/F0040RP/shared/RR-workshop-data/state-of-the-union-dataset/txt/Harrison_1891.txt'), WindowsPath('C:/Users/F0040RP/shared/RR-workshop-data/state-of-the-union-dataset/txt/Harrison_1892.txt'), WindowsPath('C:/Users/F0040RP/shared/RR-workshop-data/state-of-the-union-dataset/txt/Hayes_1877.txt'), WindowsPath('C:/Users/F0040RP/shared/RR-workshop-data/state-of-the-union-dataset/txt/Hayes_1878.txt'), WindowsPath('C:/Users/F0040RP/shared/RR-workshop-data/state-of-the-union-dataset/txt/Hayes_1879.txt'), WindowsPath('C:/Users/F0040RP/shared/RR-workshop-data/state-of-the-union-dataset/txt/Hayes_1880.txt'), WindowsPath('C:/Users/F0040RP/shared/RR-workshop-data/state-of-the-union-dataset/txt/Hoover_1929.txt'), WindowsPath('C:/Users/F0040RP/shared/RR-workshop-data/state-of-the-union-dataset/txt/Hoover_1930.txt'), WindowsPath('C:/Users/F0040RP/shared/RR-workshop-data/state-of-the-union-dataset/txt/Hoover_1931.txt'), WindowsPath('C:/Users/F0040RP/shared/RR-workshop-data/state-of-the-union-dataset/txt/Hoover_1932.txt'), WindowsPath('C:/Users/F0040RP/shared/RR-workshop-data/state-of-the-union-dataset/txt/Jackson_1829.txt'), WindowsPath('C:/Users/F0040RP/shared/RR-workshop-data/state-of-the-union-dataset/txt/Jackson_1830.txt'), WindowsPath('C:/Users/F0040RP/shared/RR-workshop-data/state-of-the-union-dataset/txt/Jackson_1831.txt'), WindowsPath('C:/Users/F0040RP/shared/RR-workshop-data/state-of-the-union-dataset/txt/Jackson_1832.txt'), WindowsPath('C:/Users/F0040RP/shared/RR-workshop-data/state-of-the-union-dataset/txt/Jackson_1833.txt'), WindowsPath('C:/Users/F0040RP/shared/RR-workshop-data/state-of-the-union-dataset/txt/Jackson_1834.txt'), WindowsPath('C:/Users/F0040RP/shared/RR-workshop-data/state-of-the-union-dataset/txt/Jackson_1835.txt'), WindowsPath('C:/Users/F0040RP/shared/RR-workshop-data/state-of-the-union-dataset/txt/Jackson_1836.txt'), WindowsPath('C:/Users/F0040RP/shared/RR-workshop-data/state-of-the-union-dataset/txt/Jefferson_1801.txt'), WindowsPath('C:/Users/F0040RP/shared/RR-workshop-data/state-of-the-union-dataset/txt/Jefferson_1802.txt'), WindowsPath('C:/Users/F0040RP/shared/RR-workshop-data/state-of-the-union-dataset/txt/Jefferson_1803.txt'), WindowsPath('C:/Users/F0040RP/shared/RR-workshop-data/state-of-the-union-dataset/txt/Jefferson_1804.txt'), WindowsPath('C:/Users/F0040RP/shared/RR-workshop-data/state-of-the-union-dataset/txt/Jefferson_1805.txt'), WindowsPath('C:/Users/F0040RP/shared/RR-workshop-data/state-of-the-union-dataset/txt/Jefferson_1806.txt'), WindowsPath('C:/Users/F0040RP/shared/RR-workshop-data/state-of-the-union-dataset/txt/Jefferson_1807.txt'), WindowsPath('C:/Users/F0040RP/shared/RR-workshop-data/state-of-the-union-dataset/txt/Jefferson_1808.txt'), WindowsPath('C:/Users/F0040RP/shared/RR-workshop-data/state-of-the-union-dataset/txt/Johnson_1865.txt'), WindowsPath('C:/Users/F0040RP/shared/RR-workshop-data/state-of-the-union-dataset/txt/Johnson_1866.txt'), WindowsPath('C:/Users/F0040RP/shared/RR-workshop-data/state-of-the-union-dataset/txt/Johnson_1867.txt'), WindowsPath('C:/Users/F0040RP/shared/RR-workshop-data/state-of-the-union-dataset/txt/Johnson_1868.txt'), WindowsPath('C:/Users/F0040RP/shared/RR-workshop-data/state-of-the-union-dataset/txt/Johnson_1964.txt'), WindowsPath('C:/Users/F0040RP/shared/RR-workshop-data/state-of-the-union-dataset/txt/Johnson_1965.txt'), WindowsPath('C:/Users/F0040RP/shared/RR-workshop-data/state-of-the-union-dataset/txt/Johnson_1966.txt'), WindowsPath('C:/Users/F0040RP/shared/RR-workshop-data/state-of-the-union-dataset/txt/Johnson_1967.txt'), WindowsPath('C:/Users/F0040RP/shared/RR-workshop-data/state-of-the-union-dataset/txt/Johnson_1968.txt'), WindowsPath('C:/Users/F0040RP/shared/RR-workshop-data/state-of-the-union-dataset/txt/Johnson_1969.txt'), WindowsPath('C:/Users/F0040RP/shared/RR-workshop-data/state-of-the-union-dataset/txt/Kennedy_1962.txt'), WindowsPath('C:/Users/F0040RP/shared/RR-workshop-data/state-of-the-union-dataset/txt/Kennedy_1963.txt'), WindowsPath('C:/Users/F0040RP/shared/RR-workshop-data/state-of-the-union-dataset/txt/Lincoln_1861.txt'), WindowsPath('C:/Users/F0040RP/shared/RR-workshop-data/state-of-the-union-dataset/txt/Lincoln_1862.txt'), WindowsPath('C:/Users/F0040RP/shared/RR-workshop-data/state-of-the-union-dataset/txt/Lincoln_1863.txt'), WindowsPath('C:/Users/F0040RP/shared/RR-workshop-data/state-of-the-union-dataset/txt/Lincoln_1864.txt'), WindowsPath('C:/Users/F0040RP/shared/RR-workshop-data/state-of-the-union-dataset/txt/Madison_1809.txt'), WindowsPath('C:/Users/F0040RP/shared/RR-workshop-data/state-of-the-union-dataset/txt/Madison_1810.txt'), WindowsPath('C:/Users/F0040RP/shared/RR-workshop-data/state-of-the-union-dataset/txt/Madison_1811.txt'), WindowsPath('C:/Users/F0040RP/shared/RR-workshop-data/state-of-the-union-dataset/txt/Madison_1812.txt'), WindowsPath('C:/Users/F0040RP/shared/RR-workshop-data/state-of-the-union-dataset/txt/Madison_1813.txt'), WindowsPath('C:/Users/F0040RP/shared/RR-workshop-data/state-of-the-union-dataset/txt/Madison_1814.txt'), WindowsPath('C:/Users/F0040RP/shared/RR-workshop-data/state-of-the-union-dataset/txt/Madison_1815.txt'), WindowsPath('C:/Users/F0040RP/shared/RR-workshop-data/state-of-the-union-dataset/txt/Madison_1816.txt'), WindowsPath('C:/Users/F0040RP/shared/RR-workshop-data/state-of-the-union-dataset/txt/McKinley_1897.txt'), WindowsPath('C:/Users/F0040RP/shared/RR-workshop-data/state-of-the-union-dataset/txt/McKinley_1898.txt'), WindowsPath('C:/Users/F0040RP/shared/RR-workshop-data/state-of-the-union-dataset/txt/McKinley_1899.txt'), WindowsPath('C:/Users/F0040RP/shared/RR-workshop-data/state-of-the-union-dataset/txt/McKinley_1900.txt'), WindowsPath('C:/Users/F0040RP/shared/RR-workshop-data/state-of-the-union-dataset/txt/Monroe_1817.txt'), WindowsPath('C:/Users/F0040RP/shared/RR-workshop-data/state-of-the-union-dataset/txt/Monroe_1818.txt'), WindowsPath('C:/Users/F0040RP/shared/RR-workshop-data/state-of-the-union-dataset/txt/Monroe_1819.txt'), WindowsPath('C:/Users/F0040RP/shared/RR-workshop-data/state-of-the-union-dataset/txt/Monroe_1820.txt'), WindowsPath('C:/Users/F0040RP/shared/RR-workshop-data/state-of-the-union-dataset/txt/Monroe_1821.txt'), WindowsPath('C:/Users/F0040RP/shared/RR-workshop-data/state-of-the-union-dataset/txt/Monroe_1822.txt'), WindowsPath('C:/Users/F0040RP/shared/RR-workshop-data/state-of-the-union-dataset/txt/Monroe_1823.txt'), WindowsPath('C:/Users/F0040RP/shared/RR-workshop-data/state-of-the-union-dataset/txt/Monroe_1824.txt'), WindowsPath('C:/Users/F0040RP/shared/RR-workshop-data/state-of-the-union-dataset/txt/Nixon_1970.txt'), WindowsPath('C:/Users/F0040RP/shared/RR-workshop-data/state-of-the-union-dataset/txt/Nixon_1971.txt'), WindowsPath('C:/Users/F0040RP/shared/RR-workshop-data/state-of-the-union-dataset/txt/Nixon_1972.txt'), WindowsPath('C:/Users/F0040RP/shared/RR-workshop-data/state-of-the-union-dataset/txt/Nixon_1973.txt'), WindowsPath('C:/Users/F0040RP/shared/RR-workshop-data/state-of-the-union-dataset/txt/Nixon_1974.txt'), WindowsPath('C:/Users/F0040RP/shared/RR-workshop-data/state-of-the-union-dataset/txt/Obama_2009.txt'), WindowsPath('C:/Users/F0040RP/shared/RR-workshop-data/state-of-the-union-dataset/txt/Obama_2010.txt'), WindowsPath('C:/Users/F0040RP/shared/RR-workshop-data/state-of-the-union-dataset/txt/Obama_2011.txt'), WindowsPath('C:/Users/F0040RP/shared/RR-workshop-data/state-of-the-union-dataset/txt/Obama_2012.txt'), WindowsPath('C:/Users/F0040RP/shared/RR-workshop-data/state-of-the-union-dataset/txt/Obama_2013.txt'), WindowsPath('C:/Users/F0040RP/shared/RR-workshop-data/state-of-the-union-dataset/txt/Obama_2014.txt'), WindowsPath('C:/Users/F0040RP/shared/RR-workshop-data/state-of-the-union-dataset/txt/Obama_2015.txt'), WindowsPath('C:/Users/F0040RP/shared/RR-workshop-data/state-of-the-union-dataset/txt/Obama_2016.txt'), WindowsPath('C:/Users/F0040RP/shared/RR-workshop-data/state-of-the-union-dataset/txt/Pierce_1853.txt'), WindowsPath('C:/Users/F0040RP/shared/RR-workshop-data/state-of-the-union-dataset/txt/Pierce_1854.txt'), WindowsPath('C:/Users/F0040RP/shared/RR-workshop-data/state-of-the-union-dataset/txt/Pierce_1855.txt'), WindowsPath('C:/Users/F0040RP/shared/RR-workshop-data/state-of-the-union-dataset/txt/Pierce_1856.txt'), WindowsPath('C:/Users/F0040RP/shared/RR-workshop-data/state-of-the-union-dataset/txt/Polk_1845.txt'), WindowsPath('C:/Users/F0040RP/shared/RR-workshop-data/state-of-the-union-dataset/txt/Polk_1846.txt'), WindowsPath('C:/Users/F0040RP/shared/RR-workshop-data/state-of-the-union-dataset/txt/Polk_1847.txt'), WindowsPath('C:/Users/F0040RP/shared/RR-workshop-data/state-of-the-union-dataset/txt/Polk_1848.txt'), WindowsPath('C:/Users/F0040RP/shared/RR-workshop-data/state-of-the-union-dataset/txt/Reagan_1982.txt'), WindowsPath('C:/Users/F0040RP/shared/RR-workshop-data/state-of-the-union-dataset/txt/Reagan_1983.txt'), WindowsPath('C:/Users/F0040RP/shared/RR-workshop-data/state-of-the-union-dataset/txt/Reagan_1984.txt'), WindowsPath('C:/Users/F0040RP/shared/RR-workshop-data/state-of-the-union-dataset/txt/Reagan_1985.txt'), WindowsPath('C:/Users/F0040RP/shared/RR-workshop-data/state-of-the-union-dataset/txt/Reagan_1986.txt'), WindowsPath('C:/Users/F0040RP/shared/RR-workshop-data/state-of-the-union-dataset/txt/Reagan_1987.txt'), WindowsPath('C:/Users/F0040RP/shared/RR-workshop-data/state-of-the-union-dataset/txt/Reagan_1988.txt'), WindowsPath('C:/Users/F0040RP/shared/RR-workshop-data/state-of-the-union-dataset/txt/Roosevelt_1901.txt'), WindowsPath('C:/Users/F0040RP/shared/RR-workshop-data/state-of-the-union-dataset/txt/Roosevelt_1902.txt'), WindowsPath('C:/Users/F0040RP/shared/RR-workshop-data/state-of-the-union-dataset/txt/Roosevelt_1903.txt'), WindowsPath('C:/Users/F0040RP/shared/RR-workshop-data/state-of-the-union-dataset/txt/Roosevelt_1904.txt'), WindowsPath('C:/Users/F0040RP/shared/RR-workshop-data/state-of-the-union-dataset/txt/Roosevelt_1905.txt'), WindowsPath('C:/Users/F0040RP/shared/RR-workshop-data/state-of-the-union-dataset/txt/Roosevelt_1906.txt'), WindowsPath('C:/Users/F0040RP/shared/RR-workshop-data/state-of-the-union-dataset/txt/Roosevelt_1907.txt'), WindowsPath('C:/Users/F0040RP/shared/RR-workshop-data/state-of-the-union-dataset/txt/Roosevelt_1908.txt'), WindowsPath('C:/Users/F0040RP/shared/RR-workshop-data/state-of-the-union-dataset/txt/Roosevelt_1934.txt'), WindowsPath('C:/Users/F0040RP/shared/RR-workshop-data/state-of-the-union-dataset/txt/Roosevelt_1935.txt'), WindowsPath('C:/Users/F0040RP/shared/RR-workshop-data/state-of-the-union-dataset/txt/Roosevelt_1936.txt'), WindowsPath('C:/Users/F0040RP/shared/RR-workshop-data/state-of-the-union-dataset/txt/Roosevelt_1937.txt'), WindowsPath('C:/Users/F0040RP/shared/RR-workshop-data/state-of-the-union-dataset/txt/Roosevelt_1938.txt'), WindowsPath('C:/Users/F0040RP/shared/RR-workshop-data/state-of-the-union-dataset/txt/Roosevelt_1939.txt'), WindowsPath('C:/Users/F0040RP/shared/RR-workshop-data/state-of-the-union-dataset/txt/Roosevelt_1940.txt'), WindowsPath('C:/Users/F0040RP/shared/RR-workshop-data/state-of-the-union-dataset/txt/Roosevelt_1941.txt'), WindowsPath('C:/Users/F0040RP/shared/RR-workshop-data/state-of-the-union-dataset/txt/Roosevelt_1942.txt'), WindowsPath('C:/Users/F0040RP/shared/RR-workshop-data/state-of-the-union-dataset/txt/Roosevelt_1943.txt'), WindowsPath('C:/Users/F0040RP/shared/RR-workshop-data/state-of-the-union-dataset/txt/Roosevelt_1944.txt'), WindowsPath('C:/Users/F0040RP/shared/RR-workshop-data/state-of-the-union-dataset/txt/Roosevelt_1945.txt'), WindowsPath('C:/Users/F0040RP/shared/RR-workshop-data/state-of-the-union-dataset/txt/Taft_1909.txt'), WindowsPath('C:/Users/F0040RP/shared/RR-workshop-data/state-of-the-union-dataset/txt/Taft_1910.txt'), WindowsPath('C:/Users/F0040RP/shared/RR-workshop-data/state-of-the-union-dataset/txt/Taft_1911.txt'), WindowsPath('C:/Users/F0040RP/shared/RR-workshop-data/state-of-the-union-dataset/txt/Taft_1912.txt'), WindowsPath('C:/Users/F0040RP/shared/RR-workshop-data/state-of-the-union-dataset/txt/Taylor_1849.txt'), WindowsPath('C:/Users/F0040RP/shared/RR-workshop-data/state-of-the-union-dataset/txt/Truman_1946.txt'), WindowsPath('C:/Users/F0040RP/shared/RR-workshop-data/state-of-the-union-dataset/txt/Truman_1947.txt'), WindowsPath('C:/Users/F0040RP/shared/RR-workshop-data/state-of-the-union-dataset/txt/Truman_1948.txt'), WindowsPath('C:/Users/F0040RP/shared/RR-workshop-data/state-of-the-union-dataset/txt/Truman_1949.txt'), WindowsPath('C:/Users/F0040RP/shared/RR-workshop-data/state-of-the-union-dataset/txt/Truman_1950.txt'), WindowsPath('C:/Users/F0040RP/shared/RR-workshop-data/state-of-the-union-dataset/txt/Truman_1951.txt'), WindowsPath('C:/Users/F0040RP/shared/RR-workshop-data/state-of-the-union-dataset/txt/Truman_1952.txt'), WindowsPath('C:/Users/F0040RP/shared/RR-workshop-data/state-of-the-union-dataset/txt/Truman_1953.txt'), WindowsPath('C:/Users/F0040RP/shared/RR-workshop-data/state-of-the-union-dataset/txt/Trump_2017.txt'), WindowsPath('C:/Users/F0040RP/shared/RR-workshop-data/state-of-the-union-dataset/txt/Trump_2018.txt'), WindowsPath('C:/Users/F0040RP/shared/RR-workshop-data/state-of-the-union-dataset/txt/Trump_2019.txt'), WindowsPath('C:/Users/F0040RP/shared/RR-workshop-data/state-of-the-union-dataset/txt/Trump_2020.txt'), WindowsPath('C:/Users/F0040RP/shared/RR-workshop-data/state-of-the-union-dataset/txt/Tyler_1841.txt'), WindowsPath('C:/Users/F0040RP/shared/RR-workshop-data/state-of-the-union-dataset/txt/Tyler_1842.txt'), WindowsPath('C:/Users/F0040RP/shared/RR-workshop-data/state-of-the-union-dataset/txt/Tyler_1843.txt'), WindowsPath('C:/Users/F0040RP/shared/RR-workshop-data/state-of-the-union-dataset/txt/Tyler_1844.txt'), WindowsPath('C:/Users/F0040RP/shared/RR-workshop-data/state-of-the-union-dataset/txt/Washington_1790.txt'), WindowsPath('C:/Users/F0040RP/shared/RR-workshop-data/state-of-the-union-dataset/txt/Washington_1791.txt'), WindowsPath('C:/Users/F0040RP/shared/RR-workshop-data/state-of-the-union-dataset/txt/Washington_1792.txt'), WindowsPath('C:/Users/F0040RP/shared/RR-workshop-data/state-of-the-union-dataset/txt/Washington_1793.txt'), WindowsPath('C:/Users/F0040RP/shared/RR-workshop-data/state-of-the-union-dataset/txt/Washington_1794.txt'), WindowsPath('C:/Users/F0040RP/shared/RR-workshop-data/state-of-the-union-dataset/txt/Washington_1795.txt'), WindowsPath('C:/Users/F0040RP/shared/RR-workshop-data/state-of-the-union-dataset/txt/Washington_1796.txt'), WindowsPath('C:/Users/F0040RP/shared/RR-workshop-data/state-of-the-union-dataset/txt/Wilson_1913.txt'), WindowsPath('C:/Users/F0040RP/shared/RR-workshop-data/state-of-the-union-dataset/txt/Wilson_1914.txt'), WindowsPath('C:/Users/F0040RP/shared/RR-workshop-data/state-of-the-union-dataset/txt/Wilson_1915.txt'), WindowsPath('C:/Users/F0040RP/shared/RR-workshop-data/state-of-the-union-dataset/txt/Wilson_1916.txt'), WindowsPath('C:/Users/F0040RP/shared/RR-workshop-data/state-of-the-union-dataset/txt/Wilson_1917.txt'), WindowsPath('C:/Users/F0040RP/shared/RR-workshop-data/state-of-the-union-dataset/txt/Wilson_1918.txt'), WindowsPath('C:/Users/F0040RP/shared/RR-workshop-data/state-of-the-union-dataset/txt/Wilson_1919.txt'), WindowsPath('C:/Users/F0040RP/shared/RR-workshop-data/state-of-the-union-dataset/txt/Wilson_1920.txt')]\n"
     ]
    }
   ],
   "source": [
    "# Open dataset of texts\n",
    "sotudir = Path(\"~/shared/RR-workshop-data/state-of-the-union-dataset/txt\").expanduser()\n",
    "print(sotudir)\n",
    "\n",
    "# We can then print out all files ending in the \".txt\" extension using:\n",
    "pathlist = sorted(sotudir.glob(\"*.txt\")) \n",
    "print(pathlist)"
   ]
  },
  {
   "cell_type": "markdown",
   "metadata": {},
   "source": [
    "For each path in the pathlist, we can extract only the name of the file (rather than the whole path) using the .name method. For more on pathlib functions and methods see [pathlib documentation](https://docs.python.org/3/library/pathlib.html)."
   ]
  },
  {
   "cell_type": "code",
   "execution_count": null,
   "metadata": {},
   "outputs": [],
   "source": []
  }
 ],
 "metadata": {
  "kernelspec": {
   "display_name": "Python 3 (ipykernel)",
   "language": "python",
   "name": "python3"
  },
  "language_info": {
   "codemirror_mode": {
    "name": "ipython",
    "version": 3
   },
   "file_extension": ".py",
   "mimetype": "text/x-python",
   "name": "python",
   "nbconvert_exporter": "python",
   "pygments_lexer": "ipython3",
   "version": "3.11.4"
  },
  "vscode": {
   "interpreter": {
    "hash": "92ccb6e3f8e1ba46ac70611fe300a00d231540f34c9f821035b67580ebdf166e"
   }
  }
 },
 "nbformat": 4,
 "nbformat_minor": 2
}
