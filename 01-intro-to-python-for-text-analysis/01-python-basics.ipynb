{
 "cells": [
  {
   "cell_type": "markdown",
   "metadata": {},
   "source": [
    "# Basics of Python\n",
    "\n",
    "Python is a\n",
    "\n",
    "- high-level\n",
    "- interpreted\n",
    "- multi-paradigm\n",
    "\n",
    "programming language.\n"
   ]
  },
  {
   "cell_type": "markdown",
   "metadata": {},
   "source": [
    "## Numbers\n"
   ]
  },
  {
   "cell_type": "code",
   "execution_count": null,
   "metadata": {},
   "outputs": [],
   "source": []
  },
  {
   "cell_type": "markdown",
   "metadata": {},
   "source": [
    "## Objects in Python\n",
    "\n",
    "Before we dive deeper into more complex elements of Python, we should briefly mention the important concept of _objects_ in programming.\n",
    "\n",
    "An _object_ in this context is some sort of structure that has one ore more specific _properties_, which define its _state_. An object also often defines special functions that can interact with these properties called _methods_.\n",
    "\n",
    "Which properties a particular _object_ has is defined by its _class_, which you can think of as a blueprint for the object. Every object of the same class will have the same methods and properties, but the properties might have different values.\n",
    "\n",
    "Every class defines an initialization method that can be used to create a new object of this class. This is called _instantiation_ of an object: The object is an instance of this class.\n",
    "\n",
    "Almost everything in Python is (also) an object! For example, when we type the following code:\n",
    "\n",
    "```{python}\n",
    "x = 3\n",
    "```\n",
    "\n",
    "We are instantiating an object of the class `int`! This is not immediately obvious, because we are using a kind of short-hand by typing inthe literal value of this integer. But Python converts this short-hand into the following:\n"
   ]
  },
  {
   "cell_type": "markdown",
   "metadata": {},
   "source": [
    "Here, we are calling the initialization function of the `int` class, passing the value `3` to it, and receive back an object of type `int`:\n"
   ]
  },
  {
   "cell_type": "code",
   "execution_count": null,
   "metadata": {},
   "outputs": [],
   "source": [
    "x = int(3)\n",
    "isinstance(x, int)"
   ]
  },
  {
   "cell_type": "markdown",
   "metadata": {},
   "source": [
    "This may seem awfully abstract for now! We will encounter many examples of objects and their methods in this workshop series that will hopefully illustrate the usefulness of these concepts.\n"
   ]
  },
  {
   "cell_type": "markdown",
   "metadata": {},
   "source": [
    "## Strings\n"
   ]
  },
  {
   "cell_type": "markdown",
   "metadata": {},
   "source": [
    "## Lists\n"
   ]
  },
  {
   "cell_type": "markdown",
   "metadata": {},
   "source": [
    "## Dictionaries\n"
   ]
  },
  {
   "cell_type": "markdown",
   "metadata": {},
   "source": []
  }
 ],
 "metadata": {
  "kernelspec": {
   "display_name": "Python 3",
   "language": "python",
   "name": "python3"
  },
  "language_info": {
   "codemirror_mode": {
    "name": "ipython",
    "version": 3
   },
   "file_extension": ".py",
   "mimetype": "text/x-python",
   "name": "python",
   "nbconvert_exporter": "python",
   "pygments_lexer": "ipython3",
   "version": "3.10.8"
  }
 },
 "nbformat": 4,
 "nbformat_minor": 2
}
