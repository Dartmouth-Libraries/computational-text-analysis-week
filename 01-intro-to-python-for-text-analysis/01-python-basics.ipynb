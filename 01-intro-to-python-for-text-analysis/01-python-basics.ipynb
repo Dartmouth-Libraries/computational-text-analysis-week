{
 "cells": [
  {
   "cell_type": "markdown",
   "metadata": {},
   "source": [
    "# Basics of Python\n",
    "\n",
    "Python is a\n",
    "\n",
    "- high-level\n",
    "- interpreted\n",
    "- multi-paradigm\n",
    "\n",
    "programming language.\n"
   ]
  },
  {
   "cell_type": "markdown",
   "metadata": {},
   "source": [
    "## Numbers\n"
   ]
  },
  {
   "cell_type": "code",
   "execution_count": null,
   "metadata": {},
   "outputs": [],
   "source": []
  },
  {
   "cell_type": "markdown",
   "metadata": {},
   "source": [
    "## Strings\n"
   ]
  },
  {
   "cell_type": "markdown",
   "metadata": {},
   "source": [
    "## Lists\n"
   ]
  },
  {
   "cell_type": "markdown",
   "metadata": {},
   "source": [
    "## Dictionaries\n"
   ]
  },
  {
   "cell_type": "markdown",
   "metadata": {},
   "source": [
    "## Objects in Python\n",
    "\n",
    "Objects are an important concept in programming, particularly in a programming paradigm called object-oriented programming.\n",
    "\n",
    "An _object_ in this context is some sort of structure that has one ore more specific _properties_, which define its _state_. An object also often defines special functions that can interact with these properties called _methods_.\n",
    "\n",
    "Which properties a particular _object_ has is defined by its _class_, which you can think of as a blueprint for the object. Every object of the same class will have the same methods and properties, but the properties might have different values.\n",
    "\n",
    "Every class defines an initialization method that can be used to create a new object of this class. This is called _instantiation_ of an object: The object is an instance of this class.\n",
    "\n",
    "Almost everything in Python is (also) an object! For example, when we type the following code:\n",
    "\n",
    "```{python}\n",
    "x = 3\n",
    "```\n",
    "\n",
    "We are instantiating an object of the class `int`! This is not immediately obvious, because we are using a kind of short-hand by typing inthe literal value of this integer. But Python converts this short-hand into the following:\n"
   ]
  },
  {
   "cell_type": "code",
   "execution_count": null,
   "metadata": {},
   "outputs": [],
   "source": [
    "x = int(3)"
   ]
  },
  {
   "cell_type": "markdown",
   "metadata": {},
   "source": [
    "Here, we are calling the initialization function of the `int` class, passing the value `3` to it, and receive back an object of type `int`:\n"
   ]
  },
  {
   "cell_type": "code",
   "execution_count": null,
   "metadata": {},
   "outputs": [],
   "source": [
    "isinstance(x, int)"
   ]
  },
  {
   "cell_type": "markdown",
   "metadata": {},
   "source": [
    "This is a little more explicit when we create a new list or dictionary:\n"
   ]
  },
  {
   "cell_type": "code",
   "execution_count": null,
   "metadata": {},
   "outputs": [],
   "source": [
    "my_list = list()\n",
    "my_dict = dict()"
   ]
  },
  {
   "cell_type": "markdown",
   "metadata": {},
   "source": [
    "The functions we called to access a dictionary's keys or values are examples of methods:\n"
   ]
  },
  {
   "cell_type": "code",
   "execution_count": null,
   "metadata": {},
   "outputs": [],
   "source": [
    "my_dict = {\"a\": 1, \"b\": 2}\n",
    "my_dict.keys()"
   ]
  },
  {
   "cell_type": "markdown",
   "metadata": {},
   "source": [
    "Note that `my_dict.keys()` returns another object, this time of the class `dict_keys`! This object behaves like a `list` for most intents and purposes, but it offers a few extra things (which are out-of-scope for this introduction).\n",
    "\n",
    "So while all this may seem awfully abstract and technical, objects can actually help us structure our code much more intelligibly.\n",
    "\n",
    "For example:\n",
    "\n",
    "Let's say we need to deal with the path to a file in our code. We could use a string to represent the path like so:\n"
   ]
  },
  {
   "cell_type": "code",
   "execution_count": null,
   "metadata": {},
   "outputs": [],
   "source": [
    "my_path = \"\""
   ]
  },
  {
   "cell_type": "markdown",
   "metadata": {},
   "source": []
  }
 ],
 "metadata": {
  "kernelspec": {
   "display_name": "Python 3",
   "language": "python",
   "name": "python3"
  },
  "language_info": {
   "codemirror_mode": {
    "name": "ipython",
    "version": 3
   },
   "file_extension": ".py",
   "mimetype": "text/x-python",
   "name": "python",
   "nbconvert_exporter": "python",
   "pygments_lexer": "ipython3",
   "version": "3.10.8"
  }
 },
 "nbformat": 4,
 "nbformat_minor": 2
}
