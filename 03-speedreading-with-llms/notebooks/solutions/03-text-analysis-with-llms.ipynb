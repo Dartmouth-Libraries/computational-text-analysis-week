{
 "cells": [
  {
   "cell_type": "markdown",
   "metadata": {},
   "source": [
    "# Text Analysis with Large Language Models\n",
    "\n",
    "As we have seen in the previous notebooks, Large Language Models are very powerful text processing engines. We can therefore prompt them to do tasks beyond text summarization for us.\n",
    "\n",
    "In this notebook, we will use an LLM to tackle the text analysis tasks we have previously implemented in [Session 2](../../../02-text-by-the-numbers/).\n"
   ]
  },
  {
   "cell_type": "markdown",
   "metadata": {},
   "source": [
    "## Stopword removal"
   ]
  },
  {
   "cell_type": "markdown",
   "metadata": {},
   "source": [
    "## Stemming"
   ]
  },
  {
   "cell_type": "markdown",
   "metadata": {},
   "source": [
    "## Lemmatization"
   ]
  },
  {
   "cell_type": "markdown",
   "metadata": {},
   "source": [
    "## Topic modeling"
   ]
  },
  {
   "cell_type": "markdown",
   "metadata": {},
   "source": [
    "## Discussion\n",
    "\n",
    "While it was relatively little work to achieve these results above, we have no insights into the process _how_ the LLM arrived at this output. This makes reproducing and/or discussing the results much harder.\n"
   ]
  },
  {
   "cell_type": "markdown",
   "metadata": {},
   "source": []
  }
 ],
 "metadata": {
  "language_info": {
   "name": "python"
  }
 },
 "nbformat": 4,
 "nbformat_minor": 2
}
